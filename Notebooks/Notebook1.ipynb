{
  "cells": [
    {
      "cell_type": "markdown",
      "metadata": {
        "id": "3b41ebea"
      },
      "source": [
        "# Problem Statement: To predict the Food Ratings\n"
      ]
    },
    {
      "cell_type": "markdown",
      "metadata": {
        "id": "51a0f797"
      },
      "source": [
        "## Import Libraries"
      ]
    },
    {
      "cell_type": "code",
      "execution_count": null,
      "metadata": {
        "id": "a8247767"
      },
      "outputs": [],
      "source": [
        "# Data wrangling\n",
        "import numpy as np\n",
        "import pandas as pd\n",
        "\n",
        "# Data visualisation\n",
        "import seaborn as sns\n",
        "import matplotlib.pyplot as plt\n",
        "%matplotlib inline\n",
        "\n",
        "# Machine learning\n",
        "from sklearn.preprocessing import StandardScaler,OneHotEncoder\n",
        "from sklearn.model_selection import train_test_split,GridSearchCV\n",
        "from sklearn.feature_selection import GenericUnivariateSelect,mutual_info_classif,SelectKBest\n",
        "from sklearn.metrics import accuracy_score,ConfusionMatrixDisplay,classification_report,mean_absolute_error\n",
        "from sklearn.pipeline import Pipeline\n",
        "\n",
        "from sklearn.linear_model import LogisticRegression\n",
        "from sklearn.neighbors import KNeighborsClassifier\n",
        "from sklearn.tree import DecisionTreeClassifier\n",
        "from sklearn.ensemble import RandomForestClassifier,GradientBoostingClassifier\n",
        "\n",
        "from sklearn.feature_extraction.text import TfidfVectorizer\n"
      ]
    },
    {
      "cell_type": "code",
      "execution_count": null,
      "metadata": {
        "id": "lWVJn_QciSVi"
      },
      "outputs": [],
      "source": [
        "import warnings\n",
        "warnings.filterwarnings(\"ignore\")"
      ]
    },
    {
      "cell_type": "markdown",
      "metadata": {
        "id": "ea16352f"
      },
      "source": [
        "# Import Dataset"
      ]
    },
    {
      "cell_type": "code",
      "execution_count": null,
      "metadata": {
        "id": "51aefe10"
      },
      "outputs": [],
      "source": [
        "train = pd.read_csv(\"/content/train.csv\")\n",
        "test = pd.read_csv(\"/content/test.csv\")"
      ]
    },
    {
      "cell_type": "markdown",
      "metadata": {
        "id": "b7345541"
      },
      "source": [
        "# Exploratory Data Analysis"
      ]
    },
    {
      "cell_type": "markdown",
      "metadata": {
        "id": "252eb35c"
      },
      "source": [
        "### Examine data"
      ]
    },
    {
      "cell_type": "code",
      "execution_count": null,
      "metadata": {
        "colab": {
          "base_uri": "https://localhost:8080/"
        },
        "id": "7879d98e",
        "outputId": "3dec8bef-02d7-4e87-963f-7c443611c9fc"
      },
      "outputs": [
        {
          "output_type": "stream",
          "name": "stdout",
          "text": [
            "TRAIN DATA: (13636, 15)\n",
            "TEST DATA: (4546, 14)\n"
          ]
        }
      ],
      "source": [
        "print(\"TRAIN DATA:\", train.shape)\n",
        "print(\"TEST DATA:\", test.shape)"
      ]
    },
    {
      "cell_type": "code",
      "execution_count": null,
      "metadata": {
        "colab": {
          "base_uri": "https://localhost:8080/"
        },
        "id": "74fc0ef7",
        "outputId": "8a880bc0-1555-410d-981c-d3477d9f10d6"
      },
      "outputs": [
        {
          "output_type": "execute_result",
          "data": {
            "text/plain": [
              "Index(['ID', 'RecipeNumber', 'RecipeCode', 'RecipeName', 'CommentID', 'UserID',\n",
              "       'UserName', 'UserReputation', 'CreationTimestamp', 'ReplyCount',\n",
              "       'ThumbsUpCount', 'ThumbsDownCount', 'Rating', 'BestScore',\n",
              "       'Recipe_Review'],\n",
              "      dtype='object')"
            ]
          },
          "metadata": {},
          "execution_count": 103
        }
      ],
      "source": [
        "train.columns"
      ]
    },
    {
      "cell_type": "code",
      "execution_count": null,
      "metadata": {
        "colab": {
          "base_uri": "https://localhost:8080/",
          "height": 486
        },
        "id": "99fa3a00",
        "outputId": "55238396-8ede-4c84-92f0-78c4de5db183"
      },
      "outputs": [
        {
          "output_type": "execute_result",
          "data": {
            "text/plain": [
              "    ID  RecipeNumber  RecipeCode                              RecipeName  \\\n",
              "0   70            71       12259  Banana Bars with Cream Cheese Frosting   \n",
              "1   72            88        8202                        Simple Taco Soup   \n",
              "2  458             3        2832                       Cheeseburger Soup   \n",
              "3    7            50      100276               Grilled Huli Huli Chicken   \n",
              "4   60            12       19731                        Cauliflower Soup   \n",
              "\n",
              "                     CommentID                         UserID        UserName  \\\n",
              "0   sp_aUSaElGf_12259_c_149978  u_1oKVaBmiEKwAFyiHrDLoWpbel0J   misscoffeepot   \n",
              "1    sp_aUSaElGf_8202_c_310332  u_1oKZeRIXYzGNhGW8OMR3O4lX1ih  MichelleMalone   \n",
              "2    sp_aUSaElGf_2832_c_206522  u_1oKYHUtdaD48KJCDYq5wfpAUxWz       jeannem32   \n",
              "3  sp_aUSaElGf_100276_c_434088  u_1oKZCQcKQZdQhDVBS7oISc216VA           ds422   \n",
              "4   sp_aUSaElGf_19731_c_387011  u_1oKd4sudZQPgu6YALiC7bW7mKMs     SusanHoward   \n",
              "\n",
              "   UserReputation  CreationTimestamp  ReplyCount  ThumbsUpCount  \\\n",
              "0              20         1622717078           0              0   \n",
              "1               1         1622717852           0              0   \n",
              "2               1         1622717357           0              0   \n",
              "3               1         1622648899           0              0   \n",
              "4               1         1622718260           0              0   \n",
              "\n",
              "   ThumbsDownCount  Rating  BestScore  \\\n",
              "0                0       5        100   \n",
              "1                1       5        100   \n",
              "2                0       3        100   \n",
              "3                0       5        100   \n",
              "4                0       4        100   \n",
              "\n",
              "                                       Recipe_Review  \n",
              "0  great recipe! I have made them just as written...  \n",
              "1  This is an easy and quick recipe that is great...  \n",
              "2  I think I was looking for something extra spec...  \n",
              "3  This is our favorite grilled chicken recipe.  ...  \n",
              "4  Great basic recipe. I added 2 teaspoons Tuscan...  "
            ],
            "text/html": [
              "\n",
              "  <div id=\"df-5742f453-8a68-4751-9e20-c72495ad6083\" class=\"colab-df-container\">\n",
              "    <div>\n",
              "<style scoped>\n",
              "    .dataframe tbody tr th:only-of-type {\n",
              "        vertical-align: middle;\n",
              "    }\n",
              "\n",
              "    .dataframe tbody tr th {\n",
              "        vertical-align: top;\n",
              "    }\n",
              "\n",
              "    .dataframe thead th {\n",
              "        text-align: right;\n",
              "    }\n",
              "</style>\n",
              "<table border=\"1\" class=\"dataframe\">\n",
              "  <thead>\n",
              "    <tr style=\"text-align: right;\">\n",
              "      <th></th>\n",
              "      <th>ID</th>\n",
              "      <th>RecipeNumber</th>\n",
              "      <th>RecipeCode</th>\n",
              "      <th>RecipeName</th>\n",
              "      <th>CommentID</th>\n",
              "      <th>UserID</th>\n",
              "      <th>UserName</th>\n",
              "      <th>UserReputation</th>\n",
              "      <th>CreationTimestamp</th>\n",
              "      <th>ReplyCount</th>\n",
              "      <th>ThumbsUpCount</th>\n",
              "      <th>ThumbsDownCount</th>\n",
              "      <th>Rating</th>\n",
              "      <th>BestScore</th>\n",
              "      <th>Recipe_Review</th>\n",
              "    </tr>\n",
              "  </thead>\n",
              "  <tbody>\n",
              "    <tr>\n",
              "      <th>0</th>\n",
              "      <td>70</td>\n",
              "      <td>71</td>\n",
              "      <td>12259</td>\n",
              "      <td>Banana Bars with Cream Cheese Frosting</td>\n",
              "      <td>sp_aUSaElGf_12259_c_149978</td>\n",
              "      <td>u_1oKVaBmiEKwAFyiHrDLoWpbel0J</td>\n",
              "      <td>misscoffeepot</td>\n",
              "      <td>20</td>\n",
              "      <td>1622717078</td>\n",
              "      <td>0</td>\n",
              "      <td>0</td>\n",
              "      <td>0</td>\n",
              "      <td>5</td>\n",
              "      <td>100</td>\n",
              "      <td>great recipe! I have made them just as written...</td>\n",
              "    </tr>\n",
              "    <tr>\n",
              "      <th>1</th>\n",
              "      <td>72</td>\n",
              "      <td>88</td>\n",
              "      <td>8202</td>\n",
              "      <td>Simple Taco Soup</td>\n",
              "      <td>sp_aUSaElGf_8202_c_310332</td>\n",
              "      <td>u_1oKZeRIXYzGNhGW8OMR3O4lX1ih</td>\n",
              "      <td>MichelleMalone</td>\n",
              "      <td>1</td>\n",
              "      <td>1622717852</td>\n",
              "      <td>0</td>\n",
              "      <td>0</td>\n",
              "      <td>1</td>\n",
              "      <td>5</td>\n",
              "      <td>100</td>\n",
              "      <td>This is an easy and quick recipe that is great...</td>\n",
              "    </tr>\n",
              "    <tr>\n",
              "      <th>2</th>\n",
              "      <td>458</td>\n",
              "      <td>3</td>\n",
              "      <td>2832</td>\n",
              "      <td>Cheeseburger Soup</td>\n",
              "      <td>sp_aUSaElGf_2832_c_206522</td>\n",
              "      <td>u_1oKYHUtdaD48KJCDYq5wfpAUxWz</td>\n",
              "      <td>jeannem32</td>\n",
              "      <td>1</td>\n",
              "      <td>1622717357</td>\n",
              "      <td>0</td>\n",
              "      <td>0</td>\n",
              "      <td>0</td>\n",
              "      <td>3</td>\n",
              "      <td>100</td>\n",
              "      <td>I think I was looking for something extra spec...</td>\n",
              "    </tr>\n",
              "    <tr>\n",
              "      <th>3</th>\n",
              "      <td>7</td>\n",
              "      <td>50</td>\n",
              "      <td>100276</td>\n",
              "      <td>Grilled Huli Huli Chicken</td>\n",
              "      <td>sp_aUSaElGf_100276_c_434088</td>\n",
              "      <td>u_1oKZCQcKQZdQhDVBS7oISc216VA</td>\n",
              "      <td>ds422</td>\n",
              "      <td>1</td>\n",
              "      <td>1622648899</td>\n",
              "      <td>0</td>\n",
              "      <td>0</td>\n",
              "      <td>0</td>\n",
              "      <td>5</td>\n",
              "      <td>100</td>\n",
              "      <td>This is our favorite grilled chicken recipe.  ...</td>\n",
              "    </tr>\n",
              "    <tr>\n",
              "      <th>4</th>\n",
              "      <td>60</td>\n",
              "      <td>12</td>\n",
              "      <td>19731</td>\n",
              "      <td>Cauliflower Soup</td>\n",
              "      <td>sp_aUSaElGf_19731_c_387011</td>\n",
              "      <td>u_1oKd4sudZQPgu6YALiC7bW7mKMs</td>\n",
              "      <td>SusanHoward</td>\n",
              "      <td>1</td>\n",
              "      <td>1622718260</td>\n",
              "      <td>0</td>\n",
              "      <td>0</td>\n",
              "      <td>0</td>\n",
              "      <td>4</td>\n",
              "      <td>100</td>\n",
              "      <td>Great basic recipe. I added 2 teaspoons Tuscan...</td>\n",
              "    </tr>\n",
              "  </tbody>\n",
              "</table>\n",
              "</div>\n",
              "    <div class=\"colab-df-buttons\">\n",
              "\n",
              "  <div class=\"colab-df-container\">\n",
              "    <button class=\"colab-df-convert\" onclick=\"convertToInteractive('df-5742f453-8a68-4751-9e20-c72495ad6083')\"\n",
              "            title=\"Convert this dataframe to an interactive table.\"\n",
              "            style=\"display:none;\">\n",
              "\n",
              "  <svg xmlns=\"http://www.w3.org/2000/svg\" height=\"24px\" viewBox=\"0 -960 960 960\">\n",
              "    <path d=\"M120-120v-720h720v720H120Zm60-500h600v-160H180v160Zm220 220h160v-160H400v160Zm0 220h160v-160H400v160ZM180-400h160v-160H180v160Zm440 0h160v-160H620v160ZM180-180h160v-160H180v160Zm440 0h160v-160H620v160Z\"/>\n",
              "  </svg>\n",
              "    </button>\n",
              "\n",
              "  <style>\n",
              "    .colab-df-container {\n",
              "      display:flex;\n",
              "      gap: 12px;\n",
              "    }\n",
              "\n",
              "    .colab-df-convert {\n",
              "      background-color: #E8F0FE;\n",
              "      border: none;\n",
              "      border-radius: 50%;\n",
              "      cursor: pointer;\n",
              "      display: none;\n",
              "      fill: #1967D2;\n",
              "      height: 32px;\n",
              "      padding: 0 0 0 0;\n",
              "      width: 32px;\n",
              "    }\n",
              "\n",
              "    .colab-df-convert:hover {\n",
              "      background-color: #E2EBFA;\n",
              "      box-shadow: 0px 1px 2px rgba(60, 64, 67, 0.3), 0px 1px 3px 1px rgba(60, 64, 67, 0.15);\n",
              "      fill: #174EA6;\n",
              "    }\n",
              "\n",
              "    .colab-df-buttons div {\n",
              "      margin-bottom: 4px;\n",
              "    }\n",
              "\n",
              "    [theme=dark] .colab-df-convert {\n",
              "      background-color: #3B4455;\n",
              "      fill: #D2E3FC;\n",
              "    }\n",
              "\n",
              "    [theme=dark] .colab-df-convert:hover {\n",
              "      background-color: #434B5C;\n",
              "      box-shadow: 0px 1px 3px 1px rgba(0, 0, 0, 0.15);\n",
              "      filter: drop-shadow(0px 1px 2px rgba(0, 0, 0, 0.3));\n",
              "      fill: #FFFFFF;\n",
              "    }\n",
              "  </style>\n",
              "\n",
              "    <script>\n",
              "      const buttonEl =\n",
              "        document.querySelector('#df-5742f453-8a68-4751-9e20-c72495ad6083 button.colab-df-convert');\n",
              "      buttonEl.style.display =\n",
              "        google.colab.kernel.accessAllowed ? 'block' : 'none';\n",
              "\n",
              "      async function convertToInteractive(key) {\n",
              "        const element = document.querySelector('#df-5742f453-8a68-4751-9e20-c72495ad6083');\n",
              "        const dataTable =\n",
              "          await google.colab.kernel.invokeFunction('convertToInteractive',\n",
              "                                                    [key], {});\n",
              "        if (!dataTable) return;\n",
              "\n",
              "        const docLinkHtml = 'Like what you see? Visit the ' +\n",
              "          '<a target=\"_blank\" href=https://colab.research.google.com/notebooks/data_table.ipynb>data table notebook</a>'\n",
              "          + ' to learn more about interactive tables.';\n",
              "        element.innerHTML = '';\n",
              "        dataTable['output_type'] = 'display_data';\n",
              "        await google.colab.output.renderOutput(dataTable, element);\n",
              "        const docLink = document.createElement('div');\n",
              "        docLink.innerHTML = docLinkHtml;\n",
              "        element.appendChild(docLink);\n",
              "      }\n",
              "    </script>\n",
              "  </div>\n",
              "\n",
              "\n",
              "<div id=\"df-f96b5701-11d9-4763-9476-b22f70ba025b\">\n",
              "  <button class=\"colab-df-quickchart\" onclick=\"quickchart('df-f96b5701-11d9-4763-9476-b22f70ba025b')\"\n",
              "            title=\"Suggest charts\"\n",
              "            style=\"display:none;\">\n",
              "\n",
              "<svg xmlns=\"http://www.w3.org/2000/svg\" height=\"24px\"viewBox=\"0 0 24 24\"\n",
              "     width=\"24px\">\n",
              "    <g>\n",
              "        <path d=\"M19 3H5c-1.1 0-2 .9-2 2v14c0 1.1.9 2 2 2h14c1.1 0 2-.9 2-2V5c0-1.1-.9-2-2-2zM9 17H7v-7h2v7zm4 0h-2V7h2v10zm4 0h-2v-4h2v4z\"/>\n",
              "    </g>\n",
              "</svg>\n",
              "  </button>\n",
              "\n",
              "<style>\n",
              "  .colab-df-quickchart {\n",
              "      --bg-color: #E8F0FE;\n",
              "      --fill-color: #1967D2;\n",
              "      --hover-bg-color: #E2EBFA;\n",
              "      --hover-fill-color: #174EA6;\n",
              "      --disabled-fill-color: #AAA;\n",
              "      --disabled-bg-color: #DDD;\n",
              "  }\n",
              "\n",
              "  [theme=dark] .colab-df-quickchart {\n",
              "      --bg-color: #3B4455;\n",
              "      --fill-color: #D2E3FC;\n",
              "      --hover-bg-color: #434B5C;\n",
              "      --hover-fill-color: #FFFFFF;\n",
              "      --disabled-bg-color: #3B4455;\n",
              "      --disabled-fill-color: #666;\n",
              "  }\n",
              "\n",
              "  .colab-df-quickchart {\n",
              "    background-color: var(--bg-color);\n",
              "    border: none;\n",
              "    border-radius: 50%;\n",
              "    cursor: pointer;\n",
              "    display: none;\n",
              "    fill: var(--fill-color);\n",
              "    height: 32px;\n",
              "    padding: 0;\n",
              "    width: 32px;\n",
              "  }\n",
              "\n",
              "  .colab-df-quickchart:hover {\n",
              "    background-color: var(--hover-bg-color);\n",
              "    box-shadow: 0 1px 2px rgba(60, 64, 67, 0.3), 0 1px 3px 1px rgba(60, 64, 67, 0.15);\n",
              "    fill: var(--button-hover-fill-color);\n",
              "  }\n",
              "\n",
              "  .colab-df-quickchart-complete:disabled,\n",
              "  .colab-df-quickchart-complete:disabled:hover {\n",
              "    background-color: var(--disabled-bg-color);\n",
              "    fill: var(--disabled-fill-color);\n",
              "    box-shadow: none;\n",
              "  }\n",
              "\n",
              "  .colab-df-spinner {\n",
              "    border: 2px solid var(--fill-color);\n",
              "    border-color: transparent;\n",
              "    border-bottom-color: var(--fill-color);\n",
              "    animation:\n",
              "      spin 1s steps(1) infinite;\n",
              "  }\n",
              "\n",
              "  @keyframes spin {\n",
              "    0% {\n",
              "      border-color: transparent;\n",
              "      border-bottom-color: var(--fill-color);\n",
              "      border-left-color: var(--fill-color);\n",
              "    }\n",
              "    20% {\n",
              "      border-color: transparent;\n",
              "      border-left-color: var(--fill-color);\n",
              "      border-top-color: var(--fill-color);\n",
              "    }\n",
              "    30% {\n",
              "      border-color: transparent;\n",
              "      border-left-color: var(--fill-color);\n",
              "      border-top-color: var(--fill-color);\n",
              "      border-right-color: var(--fill-color);\n",
              "    }\n",
              "    40% {\n",
              "      border-color: transparent;\n",
              "      border-right-color: var(--fill-color);\n",
              "      border-top-color: var(--fill-color);\n",
              "    }\n",
              "    60% {\n",
              "      border-color: transparent;\n",
              "      border-right-color: var(--fill-color);\n",
              "    }\n",
              "    80% {\n",
              "      border-color: transparent;\n",
              "      border-right-color: var(--fill-color);\n",
              "      border-bottom-color: var(--fill-color);\n",
              "    }\n",
              "    90% {\n",
              "      border-color: transparent;\n",
              "      border-bottom-color: var(--fill-color);\n",
              "    }\n",
              "  }\n",
              "</style>\n",
              "\n",
              "  <script>\n",
              "    async function quickchart(key) {\n",
              "      const quickchartButtonEl =\n",
              "        document.querySelector('#' + key + ' button');\n",
              "      quickchartButtonEl.disabled = true;  // To prevent multiple clicks.\n",
              "      quickchartButtonEl.classList.add('colab-df-spinner');\n",
              "      try {\n",
              "        const charts = await google.colab.kernel.invokeFunction(\n",
              "            'suggestCharts', [key], {});\n",
              "      } catch (error) {\n",
              "        console.error('Error during call to suggestCharts:', error);\n",
              "      }\n",
              "      quickchartButtonEl.classList.remove('colab-df-spinner');\n",
              "      quickchartButtonEl.classList.add('colab-df-quickchart-complete');\n",
              "    }\n",
              "    (() => {\n",
              "      let quickchartButtonEl =\n",
              "        document.querySelector('#df-f96b5701-11d9-4763-9476-b22f70ba025b button');\n",
              "      quickchartButtonEl.style.display =\n",
              "        google.colab.kernel.accessAllowed ? 'block' : 'none';\n",
              "    })();\n",
              "  </script>\n",
              "</div>\n",
              "    </div>\n",
              "  </div>\n"
            ],
            "application/vnd.google.colaboratory.intrinsic+json": {
              "type": "dataframe",
              "variable_name": "train",
              "summary": "{\n  \"name\": \"train\",\n  \"rows\": 13636,\n  \"fields\": [\n    {\n      \"column\": \"ID\",\n      \"properties\": {\n        \"dtype\": \"number\",\n        \"std\": 116,\n        \"min\": 0,\n        \"max\": 724,\n        \"num_unique_values\": 701,\n        \"samples\": [\n          472,\n          94,\n          195\n        ],\n        \"semantic_type\": \"\",\n        \"description\": \"\"\n      }\n    },\n    {\n      \"column\": \"RecipeNumber\",\n      \"properties\": {\n        \"dtype\": \"number\",\n        \"std\": 29,\n        \"min\": 1,\n        \"max\": 100,\n        \"num_unique_values\": 100,\n        \"samples\": [\n          99,\n          75,\n          58\n        ],\n        \"semantic_type\": \"\",\n        \"description\": \"\"\n      }\n    },\n    {\n      \"column\": \"RecipeCode\",\n      \"properties\": {\n        \"dtype\": \"number\",\n        \"std\": 23883,\n        \"min\": 386,\n        \"max\": 191775,\n        \"num_unique_values\": 100,\n        \"samples\": [\n          191775,\n          38183,\n          32248\n        ],\n        \"semantic_type\": \"\",\n        \"description\": \"\"\n      }\n    },\n    {\n      \"column\": \"RecipeName\",\n      \"properties\": {\n        \"dtype\": \"category\",\n        \"num_unique_values\": 100,\n        \"samples\": [\n          \"Egg Roll Noodle Bowl\",\n          \"Baked Tilapia\",\n          \"Smothered Chicken Breasts\"\n        ],\n        \"semantic_type\": \"\",\n        \"description\": \"\"\n      }\n    },\n    {\n      \"column\": \"CommentID\",\n      \"properties\": {\n        \"dtype\": \"string\",\n        \"num_unique_values\": 13636,\n        \"samples\": [\n          \"sp_aUSaElGf_7178_c_260266\",\n          \"sp_aUSaElGf_27675_c_136066\",\n          \"sp_aUSaElGf_6086_c_227718\"\n        ],\n        \"semantic_type\": \"\",\n        \"description\": \"\"\n      }\n    },\n    {\n      \"column\": \"UserID\",\n      \"properties\": {\n        \"dtype\": \"string\",\n        \"num_unique_values\": 10783,\n        \"samples\": [\n          \"u_1oKcMP7Wqg03jnBOCMGHANAb9ls\",\n          \"u_1oKdH7YlkFOiGGgOshSyoaldQC3\",\n          \"u_1oKXklmKIgwCpZ802tv9oOKbmcO\"\n        ],\n        \"semantic_type\": \"\",\n        \"description\": \"\"\n      }\n    },\n    {\n      \"column\": \"UserName\",\n      \"properties\": {\n        \"dtype\": \"string\",\n        \"num_unique_values\": 10620,\n        \"samples\": [\n          \"angiemoves\",\n          \"Susan3158\",\n          \"Christy L\"\n        ],\n        \"semantic_type\": \"\",\n        \"description\": \"\"\n      }\n    },\n    {\n      \"column\": \"UserReputation\",\n      \"properties\": {\n        \"dtype\": \"number\",\n        \"std\": 10,\n        \"min\": 0,\n        \"max\": 510,\n        \"num_unique_values\": 20,\n        \"samples\": [\n          20,\n          130,\n          220\n        ],\n        \"semantic_type\": \"\",\n        \"description\": \"\"\n      }\n    },\n    {\n      \"column\": \"CreationTimestamp\",\n      \"properties\": {\n        \"dtype\": \"number\",\n        \"std\": 5444020,\n        \"min\": 1613035336,\n        \"max\": 1665756035,\n        \"num_unique_values\": 2422,\n        \"samples\": [\n          1622718427,\n          1622717755,\n          1622718082\n        ],\n        \"semantic_type\": \"\",\n        \"description\": \"\"\n      }\n    },\n    {\n      \"column\": \"ReplyCount\",\n      \"properties\": {\n        \"dtype\": \"number\",\n        \"std\": 0,\n        \"min\": 0,\n        \"max\": 3,\n        \"num_unique_values\": 4,\n        \"samples\": [\n          1,\n          3,\n          0\n        ],\n        \"semantic_type\": \"\",\n        \"description\": \"\"\n      }\n    },\n    {\n      \"column\": \"ThumbsUpCount\",\n      \"properties\": {\n        \"dtype\": \"number\",\n        \"std\": 4,\n        \"min\": 0,\n        \"max\": 80,\n        \"num_unique_values\": 57,\n        \"samples\": [\n          0,\n          5,\n          55\n        ],\n        \"semantic_type\": \"\",\n        \"description\": \"\"\n      }\n    },\n    {\n      \"column\": \"ThumbsDownCount\",\n      \"properties\": {\n        \"dtype\": \"number\",\n        \"std\": 3,\n        \"min\": 0,\n        \"max\": 126,\n        \"num_unique_values\": 51,\n        \"samples\": [\n          104,\n          46,\n          22\n        ],\n        \"semantic_type\": \"\",\n        \"description\": \"\"\n      }\n    },\n    {\n      \"column\": \"Rating\",\n      \"properties\": {\n        \"dtype\": \"number\",\n        \"std\": 1,\n        \"min\": 0,\n        \"max\": 5,\n        \"num_unique_values\": 6,\n        \"samples\": [\n          5,\n          3,\n          1\n        ],\n        \"semantic_type\": \"\",\n        \"description\": \"\"\n      }\n    },\n    {\n      \"column\": \"BestScore\",\n      \"properties\": {\n        \"dtype\": \"number\",\n        \"std\": 140,\n        \"min\": 0,\n        \"max\": 946,\n        \"num_unique_values\": 525,\n        \"samples\": [\n          491,\n          168,\n          530\n        ],\n        \"semantic_type\": \"\",\n        \"description\": \"\"\n      }\n    },\n    {\n      \"column\": \"Recipe_Review\",\n      \"properties\": {\n        \"dtype\": \"string\",\n        \"num_unique_values\": 13370,\n        \"samples\": [\n          \"Just once I&#39;d like to see one of these recipes serve fewer than an army. Maybe have one that serves two or three once and awhile.\",\n          \"Delicious. The whole family loved it. Like a very moist cornbread with some whole kernels in it.\",\n          \"This was great!  I didn&#39;t have green peppers, so I omitted them, but it was still great.  Pretty simple to make too.\"\n        ],\n        \"semantic_type\": \"\",\n        \"description\": \"\"\n      }\n    }\n  ]\n}"
            }
          },
          "metadata": {},
          "execution_count": 104
        }
      ],
      "source": [
        "train.head()"
      ]
    },
    {
      "cell_type": "code",
      "execution_count": null,
      "metadata": {
        "colab": {
          "base_uri": "https://localhost:8080/"
        },
        "id": "21a1bead",
        "outputId": "66b372ac-a077-4b55-c8f4-46fa6b08f574"
      },
      "outputs": [
        {
          "output_type": "stream",
          "name": "stdout",
          "text": [
            "Total Features: 15\n",
            "\n"
          ]
        },
        {
          "output_type": "execute_result",
          "data": {
            "text/plain": [
              "['ID',\n",
              " 'RecipeNumber',\n",
              " 'RecipeCode',\n",
              " 'RecipeName',\n",
              " 'CommentID',\n",
              " 'UserID',\n",
              " 'UserName',\n",
              " 'UserReputation',\n",
              " 'CreationTimestamp',\n",
              " 'ReplyCount',\n",
              " 'ThumbsUpCount',\n",
              " 'ThumbsDownCount',\n",
              " 'Rating',\n",
              " 'BestScore',\n",
              " 'Recipe_Review']"
            ]
          },
          "metadata": {},
          "execution_count": 105
        }
      ],
      "source": [
        "features = list(train.columns.values)\n",
        "print('Total Features:',len(features))\n",
        "print()\n",
        "features"
      ]
    },
    {
      "cell_type": "code",
      "execution_count": null,
      "metadata": {
        "colab": {
          "base_uri": "https://localhost:8080/"
        },
        "id": "C_Q_wijVpHxm",
        "outputId": "8110057e-7c6d-4d53-e01a-9cad87770035"
      },
      "outputs": [
        {
          "output_type": "execute_result",
          "data": {
            "text/plain": [
              "int64     10\n",
              "object     5\n",
              "dtype: int64"
            ]
          },
          "metadata": {},
          "execution_count": 106
        }
      ],
      "source": [
        "train.dtypes.value_counts()"
      ]
    },
    {
      "cell_type": "markdown",
      "metadata": {
        "id": "bcb6380d"
      },
      "source": [
        "### There are 14 features and 1 target variable\n",
        "### There are 5 categorical variables\n"
      ]
    },
    {
      "cell_type": "code",
      "execution_count": null,
      "metadata": {
        "colab": {
          "base_uri": "https://localhost:8080/"
        },
        "id": "a7c88a8f",
        "outputId": "47559d86-a34a-4b32-f556-1327bb40049f"
      },
      "outputs": [
        {
          "output_type": "stream",
          "name": "stdout",
          "text": [
            "<class 'pandas.core.frame.DataFrame'>\n",
            "RangeIndex: 13636 entries, 0 to 13635\n",
            "Data columns (total 15 columns):\n",
            " #   Column             Non-Null Count  Dtype \n",
            "---  ------             --------------  ----- \n",
            " 0   ID                 13636 non-null  int64 \n",
            " 1   RecipeNumber       13636 non-null  int64 \n",
            " 2   RecipeCode         13636 non-null  int64 \n",
            " 3   RecipeName         13636 non-null  object\n",
            " 4   CommentID          13636 non-null  object\n",
            " 5   UserID             13636 non-null  object\n",
            " 6   UserName           13636 non-null  object\n",
            " 7   UserReputation     13636 non-null  int64 \n",
            " 8   CreationTimestamp  13636 non-null  int64 \n",
            " 9   ReplyCount         13636 non-null  int64 \n",
            " 10  ThumbsUpCount      13636 non-null  int64 \n",
            " 11  ThumbsDownCount    13636 non-null  int64 \n",
            " 12  Rating             13636 non-null  int64 \n",
            " 13  BestScore          13636 non-null  int64 \n",
            " 14  Recipe_Review      13634 non-null  object\n",
            "dtypes: int64(10), object(5)\n",
            "memory usage: 1.6+ MB\n",
            "None\n",
            "\n",
            "<class 'pandas.core.frame.DataFrame'>\n",
            "RangeIndex: 4546 entries, 0 to 4545\n",
            "Data columns (total 14 columns):\n",
            " #   Column             Non-Null Count  Dtype \n",
            "---  ------             --------------  ----- \n",
            " 0   ID                 4546 non-null   int64 \n",
            " 1   RecipeNumber       4546 non-null   int64 \n",
            " 2   RecipeCode         4546 non-null   int64 \n",
            " 3   RecipeName         4546 non-null   object\n",
            " 4   CommentID          4546 non-null   object\n",
            " 5   UserID             4546 non-null   object\n",
            " 6   UserName           4546 non-null   object\n",
            " 7   UserReputation     4546 non-null   int64 \n",
            " 8   CreationTimestamp  4546 non-null   int64 \n",
            " 9   ReplyCount         4546 non-null   int64 \n",
            " 10  ThumbsUpCount      4546 non-null   int64 \n",
            " 11  ThumbsDownCount    4546 non-null   int64 \n",
            " 12  BestScore          4546 non-null   int64 \n",
            " 13  Recipe_Review      4546 non-null   object\n",
            "dtypes: int64(9), object(5)\n",
            "memory usage: 497.3+ KB\n",
            "None\n"
          ]
        }
      ],
      "source": [
        "# Missing values and data type\n",
        "print(train.info())\n",
        "print()\n",
        "print(test.info())"
      ]
    },
    {
      "cell_type": "code",
      "execution_count": null,
      "metadata": {
        "colab": {
          "base_uri": "https://localhost:8080/",
          "height": 363
        },
        "id": "8656cbff",
        "outputId": "f4ae7590-88d3-4274-db9c-056c2b70877c"
      },
      "outputs": [
        {
          "output_type": "execute_result",
          "data": {
            "text/plain": [
              "                     count          mean           std           min  \\\n",
              "ID                 13636.0  1.210853e+02  1.169956e+02  0.000000e+00   \n",
              "RecipeNumber       13636.0  3.862438e+01  2.967235e+01  1.000000e+00   \n",
              "RecipeCode         13636.0  2.178599e+04  2.388319e+04  3.860000e+02   \n",
              "UserReputation     13636.0  2.160311e+00  1.008642e+01  0.000000e+00   \n",
              "CreationTimestamp  13636.0  1.623713e+09  5.444020e+06  1.613035e+09   \n",
              "ReplyCount         13636.0  1.452039e-02  1.373234e-01  0.000000e+00   \n",
              "ThumbsUpCount      13636.0  1.098269e+00  4.166487e+00  0.000000e+00   \n",
              "ThumbsDownCount    13636.0  5.437078e-01  3.265660e+00  0.000000e+00   \n",
              "Rating             13636.0  4.288721e+00  1.544839e+00  0.000000e+00   \n",
              "BestScore          13636.0  1.531279e+02  1.409869e+02  0.000000e+00   \n",
              "\n",
              "                            25%           50%           75%           max  \n",
              "ID                 4.500000e+01  9.100000e+01  1.480000e+02  7.240000e+02  \n",
              "RecipeNumber       1.200000e+01  3.300000e+01  6.300000e+01  1.000000e+02  \n",
              "RecipeCode         6.504000e+03  1.460000e+04  3.312100e+04  1.917750e+05  \n",
              "UserReputation     1.000000e+00  1.000000e+00  1.000000e+00  5.100000e+02  \n",
              "CreationTimestamp  1.622717e+09  1.622718e+09  1.622718e+09  1.665756e+09  \n",
              "ReplyCount         0.000000e+00  0.000000e+00  0.000000e+00  3.000000e+00  \n",
              "ThumbsUpCount      0.000000e+00  0.000000e+00  0.000000e+00  8.000000e+01  \n",
              "ThumbsDownCount    0.000000e+00  0.000000e+00  0.000000e+00  1.260000e+02  \n",
              "Rating             5.000000e+00  5.000000e+00  5.000000e+00  5.000000e+00  \n",
              "BestScore          1.000000e+02  1.000000e+02  1.000000e+02  9.460000e+02  "
            ],
            "text/html": [
              "\n",
              "  <div id=\"df-d2def35c-aeac-4602-ad58-8cce7c66bc2f\" class=\"colab-df-container\">\n",
              "    <div>\n",
              "<style scoped>\n",
              "    .dataframe tbody tr th:only-of-type {\n",
              "        vertical-align: middle;\n",
              "    }\n",
              "\n",
              "    .dataframe tbody tr th {\n",
              "        vertical-align: top;\n",
              "    }\n",
              "\n",
              "    .dataframe thead th {\n",
              "        text-align: right;\n",
              "    }\n",
              "</style>\n",
              "<table border=\"1\" class=\"dataframe\">\n",
              "  <thead>\n",
              "    <tr style=\"text-align: right;\">\n",
              "      <th></th>\n",
              "      <th>count</th>\n",
              "      <th>mean</th>\n",
              "      <th>std</th>\n",
              "      <th>min</th>\n",
              "      <th>25%</th>\n",
              "      <th>50%</th>\n",
              "      <th>75%</th>\n",
              "      <th>max</th>\n",
              "    </tr>\n",
              "  </thead>\n",
              "  <tbody>\n",
              "    <tr>\n",
              "      <th>ID</th>\n",
              "      <td>13636.0</td>\n",
              "      <td>1.210853e+02</td>\n",
              "      <td>1.169956e+02</td>\n",
              "      <td>0.000000e+00</td>\n",
              "      <td>4.500000e+01</td>\n",
              "      <td>9.100000e+01</td>\n",
              "      <td>1.480000e+02</td>\n",
              "      <td>7.240000e+02</td>\n",
              "    </tr>\n",
              "    <tr>\n",
              "      <th>RecipeNumber</th>\n",
              "      <td>13636.0</td>\n",
              "      <td>3.862438e+01</td>\n",
              "      <td>2.967235e+01</td>\n",
              "      <td>1.000000e+00</td>\n",
              "      <td>1.200000e+01</td>\n",
              "      <td>3.300000e+01</td>\n",
              "      <td>6.300000e+01</td>\n",
              "      <td>1.000000e+02</td>\n",
              "    </tr>\n",
              "    <tr>\n",
              "      <th>RecipeCode</th>\n",
              "      <td>13636.0</td>\n",
              "      <td>2.178599e+04</td>\n",
              "      <td>2.388319e+04</td>\n",
              "      <td>3.860000e+02</td>\n",
              "      <td>6.504000e+03</td>\n",
              "      <td>1.460000e+04</td>\n",
              "      <td>3.312100e+04</td>\n",
              "      <td>1.917750e+05</td>\n",
              "    </tr>\n",
              "    <tr>\n",
              "      <th>UserReputation</th>\n",
              "      <td>13636.0</td>\n",
              "      <td>2.160311e+00</td>\n",
              "      <td>1.008642e+01</td>\n",
              "      <td>0.000000e+00</td>\n",
              "      <td>1.000000e+00</td>\n",
              "      <td>1.000000e+00</td>\n",
              "      <td>1.000000e+00</td>\n",
              "      <td>5.100000e+02</td>\n",
              "    </tr>\n",
              "    <tr>\n",
              "      <th>CreationTimestamp</th>\n",
              "      <td>13636.0</td>\n",
              "      <td>1.623713e+09</td>\n",
              "      <td>5.444020e+06</td>\n",
              "      <td>1.613035e+09</td>\n",
              "      <td>1.622717e+09</td>\n",
              "      <td>1.622718e+09</td>\n",
              "      <td>1.622718e+09</td>\n",
              "      <td>1.665756e+09</td>\n",
              "    </tr>\n",
              "    <tr>\n",
              "      <th>ReplyCount</th>\n",
              "      <td>13636.0</td>\n",
              "      <td>1.452039e-02</td>\n",
              "      <td>1.373234e-01</td>\n",
              "      <td>0.000000e+00</td>\n",
              "      <td>0.000000e+00</td>\n",
              "      <td>0.000000e+00</td>\n",
              "      <td>0.000000e+00</td>\n",
              "      <td>3.000000e+00</td>\n",
              "    </tr>\n",
              "    <tr>\n",
              "      <th>ThumbsUpCount</th>\n",
              "      <td>13636.0</td>\n",
              "      <td>1.098269e+00</td>\n",
              "      <td>4.166487e+00</td>\n",
              "      <td>0.000000e+00</td>\n",
              "      <td>0.000000e+00</td>\n",
              "      <td>0.000000e+00</td>\n",
              "      <td>0.000000e+00</td>\n",
              "      <td>8.000000e+01</td>\n",
              "    </tr>\n",
              "    <tr>\n",
              "      <th>ThumbsDownCount</th>\n",
              "      <td>13636.0</td>\n",
              "      <td>5.437078e-01</td>\n",
              "      <td>3.265660e+00</td>\n",
              "      <td>0.000000e+00</td>\n",
              "      <td>0.000000e+00</td>\n",
              "      <td>0.000000e+00</td>\n",
              "      <td>0.000000e+00</td>\n",
              "      <td>1.260000e+02</td>\n",
              "    </tr>\n",
              "    <tr>\n",
              "      <th>Rating</th>\n",
              "      <td>13636.0</td>\n",
              "      <td>4.288721e+00</td>\n",
              "      <td>1.544839e+00</td>\n",
              "      <td>0.000000e+00</td>\n",
              "      <td>5.000000e+00</td>\n",
              "      <td>5.000000e+00</td>\n",
              "      <td>5.000000e+00</td>\n",
              "      <td>5.000000e+00</td>\n",
              "    </tr>\n",
              "    <tr>\n",
              "      <th>BestScore</th>\n",
              "      <td>13636.0</td>\n",
              "      <td>1.531279e+02</td>\n",
              "      <td>1.409869e+02</td>\n",
              "      <td>0.000000e+00</td>\n",
              "      <td>1.000000e+02</td>\n",
              "      <td>1.000000e+02</td>\n",
              "      <td>1.000000e+02</td>\n",
              "      <td>9.460000e+02</td>\n",
              "    </tr>\n",
              "  </tbody>\n",
              "</table>\n",
              "</div>\n",
              "    <div class=\"colab-df-buttons\">\n",
              "\n",
              "  <div class=\"colab-df-container\">\n",
              "    <button class=\"colab-df-convert\" onclick=\"convertToInteractive('df-d2def35c-aeac-4602-ad58-8cce7c66bc2f')\"\n",
              "            title=\"Convert this dataframe to an interactive table.\"\n",
              "            style=\"display:none;\">\n",
              "\n",
              "  <svg xmlns=\"http://www.w3.org/2000/svg\" height=\"24px\" viewBox=\"0 -960 960 960\">\n",
              "    <path d=\"M120-120v-720h720v720H120Zm60-500h600v-160H180v160Zm220 220h160v-160H400v160Zm0 220h160v-160H400v160ZM180-400h160v-160H180v160Zm440 0h160v-160H620v160ZM180-180h160v-160H180v160Zm440 0h160v-160H620v160Z\"/>\n",
              "  </svg>\n",
              "    </button>\n",
              "\n",
              "  <style>\n",
              "    .colab-df-container {\n",
              "      display:flex;\n",
              "      gap: 12px;\n",
              "    }\n",
              "\n",
              "    .colab-df-convert {\n",
              "      background-color: #E8F0FE;\n",
              "      border: none;\n",
              "      border-radius: 50%;\n",
              "      cursor: pointer;\n",
              "      display: none;\n",
              "      fill: #1967D2;\n",
              "      height: 32px;\n",
              "      padding: 0 0 0 0;\n",
              "      width: 32px;\n",
              "    }\n",
              "\n",
              "    .colab-df-convert:hover {\n",
              "      background-color: #E2EBFA;\n",
              "      box-shadow: 0px 1px 2px rgba(60, 64, 67, 0.3), 0px 1px 3px 1px rgba(60, 64, 67, 0.15);\n",
              "      fill: #174EA6;\n",
              "    }\n",
              "\n",
              "    .colab-df-buttons div {\n",
              "      margin-bottom: 4px;\n",
              "    }\n",
              "\n",
              "    [theme=dark] .colab-df-convert {\n",
              "      background-color: #3B4455;\n",
              "      fill: #D2E3FC;\n",
              "    }\n",
              "\n",
              "    [theme=dark] .colab-df-convert:hover {\n",
              "      background-color: #434B5C;\n",
              "      box-shadow: 0px 1px 3px 1px rgba(0, 0, 0, 0.15);\n",
              "      filter: drop-shadow(0px 1px 2px rgba(0, 0, 0, 0.3));\n",
              "      fill: #FFFFFF;\n",
              "    }\n",
              "  </style>\n",
              "\n",
              "    <script>\n",
              "      const buttonEl =\n",
              "        document.querySelector('#df-d2def35c-aeac-4602-ad58-8cce7c66bc2f button.colab-df-convert');\n",
              "      buttonEl.style.display =\n",
              "        google.colab.kernel.accessAllowed ? 'block' : 'none';\n",
              "\n",
              "      async function convertToInteractive(key) {\n",
              "        const element = document.querySelector('#df-d2def35c-aeac-4602-ad58-8cce7c66bc2f');\n",
              "        const dataTable =\n",
              "          await google.colab.kernel.invokeFunction('convertToInteractive',\n",
              "                                                    [key], {});\n",
              "        if (!dataTable) return;\n",
              "\n",
              "        const docLinkHtml = 'Like what you see? Visit the ' +\n",
              "          '<a target=\"_blank\" href=https://colab.research.google.com/notebooks/data_table.ipynb>data table notebook</a>'\n",
              "          + ' to learn more about interactive tables.';\n",
              "        element.innerHTML = '';\n",
              "        dataTable['output_type'] = 'display_data';\n",
              "        await google.colab.output.renderOutput(dataTable, element);\n",
              "        const docLink = document.createElement('div');\n",
              "        docLink.innerHTML = docLinkHtml;\n",
              "        element.appendChild(docLink);\n",
              "      }\n",
              "    </script>\n",
              "  </div>\n",
              "\n",
              "\n",
              "<div id=\"df-4e325684-6a7b-43fd-97d5-a778a3c8672f\">\n",
              "  <button class=\"colab-df-quickchart\" onclick=\"quickchart('df-4e325684-6a7b-43fd-97d5-a778a3c8672f')\"\n",
              "            title=\"Suggest charts\"\n",
              "            style=\"display:none;\">\n",
              "\n",
              "<svg xmlns=\"http://www.w3.org/2000/svg\" height=\"24px\"viewBox=\"0 0 24 24\"\n",
              "     width=\"24px\">\n",
              "    <g>\n",
              "        <path d=\"M19 3H5c-1.1 0-2 .9-2 2v14c0 1.1.9 2 2 2h14c1.1 0 2-.9 2-2V5c0-1.1-.9-2-2-2zM9 17H7v-7h2v7zm4 0h-2V7h2v10zm4 0h-2v-4h2v4z\"/>\n",
              "    </g>\n",
              "</svg>\n",
              "  </button>\n",
              "\n",
              "<style>\n",
              "  .colab-df-quickchart {\n",
              "      --bg-color: #E8F0FE;\n",
              "      --fill-color: #1967D2;\n",
              "      --hover-bg-color: #E2EBFA;\n",
              "      --hover-fill-color: #174EA6;\n",
              "      --disabled-fill-color: #AAA;\n",
              "      --disabled-bg-color: #DDD;\n",
              "  }\n",
              "\n",
              "  [theme=dark] .colab-df-quickchart {\n",
              "      --bg-color: #3B4455;\n",
              "      --fill-color: #D2E3FC;\n",
              "      --hover-bg-color: #434B5C;\n",
              "      --hover-fill-color: #FFFFFF;\n",
              "      --disabled-bg-color: #3B4455;\n",
              "      --disabled-fill-color: #666;\n",
              "  }\n",
              "\n",
              "  .colab-df-quickchart {\n",
              "    background-color: var(--bg-color);\n",
              "    border: none;\n",
              "    border-radius: 50%;\n",
              "    cursor: pointer;\n",
              "    display: none;\n",
              "    fill: var(--fill-color);\n",
              "    height: 32px;\n",
              "    padding: 0;\n",
              "    width: 32px;\n",
              "  }\n",
              "\n",
              "  .colab-df-quickchart:hover {\n",
              "    background-color: var(--hover-bg-color);\n",
              "    box-shadow: 0 1px 2px rgba(60, 64, 67, 0.3), 0 1px 3px 1px rgba(60, 64, 67, 0.15);\n",
              "    fill: var(--button-hover-fill-color);\n",
              "  }\n",
              "\n",
              "  .colab-df-quickchart-complete:disabled,\n",
              "  .colab-df-quickchart-complete:disabled:hover {\n",
              "    background-color: var(--disabled-bg-color);\n",
              "    fill: var(--disabled-fill-color);\n",
              "    box-shadow: none;\n",
              "  }\n",
              "\n",
              "  .colab-df-spinner {\n",
              "    border: 2px solid var(--fill-color);\n",
              "    border-color: transparent;\n",
              "    border-bottom-color: var(--fill-color);\n",
              "    animation:\n",
              "      spin 1s steps(1) infinite;\n",
              "  }\n",
              "\n",
              "  @keyframes spin {\n",
              "    0% {\n",
              "      border-color: transparent;\n",
              "      border-bottom-color: var(--fill-color);\n",
              "      border-left-color: var(--fill-color);\n",
              "    }\n",
              "    20% {\n",
              "      border-color: transparent;\n",
              "      border-left-color: var(--fill-color);\n",
              "      border-top-color: var(--fill-color);\n",
              "    }\n",
              "    30% {\n",
              "      border-color: transparent;\n",
              "      border-left-color: var(--fill-color);\n",
              "      border-top-color: var(--fill-color);\n",
              "      border-right-color: var(--fill-color);\n",
              "    }\n",
              "    40% {\n",
              "      border-color: transparent;\n",
              "      border-right-color: var(--fill-color);\n",
              "      border-top-color: var(--fill-color);\n",
              "    }\n",
              "    60% {\n",
              "      border-color: transparent;\n",
              "      border-right-color: var(--fill-color);\n",
              "    }\n",
              "    80% {\n",
              "      border-color: transparent;\n",
              "      border-right-color: var(--fill-color);\n",
              "      border-bottom-color: var(--fill-color);\n",
              "    }\n",
              "    90% {\n",
              "      border-color: transparent;\n",
              "      border-bottom-color: var(--fill-color);\n",
              "    }\n",
              "  }\n",
              "</style>\n",
              "\n",
              "  <script>\n",
              "    async function quickchart(key) {\n",
              "      const quickchartButtonEl =\n",
              "        document.querySelector('#' + key + ' button');\n",
              "      quickchartButtonEl.disabled = true;  // To prevent multiple clicks.\n",
              "      quickchartButtonEl.classList.add('colab-df-spinner');\n",
              "      try {\n",
              "        const charts = await google.colab.kernel.invokeFunction(\n",
              "            'suggestCharts', [key], {});\n",
              "      } catch (error) {\n",
              "        console.error('Error during call to suggestCharts:', error);\n",
              "      }\n",
              "      quickchartButtonEl.classList.remove('colab-df-spinner');\n",
              "      quickchartButtonEl.classList.add('colab-df-quickchart-complete');\n",
              "    }\n",
              "    (() => {\n",
              "      let quickchartButtonEl =\n",
              "        document.querySelector('#df-4e325684-6a7b-43fd-97d5-a778a3c8672f button');\n",
              "      quickchartButtonEl.style.display =\n",
              "        google.colab.kernel.accessAllowed ? 'block' : 'none';\n",
              "    })();\n",
              "  </script>\n",
              "</div>\n",
              "    </div>\n",
              "  </div>\n"
            ],
            "application/vnd.google.colaboratory.intrinsic+json": {
              "type": "dataframe",
              "summary": "{\n  \"name\": \"train\",\n  \"rows\": 10,\n  \"fields\": [\n    {\n      \"column\": \"count\",\n      \"properties\": {\n        \"dtype\": \"number\",\n        \"std\": 0.0,\n        \"min\": 13636.0,\n        \"max\": 13636.0,\n        \"num_unique_values\": 1,\n        \"samples\": [\n          13636.0\n        ],\n        \"semantic_type\": \"\",\n        \"description\": \"\"\n      }\n    },\n    {\n      \"column\": \"mean\",\n      \"properties\": {\n        \"dtype\": \"number\",\n        \"std\": 513462487.3756291,\n        \"min\": 0.014520387210325609,\n        \"max\": 1623713409.3446026,\n        \"num_unique_values\": 10,\n        \"samples\": [\n          4.2887210325608685\n        ],\n        \"semantic_type\": \"\",\n        \"description\": \"\"\n      }\n    },\n    {\n      \"column\": \"std\",\n      \"properties\": {\n        \"dtype\": \"number\",\n        \"std\": 1720716.7002527053,\n        \"min\": 0.1373234008318114,\n        \"max\": 5444020.160421847,\n        \"num_unique_values\": 10,\n        \"samples\": [\n          1.5448390556052594\n        ],\n        \"semantic_type\": \"\",\n        \"description\": \"\"\n      }\n    },\n    {\n      \"column\": \"min\",\n      \"properties\": {\n        \"dtype\": \"number\",\n        \"std\": 510086547.21172,\n        \"min\": 0.0,\n        \"max\": 1613035336.0,\n        \"num_unique_values\": 4,\n        \"samples\": [\n          1.0\n        ],\n        \"semantic_type\": \"\",\n        \"description\": \"\"\n      }\n    },\n    {\n      \"column\": \"25%\",\n      \"properties\": {\n        \"dtype\": \"number\",\n        \"std\": 513148014.0642092,\n        \"min\": 0.0,\n        \"max\": 1622717242.0,\n        \"num_unique_values\": 8,\n        \"samples\": [\n          12.0\n        ],\n        \"semantic_type\": \"\",\n        \"description\": \"\"\n      }\n    },\n    {\n      \"column\": \"50%\",\n      \"properties\": {\n        \"dtype\": \"number\",\n        \"std\": 513147874.3079243,\n        \"min\": 0.0,\n        \"max\": 1622717707.0,\n        \"num_unique_values\": 8,\n        \"samples\": [\n          33.0\n        ],\n        \"semantic_type\": \"\",\n        \"description\": \"\"\n      }\n    },\n    {\n      \"column\": \"75%\",\n      \"properties\": {\n        \"dtype\": \"number\",\n        \"std\": 513147367.6202468,\n        \"min\": 0.0,\n        \"max\": 1622718172.0,\n        \"num_unique_values\": 8,\n        \"samples\": [\n          63.0\n        ],\n        \"semantic_type\": \"\",\n        \"description\": \"\"\n      }\n    },\n    {\n      \"column\": \"max\",\n      \"properties\": {\n        \"dtype\": \"number\",\n        \"std\": 526751487.19702667,\n        \"min\": 3.0,\n        \"max\": 1665756035.0,\n        \"num_unique_values\": 10,\n        \"samples\": [\n          5.0\n        ],\n        \"semantic_type\": \"\",\n        \"description\": \"\"\n      }\n    }\n  ]\n}"
            }
          },
          "metadata": {},
          "execution_count": 108
        }
      ],
      "source": [
        "# Summary statistics\n",
        "train.describe().transpose()"
      ]
    },
    {
      "cell_type": "code",
      "execution_count": null,
      "metadata": {
        "colab": {
          "base_uri": "https://localhost:8080/"
        },
        "id": "7b1637e9",
        "outputId": "f1cf8a74-b95b-4bcd-c488-7c64c947b7b6"
      },
      "outputs": [
        {
          "output_type": "execute_result",
          "data": {
            "text/plain": [
              "array([5, 3, 4, 0, 2, 1])"
            ]
          },
          "metadata": {},
          "execution_count": 109
        }
      ],
      "source": [
        "train.Rating.unique()"
      ]
    },
    {
      "cell_type": "code",
      "execution_count": null,
      "metadata": {
        "colab": {
          "base_uri": "https://localhost:8080/"
        },
        "id": "b2b253a8",
        "outputId": "4dc1a549-8d51-4548-afc9-8b11c7486529"
      },
      "outputs": [
        {
          "output_type": "execute_result",
          "data": {
            "text/plain": [
              "5    10371\n",
              "0     1272\n",
              "4     1241\n",
              "3      368\n",
              "1      210\n",
              "2      174\n",
              "Name: Rating, dtype: int64"
            ]
          },
          "metadata": {},
          "execution_count": 110
        }
      ],
      "source": [
        "train.Rating.value_counts()"
      ]
    },
    {
      "cell_type": "markdown",
      "metadata": {
        "id": "9b34466e"
      },
      "source": [
        "## Dataset is highly imbalanced"
      ]
    },
    {
      "cell_type": "markdown",
      "metadata": {
        "id": "0521c154"
      },
      "source": [
        "# Checking for Missing Values"
      ]
    },
    {
      "cell_type": "code",
      "execution_count": null,
      "metadata": {
        "colab": {
          "base_uri": "https://localhost:8080/"
        },
        "id": "5c97c673",
        "outputId": "eee03c36-5811-438d-d054-6487d3467f46"
      },
      "outputs": [
        {
          "output_type": "execute_result",
          "data": {
            "text/plain": [
              "ID                   0\n",
              "RecipeNumber         0\n",
              "RecipeCode           0\n",
              "RecipeName           0\n",
              "CommentID            0\n",
              "UserID               0\n",
              "UserName             0\n",
              "UserReputation       0\n",
              "CreationTimestamp    0\n",
              "ReplyCount           0\n",
              "ThumbsUpCount        0\n",
              "ThumbsDownCount      0\n",
              "Rating               0\n",
              "BestScore            0\n",
              "Recipe_Review        2\n",
              "dtype: int64"
            ]
          },
          "metadata": {},
          "execution_count": 111
        }
      ],
      "source": [
        "train.replace(\"?\",np.nan,inplace=True)\n",
        "train.isnull().sum()"
      ]
    },
    {
      "cell_type": "code",
      "source": [
        "train.loc[train['Recipe_Review'].isnull()]"
      ],
      "metadata": {
        "colab": {
          "base_uri": "https://localhost:8080/",
          "height": 184
        },
        "id": "bzzVzqKWXnjO",
        "outputId": "72139e70-b96c-478b-8c58-e4f4e744518a"
      },
      "execution_count": null,
      "outputs": [
        {
          "output_type": "execute_result",
          "data": {
            "text/plain": [
              "        ID  RecipeNumber  RecipeCode               RecipeName  \\\n",
              "2984   299             6       21444  Favorite Chicken Potpie   \n",
              "11654  344             3        2832        Cheeseburger Soup   \n",
              "\n",
              "                        CommentID                         UserID  \\\n",
              "2984   sp_aUSaElGf_21444_c_260817  u_1oKXz42APTrXTFF6SGvR3YMBJGy   \n",
              "11654   sp_aUSaElGf_2832_c_260955  u_1oKZmfyycO3xVnQeffIKHuaKT2U   \n",
              "\n",
              "              UserName  UserReputation  CreationTimestamp  ReplyCount  \\\n",
              "2984          TRGriggs               1         1622717652           0   \n",
              "11654  No.1FamilyBaker               1         1622717645           0   \n",
              "\n",
              "       ThumbsUpCount  ThumbsDownCount  Rating  BestScore Recipe_Review  \n",
              "2984               0                0       5        100           NaN  \n",
              "11654              0                0       5        100           NaN  "
            ],
            "text/html": [
              "\n",
              "  <div id=\"df-a9417f96-76b6-4cca-b712-360984439835\" class=\"colab-df-container\">\n",
              "    <div>\n",
              "<style scoped>\n",
              "    .dataframe tbody tr th:only-of-type {\n",
              "        vertical-align: middle;\n",
              "    }\n",
              "\n",
              "    .dataframe tbody tr th {\n",
              "        vertical-align: top;\n",
              "    }\n",
              "\n",
              "    .dataframe thead th {\n",
              "        text-align: right;\n",
              "    }\n",
              "</style>\n",
              "<table border=\"1\" class=\"dataframe\">\n",
              "  <thead>\n",
              "    <tr style=\"text-align: right;\">\n",
              "      <th></th>\n",
              "      <th>ID</th>\n",
              "      <th>RecipeNumber</th>\n",
              "      <th>RecipeCode</th>\n",
              "      <th>RecipeName</th>\n",
              "      <th>CommentID</th>\n",
              "      <th>UserID</th>\n",
              "      <th>UserName</th>\n",
              "      <th>UserReputation</th>\n",
              "      <th>CreationTimestamp</th>\n",
              "      <th>ReplyCount</th>\n",
              "      <th>ThumbsUpCount</th>\n",
              "      <th>ThumbsDownCount</th>\n",
              "      <th>Rating</th>\n",
              "      <th>BestScore</th>\n",
              "      <th>Recipe_Review</th>\n",
              "    </tr>\n",
              "  </thead>\n",
              "  <tbody>\n",
              "    <tr>\n",
              "      <th>2984</th>\n",
              "      <td>299</td>\n",
              "      <td>6</td>\n",
              "      <td>21444</td>\n",
              "      <td>Favorite Chicken Potpie</td>\n",
              "      <td>sp_aUSaElGf_21444_c_260817</td>\n",
              "      <td>u_1oKXz42APTrXTFF6SGvR3YMBJGy</td>\n",
              "      <td>TRGriggs</td>\n",
              "      <td>1</td>\n",
              "      <td>1622717652</td>\n",
              "      <td>0</td>\n",
              "      <td>0</td>\n",
              "      <td>0</td>\n",
              "      <td>5</td>\n",
              "      <td>100</td>\n",
              "      <td>NaN</td>\n",
              "    </tr>\n",
              "    <tr>\n",
              "      <th>11654</th>\n",
              "      <td>344</td>\n",
              "      <td>3</td>\n",
              "      <td>2832</td>\n",
              "      <td>Cheeseburger Soup</td>\n",
              "      <td>sp_aUSaElGf_2832_c_260955</td>\n",
              "      <td>u_1oKZmfyycO3xVnQeffIKHuaKT2U</td>\n",
              "      <td>No.1FamilyBaker</td>\n",
              "      <td>1</td>\n",
              "      <td>1622717645</td>\n",
              "      <td>0</td>\n",
              "      <td>0</td>\n",
              "      <td>0</td>\n",
              "      <td>5</td>\n",
              "      <td>100</td>\n",
              "      <td>NaN</td>\n",
              "    </tr>\n",
              "  </tbody>\n",
              "</table>\n",
              "</div>\n",
              "    <div class=\"colab-df-buttons\">\n",
              "\n",
              "  <div class=\"colab-df-container\">\n",
              "    <button class=\"colab-df-convert\" onclick=\"convertToInteractive('df-a9417f96-76b6-4cca-b712-360984439835')\"\n",
              "            title=\"Convert this dataframe to an interactive table.\"\n",
              "            style=\"display:none;\">\n",
              "\n",
              "  <svg xmlns=\"http://www.w3.org/2000/svg\" height=\"24px\" viewBox=\"0 -960 960 960\">\n",
              "    <path d=\"M120-120v-720h720v720H120Zm60-500h600v-160H180v160Zm220 220h160v-160H400v160Zm0 220h160v-160H400v160ZM180-400h160v-160H180v160Zm440 0h160v-160H620v160ZM180-180h160v-160H180v160Zm440 0h160v-160H620v160Z\"/>\n",
              "  </svg>\n",
              "    </button>\n",
              "\n",
              "  <style>\n",
              "    .colab-df-container {\n",
              "      display:flex;\n",
              "      gap: 12px;\n",
              "    }\n",
              "\n",
              "    .colab-df-convert {\n",
              "      background-color: #E8F0FE;\n",
              "      border: none;\n",
              "      border-radius: 50%;\n",
              "      cursor: pointer;\n",
              "      display: none;\n",
              "      fill: #1967D2;\n",
              "      height: 32px;\n",
              "      padding: 0 0 0 0;\n",
              "      width: 32px;\n",
              "    }\n",
              "\n",
              "    .colab-df-convert:hover {\n",
              "      background-color: #E2EBFA;\n",
              "      box-shadow: 0px 1px 2px rgba(60, 64, 67, 0.3), 0px 1px 3px 1px rgba(60, 64, 67, 0.15);\n",
              "      fill: #174EA6;\n",
              "    }\n",
              "\n",
              "    .colab-df-buttons div {\n",
              "      margin-bottom: 4px;\n",
              "    }\n",
              "\n",
              "    [theme=dark] .colab-df-convert {\n",
              "      background-color: #3B4455;\n",
              "      fill: #D2E3FC;\n",
              "    }\n",
              "\n",
              "    [theme=dark] .colab-df-convert:hover {\n",
              "      background-color: #434B5C;\n",
              "      box-shadow: 0px 1px 3px 1px rgba(0, 0, 0, 0.15);\n",
              "      filter: drop-shadow(0px 1px 2px rgba(0, 0, 0, 0.3));\n",
              "      fill: #FFFFFF;\n",
              "    }\n",
              "  </style>\n",
              "\n",
              "    <script>\n",
              "      const buttonEl =\n",
              "        document.querySelector('#df-a9417f96-76b6-4cca-b712-360984439835 button.colab-df-convert');\n",
              "      buttonEl.style.display =\n",
              "        google.colab.kernel.accessAllowed ? 'block' : 'none';\n",
              "\n",
              "      async function convertToInteractive(key) {\n",
              "        const element = document.querySelector('#df-a9417f96-76b6-4cca-b712-360984439835');\n",
              "        const dataTable =\n",
              "          await google.colab.kernel.invokeFunction('convertToInteractive',\n",
              "                                                    [key], {});\n",
              "        if (!dataTable) return;\n",
              "\n",
              "        const docLinkHtml = 'Like what you see? Visit the ' +\n",
              "          '<a target=\"_blank\" href=https://colab.research.google.com/notebooks/data_table.ipynb>data table notebook</a>'\n",
              "          + ' to learn more about interactive tables.';\n",
              "        element.innerHTML = '';\n",
              "        dataTable['output_type'] = 'display_data';\n",
              "        await google.colab.output.renderOutput(dataTable, element);\n",
              "        const docLink = document.createElement('div');\n",
              "        docLink.innerHTML = docLinkHtml;\n",
              "        element.appendChild(docLink);\n",
              "      }\n",
              "    </script>\n",
              "  </div>\n",
              "\n",
              "\n",
              "<div id=\"df-a5ea2654-c603-4291-939d-8b53c4f44677\">\n",
              "  <button class=\"colab-df-quickchart\" onclick=\"quickchart('df-a5ea2654-c603-4291-939d-8b53c4f44677')\"\n",
              "            title=\"Suggest charts\"\n",
              "            style=\"display:none;\">\n",
              "\n",
              "<svg xmlns=\"http://www.w3.org/2000/svg\" height=\"24px\"viewBox=\"0 0 24 24\"\n",
              "     width=\"24px\">\n",
              "    <g>\n",
              "        <path d=\"M19 3H5c-1.1 0-2 .9-2 2v14c0 1.1.9 2 2 2h14c1.1 0 2-.9 2-2V5c0-1.1-.9-2-2-2zM9 17H7v-7h2v7zm4 0h-2V7h2v10zm4 0h-2v-4h2v4z\"/>\n",
              "    </g>\n",
              "</svg>\n",
              "  </button>\n",
              "\n",
              "<style>\n",
              "  .colab-df-quickchart {\n",
              "      --bg-color: #E8F0FE;\n",
              "      --fill-color: #1967D2;\n",
              "      --hover-bg-color: #E2EBFA;\n",
              "      --hover-fill-color: #174EA6;\n",
              "      --disabled-fill-color: #AAA;\n",
              "      --disabled-bg-color: #DDD;\n",
              "  }\n",
              "\n",
              "  [theme=dark] .colab-df-quickchart {\n",
              "      --bg-color: #3B4455;\n",
              "      --fill-color: #D2E3FC;\n",
              "      --hover-bg-color: #434B5C;\n",
              "      --hover-fill-color: #FFFFFF;\n",
              "      --disabled-bg-color: #3B4455;\n",
              "      --disabled-fill-color: #666;\n",
              "  }\n",
              "\n",
              "  .colab-df-quickchart {\n",
              "    background-color: var(--bg-color);\n",
              "    border: none;\n",
              "    border-radius: 50%;\n",
              "    cursor: pointer;\n",
              "    display: none;\n",
              "    fill: var(--fill-color);\n",
              "    height: 32px;\n",
              "    padding: 0;\n",
              "    width: 32px;\n",
              "  }\n",
              "\n",
              "  .colab-df-quickchart:hover {\n",
              "    background-color: var(--hover-bg-color);\n",
              "    box-shadow: 0 1px 2px rgba(60, 64, 67, 0.3), 0 1px 3px 1px rgba(60, 64, 67, 0.15);\n",
              "    fill: var(--button-hover-fill-color);\n",
              "  }\n",
              "\n",
              "  .colab-df-quickchart-complete:disabled,\n",
              "  .colab-df-quickchart-complete:disabled:hover {\n",
              "    background-color: var(--disabled-bg-color);\n",
              "    fill: var(--disabled-fill-color);\n",
              "    box-shadow: none;\n",
              "  }\n",
              "\n",
              "  .colab-df-spinner {\n",
              "    border: 2px solid var(--fill-color);\n",
              "    border-color: transparent;\n",
              "    border-bottom-color: var(--fill-color);\n",
              "    animation:\n",
              "      spin 1s steps(1) infinite;\n",
              "  }\n",
              "\n",
              "  @keyframes spin {\n",
              "    0% {\n",
              "      border-color: transparent;\n",
              "      border-bottom-color: var(--fill-color);\n",
              "      border-left-color: var(--fill-color);\n",
              "    }\n",
              "    20% {\n",
              "      border-color: transparent;\n",
              "      border-left-color: var(--fill-color);\n",
              "      border-top-color: var(--fill-color);\n",
              "    }\n",
              "    30% {\n",
              "      border-color: transparent;\n",
              "      border-left-color: var(--fill-color);\n",
              "      border-top-color: var(--fill-color);\n",
              "      border-right-color: var(--fill-color);\n",
              "    }\n",
              "    40% {\n",
              "      border-color: transparent;\n",
              "      border-right-color: var(--fill-color);\n",
              "      border-top-color: var(--fill-color);\n",
              "    }\n",
              "    60% {\n",
              "      border-color: transparent;\n",
              "      border-right-color: var(--fill-color);\n",
              "    }\n",
              "    80% {\n",
              "      border-color: transparent;\n",
              "      border-right-color: var(--fill-color);\n",
              "      border-bottom-color: var(--fill-color);\n",
              "    }\n",
              "    90% {\n",
              "      border-color: transparent;\n",
              "      border-bottom-color: var(--fill-color);\n",
              "    }\n",
              "  }\n",
              "</style>\n",
              "\n",
              "  <script>\n",
              "    async function quickchart(key) {\n",
              "      const quickchartButtonEl =\n",
              "        document.querySelector('#' + key + ' button');\n",
              "      quickchartButtonEl.disabled = true;  // To prevent multiple clicks.\n",
              "      quickchartButtonEl.classList.add('colab-df-spinner');\n",
              "      try {\n",
              "        const charts = await google.colab.kernel.invokeFunction(\n",
              "            'suggestCharts', [key], {});\n",
              "      } catch (error) {\n",
              "        console.error('Error during call to suggestCharts:', error);\n",
              "      }\n",
              "      quickchartButtonEl.classList.remove('colab-df-spinner');\n",
              "      quickchartButtonEl.classList.add('colab-df-quickchart-complete');\n",
              "    }\n",
              "    (() => {\n",
              "      let quickchartButtonEl =\n",
              "        document.querySelector('#df-a5ea2654-c603-4291-939d-8b53c4f44677 button');\n",
              "      quickchartButtonEl.style.display =\n",
              "        google.colab.kernel.accessAllowed ? 'block' : 'none';\n",
              "    })();\n",
              "  </script>\n",
              "</div>\n",
              "    </div>\n",
              "  </div>\n"
            ],
            "application/vnd.google.colaboratory.intrinsic+json": {
              "type": "dataframe",
              "repr_error": "0"
            }
          },
          "metadata": {},
          "execution_count": 112
        }
      ]
    },
    {
      "cell_type": "code",
      "source": [
        "train.iloc[2983]"
      ],
      "metadata": {
        "colab": {
          "base_uri": "https://localhost:8080/"
        },
        "id": "9ChkoV6nYD6Q",
        "outputId": "26ed9907-3637-467e-95c9-7ff98e9d504c"
      },
      "execution_count": null,
      "outputs": [
        {
          "output_type": "execute_result",
          "data": {
            "text/plain": [
              "ID                                                               117\n",
              "RecipeNumber                                                      59\n",
              "RecipeCode                                                       414\n",
              "RecipeName                                     Lemon Blueberry Bread\n",
              "CommentID                                   sp_aUSaElGf_414_c_151856\n",
              "UserID                                 u_1oKWu8jLL3DdibzKGSnWK17yUCG\n",
              "UserName                                                  MAJcooking\n",
              "UserReputation                                                     1\n",
              "CreationTimestamp                                         1622717067\n",
              "ReplyCount                                                         0\n",
              "ThumbsUpCount                                                      0\n",
              "ThumbsDownCount                                                    0\n",
              "Rating                                                             5\n",
              "BestScore                                                        100\n",
              "Recipe_Review        Great use of bananas &amp; blueberries.  Yummy!\n",
              "Name: 2983, dtype: object"
            ]
          },
          "metadata": {},
          "execution_count": 113
        }
      ]
    },
    {
      "cell_type": "code",
      "execution_count": null,
      "metadata": {
        "colab": {
          "base_uri": "https://localhost:8080/",
          "height": 575
        },
        "id": "2b373723",
        "outputId": "19b16b3f-eee4-4afc-c300-627417b5ea9c"
      },
      "outputs": [
        {
          "output_type": "execute_result",
          "data": {
            "text/plain": [
              "<Axes: >"
            ]
          },
          "metadata": {},
          "execution_count": 114
        },
        {
          "output_type": "display_data",
          "data": {
            "text/plain": [
              "<Figure size 640x480 with 2 Axes>"
            ],
            "image/png": "[encoded data removed]"
          },
          "metadata": {}
        }
      ],
      "source": [
        "train.dropna(inplace=True)\n",
        "sns.heatmap(train.isnull(),yticklabels=False,cmap='viridis')"
      ]
    },
    {
      "cell_type": "code",
      "execution_count": null,
      "metadata": {
        "colab": {
          "base_uri": "https://localhost:8080/",
          "height": 1000
        },
        "id": "cb283af4",
        "outputId": "717fc270-42db-4758-8040-5a1e086c0505"
      },
      "outputs": [
        {
          "output_type": "execute_result",
          "data": {
            "text/plain": [
              "array([[<Axes: title={'center': 'ID'}>,\n",
              "        <Axes: title={'center': 'RecipeNumber'}>,\n",
              "        <Axes: title={'center': 'RecipeCode'}>],\n",
              "       [<Axes: title={'center': 'UserReputation'}>,\n",
              "        <Axes: title={'center': 'CreationTimestamp'}>,\n",
              "        <Axes: title={'center': 'ReplyCount'}>],\n",
              "       [<Axes: title={'center': 'ThumbsUpCount'}>,\n",
              "        <Axes: title={'center': 'ThumbsDownCount'}>,\n",
              "        <Axes: title={'center': 'Rating'}>],\n",
              "       [<Axes: title={'center': 'BestScore'}>, <Axes: >, <Axes: >]],\n",
              "      dtype=object)"
            ]
          },
          "metadata": {},
          "execution_count": 115
        },
        {
          "output_type": "display_data",
          "data": {
            "text/plain": [
              "<Figure size 2800x2200 with 12 Axes>"
            ],
            "image/png": "[encoded data removed]"
          },
          "metadata": {}
        }
      ],
      "source": [
        "train.hist(figsize=(28,22))"
      ]
    },
    {
      "cell_type": "code",
      "execution_count": null,
      "metadata": {
        "colab": {
          "base_uri": "https://localhost:8080/"
        },
        "id": "7e76c939",
        "outputId": "59dc0168-cf3c-41a2-9a35-9083e5fd5e3c"
      },
      "outputs": [
        {
          "output_type": "stream",
          "name": "stdout",
          "text": [
            "Numerical Features: Index(['ID', 'RecipeNumber', 'RecipeCode', 'UserReputation',\n",
            "       'CreationTimestamp', 'ReplyCount', 'ThumbsUpCount', 'ThumbsDownCount',\n",
            "       'Rating', 'BestScore'],\n",
            "      dtype='object')\n",
            "\n",
            "Categorical Features: Index(['RecipeName', 'CommentID', 'UserID', 'UserName', 'Recipe_Review'], dtype='object')\n"
          ]
        }
      ],
      "source": [
        "numeric = train.select_dtypes(include=['float64', 'int64']).columns\n",
        "categorical = train.select_dtypes(include=['object']).columns\n",
        "\n",
        "print('Numerical Features:',numeric)\n",
        "print()\n",
        "print('Categorical Features:',categorical)"
      ]
    },
    {
      "cell_type": "markdown",
      "metadata": {
        "id": "e5243476"
      },
      "source": [
        "### correlation matrix"
      ]
    },
    {
      "cell_type": "code",
      "execution_count": null,
      "metadata": {
        "colab": {
          "base_uri": "https://localhost:8080/",
          "height": 667
        },
        "id": "033b3bb6",
        "outputId": "1f6e5a2b-e81b-489b-f36f-a0d4d8f25527"
      },
      "outputs": [
        {
          "output_type": "execute_result",
          "data": {
            "text/plain": [
              "<Axes: >"
            ]
          },
          "metadata": {},
          "execution_count": 117
        },
        {
          "output_type": "display_data",
          "data": {
            "text/plain": [
              "<Figure size 900x600 with 2 Axes>"
            ],
            "image/png": "[encoded data removed]"
          },
          "metadata": {}
        }
      ],
      "source": [
        "numeric = train.select_dtypes(include=['float64', 'int64']).columns\n",
        "corr_matrix = train[numeric].corr()\n",
        "plt.figure(figsize=(9,6))\n",
        "sns.heatmap(corr_matrix, annot= True,xticklabels=True,yticklabels=True,cmap='Blues')"
      ]
    },
    {
      "cell_type": "code",
      "execution_count": null,
      "metadata": {
        "colab": {
          "base_uri": "https://localhost:8080/",
          "height": 466
        },
        "id": "8310e30d",
        "outputId": "d10bda96-0af3-4f36-cec8-8246e2fbcc31"
      },
      "outputs": [
        {
          "output_type": "execute_result",
          "data": {
            "text/plain": [
              "<Axes: xlabel='Rating', ylabel='count'>"
            ]
          },
          "metadata": {},
          "execution_count": 118
        },
        {
          "output_type": "display_data",
          "data": {
            "text/plain": [
              "<Figure size 640x480 with 1 Axes>"
            ],
            "image/png": "[encoded data removed]"
          },
          "metadata": {}
        }
      ],
      "source": [
        "sns.countplot(x='Rating',data=train)"
      ]
    },
    {
      "cell_type": "code",
      "execution_count": null,
      "metadata": {
        "colab": {
          "base_uri": "https://localhost:8080/",
          "height": 466
        },
        "id": "04f49a2e",
        "outputId": "5bd2b71a-e293-4b2c-f110-1fd44c9447f5"
      },
      "outputs": [
        {
          "output_type": "execute_result",
          "data": {
            "text/plain": [
              "<Axes: xlabel='Rating', ylabel='ThumbsDownCount'>"
            ]
          },
          "metadata": {},
          "execution_count": 119
        },
        {
          "output_type": "display_data",
          "data": {
            "text/plain": [
              "<Figure size 640x480 with 1 Axes>"
            ],
            "image/png": "[encoded data removed]"
          },
          "metadata": {}
        }
      ],
      "source": [
        "# checking if there are any outliers\n",
        "sns.boxplot(x='Rating', y='ThumbsDownCount',data=train)"
      ]
    },
    {
      "cell_type": "code",
      "execution_count": null,
      "metadata": {
        "id": "e6ed330e"
      },
      "outputs": [],
      "source": [
        "#splitting the train dataset into X and y\n",
        "X = train.drop('Rating',axis=1)\n",
        "y = train['Rating']"
      ]
    },
    {
      "cell_type": "code",
      "execution_count": null,
      "metadata": {
        "id": "93c9044b"
      },
      "outputs": [],
      "source": [
        "#As the commentID,UserID,UserName doesnt effect the ratings,drop them\n",
        "X_new = X.drop(['CommentID','UserID','UserName'],axis=1,inplace=True)"
      ]
    },
    {
      "cell_type": "code",
      "execution_count": null,
      "metadata": {
        "colab": {
          "base_uri": "https://localhost:8080/",
          "height": 486
        },
        "id": "c6e35b59",
        "outputId": "db62b252-999d-40f2-8e61-fc39ab38bf5d"
      },
      "outputs": [
        {
          "output_type": "execute_result",
          "data": {
            "text/plain": [
              "    ID  RecipeNumber  RecipeCode                              RecipeName  \\\n",
              "0   70            71       12259  Banana Bars with Cream Cheese Frosting   \n",
              "1   72            88        8202                        Simple Taco Soup   \n",
              "2  458             3        2832                       Cheeseburger Soup   \n",
              "3    7            50      100276               Grilled Huli Huli Chicken   \n",
              "4   60            12       19731                        Cauliflower Soup   \n",
              "\n",
              "   UserReputation  CreationTimestamp  ReplyCount  ThumbsUpCount  \\\n",
              "0              20         1622717078           0              0   \n",
              "1               1         1622717852           0              0   \n",
              "2               1         1622717357           0              0   \n",
              "3               1         1622648899           0              0   \n",
              "4               1         1622718260           0              0   \n",
              "\n",
              "   ThumbsDownCount  BestScore  \\\n",
              "0                0        100   \n",
              "1                1        100   \n",
              "2                0        100   \n",
              "3                0        100   \n",
              "4                0        100   \n",
              "\n",
              "                                       Recipe_Review  \n",
              "0  great recipe! I have made them just as written...  \n",
              "1  This is an easy and quick recipe that is great...  \n",
              "2  I think I was looking for something extra spec...  \n",
              "3  This is our favorite grilled chicken recipe.  ...  \n",
              "4  Great basic recipe. I added 2 teaspoons Tuscan...  "
            ],
            "text/html": [
              "\n",
              "  <div id=\"df-1cf4c177-43ba-43d4-8726-b5e332769764\" class=\"colab-df-container\">\n",
              "    <div>\n",
              "<style scoped>\n",
              "    .dataframe tbody tr th:only-of-type {\n",
              "        vertical-align: middle;\n",
              "    }\n",
              "\n",
              "    .dataframe tbody tr th {\n",
              "        vertical-align: top;\n",
              "    }\n",
              "\n",
              "    .dataframe thead th {\n",
              "        text-align: right;\n",
              "    }\n",
              "</style>\n",
              "<table border=\"1\" class=\"dataframe\">\n",
              "  <thead>\n",
              "    <tr style=\"text-align: right;\">\n",
              "      <th></th>\n",
              "      <th>ID</th>\n",
              "      <th>RecipeNumber</th>\n",
              "      <th>RecipeCode</th>\n",
              "      <th>RecipeName</th>\n",
              "      <th>UserReputation</th>\n",
              "      <th>CreationTimestamp</th>\n",
              "      <th>ReplyCount</th>\n",
              "      <th>ThumbsUpCount</th>\n",
              "      <th>ThumbsDownCount</th>\n",
              "      <th>BestScore</th>\n",
              "      <th>Recipe_Review</th>\n",
              "    </tr>\n",
              "  </thead>\n",
              "  <tbody>\n",
              "    <tr>\n",
              "      <th>0</th>\n",
              "      <td>70</td>\n",
              "      <td>71</td>\n",
              "      <td>12259</td>\n",
              "      <td>Banana Bars with Cream Cheese Frosting</td>\n",
              "      <td>20</td>\n",
              "      <td>1622717078</td>\n",
              "      <td>0</td>\n",
              "      <td>0</td>\n",
              "      <td>0</td>\n",
              "      <td>100</td>\n",
              "      <td>great recipe! I have made them just as written...</td>\n",
              "    </tr>\n",
              "    <tr>\n",
              "      <th>1</th>\n",
              "      <td>72</td>\n",
              "      <td>88</td>\n",
              "      <td>8202</td>\n",
              "      <td>Simple Taco Soup</td>\n",
              "      <td>1</td>\n",
              "      <td>1622717852</td>\n",
              "      <td>0</td>\n",
              "      <td>0</td>\n",
              "      <td>1</td>\n",
              "      <td>100</td>\n",
              "      <td>This is an easy and quick recipe that is great...</td>\n",
              "    </tr>\n",
              "    <tr>\n",
              "      <th>2</th>\n",
              "      <td>458</td>\n",
              "      <td>3</td>\n",
              "      <td>2832</td>\n",
              "      <td>Cheeseburger Soup</td>\n",
              "      <td>1</td>\n",
              "      <td>1622717357</td>\n",
              "      <td>0</td>\n",
              "      <td>0</td>\n",
              "      <td>0</td>\n",
              "      <td>100</td>\n",
              "      <td>I think I was looking for something extra spec...</td>\n",
              "    </tr>\n",
              "    <tr>\n",
              "      <th>3</th>\n",
              "      <td>7</td>\n",
              "      <td>50</td>\n",
              "      <td>100276</td>\n",
              "      <td>Grilled Huli Huli Chicken</td>\n",
              "      <td>1</td>\n",
              "      <td>1622648899</td>\n",
              "      <td>0</td>\n",
              "      <td>0</td>\n",
              "      <td>0</td>\n",
              "      <td>100</td>\n",
              "      <td>This is our favorite grilled chicken recipe.  ...</td>\n",
              "    </tr>\n",
              "    <tr>\n",
              "      <th>4</th>\n",
              "      <td>60</td>\n",
              "      <td>12</td>\n",
              "      <td>19731</td>\n",
              "      <td>Cauliflower Soup</td>\n",
              "      <td>1</td>\n",
              "      <td>1622718260</td>\n",
              "      <td>0</td>\n",
              "      <td>0</td>\n",
              "      <td>0</td>\n",
              "      <td>100</td>\n",
              "      <td>Great basic recipe. I added 2 teaspoons Tuscan...</td>\n",
              "    </tr>\n",
              "  </tbody>\n",
              "</table>\n",
              "</div>\n",
              "    <div class=\"colab-df-buttons\">\n",
              "\n",
              "  <div class=\"colab-df-container\">\n",
              "    <button class=\"colab-df-convert\" onclick=\"convertToInteractive('df-1cf4c177-43ba-43d4-8726-b5e332769764')\"\n",
              "            title=\"Convert this dataframe to an interactive table.\"\n",
              "            style=\"display:none;\">\n",
              "\n",
              "  <svg xmlns=\"http://www.w3.org/2000/svg\" height=\"24px\" viewBox=\"0 -960 960 960\">\n",
              "    <path d=\"M120-120v-720h720v720H120Zm60-500h600v-160H180v160Zm220 220h160v-160H400v160Zm0 220h160v-160H400v160ZM180-400h160v-160H180v160Zm440 0h160v-160H620v160ZM180-180h160v-160H180v160Zm440 0h160v-160H620v160Z\"/>\n",
              "  </svg>\n",
              "    </button>\n",
              "\n",
              "  <style>\n",
              "    .colab-df-container {\n",
              "      display:flex;\n",
              "      gap: 12px;\n",
              "    }\n",
              "\n",
              "    .colab-df-convert {\n",
              "      background-color: #E8F0FE;\n",
              "      border: none;\n",
              "      border-radius: 50%;\n",
              "      cursor: pointer;\n",
              "      display: none;\n",
              "      fill: #1967D2;\n",
              "      height: 32px;\n",
              "      padding: 0 0 0 0;\n",
              "      width: 32px;\n",
              "    }\n",
              "\n",
              "    .colab-df-convert:hover {\n",
              "      background-color: #E2EBFA;\n",
              "      box-shadow: 0px 1px 2px rgba(60, 64, 67, 0.3), 0px 1px 3px 1px rgba(60, 64, 67, 0.15);\n",
              "      fill: #174EA6;\n",
              "    }\n",
              "\n",
              "    .colab-df-buttons div {\n",
              "      margin-bottom: 4px;\n",
              "    }\n",
              "\n",
              "    [theme=dark] .colab-df-convert {\n",
              "      background-color: #3B4455;\n",
              "      fill: #D2E3FC;\n",
              "    }\n",
              "\n",
              "    [theme=dark] .colab-df-convert:hover {\n",
              "      background-color: #434B5C;\n",
              "      box-shadow: 0px 1px 3px 1px rgba(0, 0, 0, 0.15);\n",
              "      filter: drop-shadow(0px 1px 2px rgba(0, 0, 0, 0.3));\n",
              "      fill: #FFFFFF;\n",
              "    }\n",
              "  </style>\n",
              "\n",
              "    <script>\n",
              "      const buttonEl =\n",
              "        document.querySelector('#df-1cf4c177-43ba-43d4-8726-b5e332769764 button.colab-df-convert');\n",
              "      buttonEl.style.display =\n",
              "        google.colab.kernel.accessAllowed ? 'block' : 'none';\n",
              "\n",
              "      async function convertToInteractive(key) {\n",
              "        const element = document.querySelector('#df-1cf4c177-43ba-43d4-8726-b5e332769764');\n",
              "        const dataTable =\n",
              "          await google.colab.kernel.invokeFunction('convertToInteractive',\n",
              "                                                    [key], {});\n",
              "        if (!dataTable) return;\n",
              "\n",
              "        const docLinkHtml = 'Like what you see? Visit the ' +\n",
              "          '<a target=\"_blank\" href=https://colab.research.google.com/notebooks/data_table.ipynb>data table notebook</a>'\n",
              "          + ' to learn more about interactive tables.';\n",
              "        element.innerHTML = '';\n",
              "        dataTable['output_type'] = 'display_data';\n",
              "        await google.colab.output.renderOutput(dataTable, element);\n",
              "        const docLink = document.createElement('div');\n",
              "        docLink.innerHTML = docLinkHtml;\n",
              "        element.appendChild(docLink);\n",
              "      }\n",
              "    </script>\n",
              "  </div>\n",
              "\n",
              "\n",
              "<div id=\"df-42d7326a-6b4b-4a31-b716-a48efcfd17da\">\n",
              "  <button class=\"colab-df-quickchart\" onclick=\"quickchart('df-42d7326a-6b4b-4a31-b716-a48efcfd17da')\"\n",
              "            title=\"Suggest charts\"\n",
              "            style=\"display:none;\">\n",
              "\n",
              "<svg xmlns=\"http://www.w3.org/2000/svg\" height=\"24px\"viewBox=\"0 0 24 24\"\n",
              "     width=\"24px\">\n",
              "    <g>\n",
              "        <path d=\"M19 3H5c-1.1 0-2 .9-2 2v14c0 1.1.9 2 2 2h14c1.1 0 2-.9 2-2V5c0-1.1-.9-2-2-2zM9 17H7v-7h2v7zm4 0h-2V7h2v10zm4 0h-2v-4h2v4z\"/>\n",
              "    </g>\n",
              "</svg>\n",
              "  </button>\n",
              "\n",
              "<style>\n",
              "  .colab-df-quickchart {\n",
              "      --bg-color: #E8F0FE;\n",
              "      --fill-color: #1967D2;\n",
              "      --hover-bg-color: #E2EBFA;\n",
              "      --hover-fill-color: #174EA6;\n",
              "      --disabled-fill-color: #AAA;\n",
              "      --disabled-bg-color: #DDD;\n",
              "  }\n",
              "\n",
              "  [theme=dark] .colab-df-quickchart {\n",
              "      --bg-color: #3B4455;\n",
              "      --fill-color: #D2E3FC;\n",
              "      --hover-bg-color: #434B5C;\n",
              "      --hover-fill-color: #FFFFFF;\n",
              "      --disabled-bg-color: #3B4455;\n",
              "      --disabled-fill-color: #666;\n",
              "  }\n",
              "\n",
              "  .colab-df-quickchart {\n",
              "    background-color: var(--bg-color);\n",
              "    border: none;\n",
              "    border-radius: 50%;\n",
              "    cursor: pointer;\n",
              "    display: none;\n",
              "    fill: var(--fill-color);\n",
              "    height: 32px;\n",
              "    padding: 0;\n",
              "    width: 32px;\n",
              "  }\n",
              "\n",
              "  .colab-df-quickchart:hover {\n",
              "    background-color: var(--hover-bg-color);\n",
              "    box-shadow: 0 1px 2px rgba(60, 64, 67, 0.3), 0 1px 3px 1px rgba(60, 64, 67, 0.15);\n",
              "    fill: var(--button-hover-fill-color);\n",
              "  }\n",
              "\n",
              "  .colab-df-quickchart-complete:disabled,\n",
              "  .colab-df-quickchart-complete:disabled:hover {\n",
              "    background-color: var(--disabled-bg-color);\n",
              "    fill: var(--disabled-fill-color);\n",
              "    box-shadow: none;\n",
              "  }\n",
              "\n",
              "  .colab-df-spinner {\n",
              "    border: 2px solid var(--fill-color);\n",
              "    border-color: transparent;\n",
              "    border-bottom-color: var(--fill-color);\n",
              "    animation:\n",
              "      spin 1s steps(1) infinite;\n",
              "  }\n",
              "\n",
              "  @keyframes spin {\n",
              "    0% {\n",
              "      border-color: transparent;\n",
              "      border-bottom-color: var(--fill-color);\n",
              "      border-left-color: var(--fill-color);\n",
              "    }\n",
              "    20% {\n",
              "      border-color: transparent;\n",
              "      border-left-color: var(--fill-color);\n",
              "      border-top-color: var(--fill-color);\n",
              "    }\n",
              "    30% {\n",
              "      border-color: transparent;\n",
              "      border-left-color: var(--fill-color);\n",
              "      border-top-color: var(--fill-color);\n",
              "      border-right-color: var(--fill-color);\n",
              "    }\n",
              "    40% {\n",
              "      border-color: transparent;\n",
              "      border-right-color: var(--fill-color);\n",
              "      border-top-color: var(--fill-color);\n",
              "    }\n",
              "    60% {\n",
              "      border-color: transparent;\n",
              "      border-right-color: var(--fill-color);\n",
              "    }\n",
              "    80% {\n",
              "      border-color: transparent;\n",
              "      border-right-color: var(--fill-color);\n",
              "      border-bottom-color: var(--fill-color);\n",
              "    }\n",
              "    90% {\n",
              "      border-color: transparent;\n",
              "      border-bottom-color: var(--fill-color);\n",
              "    }\n",
              "  }\n",
              "</style>\n",
              "\n",
              "  <script>\n",
              "    async function quickchart(key) {\n",
              "      const quickchartButtonEl =\n",
              "        document.querySelector('#' + key + ' button');\n",
              "      quickchartButtonEl.disabled = true;  // To prevent multiple clicks.\n",
              "      quickchartButtonEl.classList.add('colab-df-spinner');\n",
              "      try {\n",
              "        const charts = await google.colab.kernel.invokeFunction(\n",
              "            'suggestCharts', [key], {});\n",
              "      } catch (error) {\n",
              "        console.error('Error during call to suggestCharts:', error);\n",
              "      }\n",
              "      quickchartButtonEl.classList.remove('colab-df-spinner');\n",
              "      quickchartButtonEl.classList.add('colab-df-quickchart-complete');\n",
              "    }\n",
              "    (() => {\n",
              "      let quickchartButtonEl =\n",
              "        document.querySelector('#df-42d7326a-6b4b-4a31-b716-a48efcfd17da button');\n",
              "      quickchartButtonEl.style.display =\n",
              "        google.colab.kernel.accessAllowed ? 'block' : 'none';\n",
              "    })();\n",
              "  </script>\n",
              "</div>\n",
              "    </div>\n",
              "  </div>\n"
            ],
            "application/vnd.google.colaboratory.intrinsic+json": {
              "type": "dataframe",
              "variable_name": "X",
              "summary": "{\n  \"name\": \"X\",\n  \"rows\": 13634,\n  \"fields\": [\n    {\n      \"column\": \"ID\",\n      \"properties\": {\n        \"dtype\": \"number\",\n        \"std\": 116,\n        \"min\": 0,\n        \"max\": 724,\n        \"num_unique_values\": 701,\n        \"samples\": [\n          472,\n          94,\n          195\n        ],\n        \"semantic_type\": \"\",\n        \"description\": \"\"\n      }\n    },\n    {\n      \"column\": \"RecipeNumber\",\n      \"properties\": {\n        \"dtype\": \"number\",\n        \"std\": 29,\n        \"min\": 1,\n        \"max\": 100,\n        \"num_unique_values\": 100,\n        \"samples\": [\n          99,\n          75,\n          58\n        ],\n        \"semantic_type\": \"\",\n        \"description\": \"\"\n      }\n    },\n    {\n      \"column\": \"RecipeCode\",\n      \"properties\": {\n        \"dtype\": \"number\",\n        \"std\": 23884,\n        \"min\": 386,\n        \"max\": 191775,\n        \"num_unique_values\": 100,\n        \"samples\": [\n          191775,\n          38183,\n          32248\n        ],\n        \"semantic_type\": \"\",\n        \"description\": \"\"\n      }\n    },\n    {\n      \"column\": \"RecipeName\",\n      \"properties\": {\n        \"dtype\": \"category\",\n        \"num_unique_values\": 100,\n        \"samples\": [\n          \"Egg Roll Noodle Bowl\",\n          \"Baked Tilapia\",\n          \"Smothered Chicken Breasts\"\n        ],\n        \"semantic_type\": \"\",\n        \"description\": \"\"\n      }\n    },\n    {\n      \"column\": \"UserReputation\",\n      \"properties\": {\n        \"dtype\": \"number\",\n        \"std\": 10,\n        \"min\": 0,\n        \"max\": 510,\n        \"num_unique_values\": 20,\n        \"samples\": [\n          20,\n          130,\n          220\n        ],\n        \"semantic_type\": \"\",\n        \"description\": \"\"\n      }\n    },\n    {\n      \"column\": \"CreationTimestamp\",\n      \"properties\": {\n        \"dtype\": \"number\",\n        \"std\": 5444406,\n        \"min\": 1613035336,\n        \"max\": 1665756035,\n        \"num_unique_values\": 2422,\n        \"samples\": [\n          1622718427,\n          1622717755,\n          1622718082\n        ],\n        \"semantic_type\": \"\",\n        \"description\": \"\"\n      }\n    },\n    {\n      \"column\": \"ReplyCount\",\n      \"properties\": {\n        \"dtype\": \"number\",\n        \"std\": 0,\n        \"min\": 0,\n        \"max\": 3,\n        \"num_unique_values\": 4,\n        \"samples\": [\n          1,\n          3,\n          0\n        ],\n        \"semantic_type\": \"\",\n        \"description\": \"\"\n      }\n    },\n    {\n      \"column\": \"ThumbsUpCount\",\n      \"properties\": {\n        \"dtype\": \"number\",\n        \"std\": 4,\n        \"min\": 0,\n        \"max\": 80,\n        \"num_unique_values\": 57,\n        \"samples\": [\n          0,\n          5,\n          55\n        ],\n        \"semantic_type\": \"\",\n        \"description\": \"\"\n      }\n    },\n    {\n      \"column\": \"ThumbsDownCount\",\n      \"properties\": {\n        \"dtype\": \"number\",\n        \"std\": 3,\n        \"min\": 0,\n        \"max\": 126,\n        \"num_unique_values\": 51,\n        \"samples\": [\n          104,\n          46,\n          22\n        ],\n        \"semantic_type\": \"\",\n        \"description\": \"\"\n      }\n    },\n    {\n      \"column\": \"BestScore\",\n      \"properties\": {\n        \"dtype\": \"number\",\n        \"std\": 140,\n        \"min\": 0,\n        \"max\": 946,\n        \"num_unique_values\": 525,\n        \"samples\": [\n          491,\n          168,\n          530\n        ],\n        \"semantic_type\": \"\",\n        \"description\": \"\"\n      }\n    },\n    {\n      \"column\": \"Recipe_Review\",\n      \"properties\": {\n        \"dtype\": \"string\",\n        \"num_unique_values\": 13370,\n        \"samples\": [\n          \"Just once I&#39;d like to see one of these recipes serve fewer than an army. Maybe have one that serves two or three once and awhile.\",\n          \"Delicious. The whole family loved it. Like a very moist cornbread with some whole kernels in it.\",\n          \"This was great!  I didn&#39;t have green peppers, so I omitted them, but it was still great.  Pretty simple to make too.\"\n        ],\n        \"semantic_type\": \"\",\n        \"description\": \"\"\n      }\n    }\n  ]\n}"
            }
          },
          "metadata": {},
          "execution_count": 122
        }
      ],
      "source": [
        "X.head()"
      ]
    },
    {
      "cell_type": "markdown",
      "metadata": {
        "id": "849ab51e"
      },
      "source": [
        "## Splitting of dataset into train and test data"
      ]
    },
    {
      "cell_type": "code",
      "execution_count": null,
      "metadata": {
        "colab": {
          "base_uri": "https://localhost:8080/"
        },
        "id": "f3a234af",
        "outputId": "0cdf5752-0d68-40a9-e745-9e625d17c799"
      },
      "outputs": [
        {
          "output_type": "stream",
          "name": "stdout",
          "text": [
            "(10907, 11) (2727, 11)\n",
            "(10907,) (2727,)\n"
          ]
        }
      ],
      "source": [
        "Xtrain,Xval,ytrain,yval = train_test_split(X,y,test_size=0.2,shuffle=True,random_state=42)\n",
        "print(Xtrain.shape, Xval.shape)\n",
        "print(ytrain.shape,yval.shape)"
      ]
    },
    {
      "cell_type": "code",
      "execution_count": null,
      "metadata": {
        "colab": {
          "base_uri": "https://localhost:8080/",
          "height": 486
        },
        "id": "c6bf9a39",
        "outputId": "0b47ea57-e1bc-4e51-e3a9-02931b82ad33"
      },
      "outputs": [
        {
          "output_type": "execute_result",
          "data": {
            "text/plain": [
              "        ID  RecipeNumber  RecipeCode                    RecipeName  \\\n",
              "8376   132            43       33457             Chunky Apple Cake   \n",
              "8945   103            45       41384  Black Bean ‘n’ Pumpkin Chili   \n",
              "12430  109            12       19731              Cauliflower Soup   \n",
              "532     76            41       35948  Caramel-Pecan Cheesecake Pie   \n",
              "12109   99            36        1196                 Pumpkin Bread   \n",
              "\n",
              "       UserReputation  CreationTimestamp  ReplyCount  ThumbsUpCount  \\\n",
              "8376                1         1622718212           0              0   \n",
              "8945                1         1622718167           0              0   \n",
              "12430               1         1622718367           0              0   \n",
              "532                 1         1622717592           0              0   \n",
              "12109               1         1622718059           0              0   \n",
              "\n",
              "       ThumbsDownCount  BestScore  \\\n",
              "8376                 0        100   \n",
              "8945                 0        100   \n",
              "12430                0        100   \n",
              "532                  0        100   \n",
              "12109                0        100   \n",
              "\n",
              "                                           Recipe_Review  \n",
              "8376   WVALLJ -I think that applesauce would be an id...  \n",
              "8945   when i make chili i brown the meat then add al...  \n",
              "12430  So easy and good!  I substituted broccoli for ...  \n",
              "532    My pie did not turn out as expected, was very ...  \n",
              "12109  Very delicious and moist, I cut the sugar down...  "
            ],
            "text/html": [
              "\n",
              "  <div id=\"df-c6cffc54-d2d7-477c-9d26-cdddaab39697\" class=\"colab-df-container\">\n",
              "    <div>\n",
              "<style scoped>\n",
              "    .dataframe tbody tr th:only-of-type {\n",
              "        vertical-align: middle;\n",
              "    }\n",
              "\n",
              "    .dataframe tbody tr th {\n",
              "        vertical-align: top;\n",
              "    }\n",
              "\n",
              "    .dataframe thead th {\n",
              "        text-align: right;\n",
              "    }\n",
              "</style>\n",
              "<table border=\"1\" class=\"dataframe\">\n",
              "  <thead>\n",
              "    <tr style=\"text-align: right;\">\n",
              "      <th></th>\n",
              "      <th>ID</th>\n",
              "      <th>RecipeNumber</th>\n",
              "      <th>RecipeCode</th>\n",
              "      <th>RecipeName</th>\n",
              "      <th>UserReputation</th>\n",
              "      <th>CreationTimestamp</th>\n",
              "      <th>ReplyCount</th>\n",
              "      <th>ThumbsUpCount</th>\n",
              "      <th>ThumbsDownCount</th>\n",
              "      <th>BestScore</th>\n",
              "      <th>Recipe_Review</th>\n",
              "    </tr>\n",
              "  </thead>\n",
              "  <tbody>\n",
              "    <tr>\n",
              "      <th>8376</th>\n",
              "      <td>132</td>\n",
              "      <td>43</td>\n",
              "      <td>33457</td>\n",
              "      <td>Chunky Apple Cake</td>\n",
              "      <td>1</td>\n",
              "      <td>1622718212</td>\n",
              "      <td>0</td>\n",
              "      <td>0</td>\n",
              "      <td>0</td>\n",
              "      <td>100</td>\n",
              "      <td>WVALLJ -I think that applesauce would be an id...</td>\n",
              "    </tr>\n",
              "    <tr>\n",
              "      <th>8945</th>\n",
              "      <td>103</td>\n",
              "      <td>45</td>\n",
              "      <td>41384</td>\n",
              "      <td>Black Bean ‘n’ Pumpkin Chili</td>\n",
              "      <td>1</td>\n",
              "      <td>1622718167</td>\n",
              "      <td>0</td>\n",
              "      <td>0</td>\n",
              "      <td>0</td>\n",
              "      <td>100</td>\n",
              "      <td>when i make chili i brown the meat then add al...</td>\n",
              "    </tr>\n",
              "    <tr>\n",
              "      <th>12430</th>\n",
              "      <td>109</td>\n",
              "      <td>12</td>\n",
              "      <td>19731</td>\n",
              "      <td>Cauliflower Soup</td>\n",
              "      <td>1</td>\n",
              "      <td>1622718367</td>\n",
              "      <td>0</td>\n",
              "      <td>0</td>\n",
              "      <td>0</td>\n",
              "      <td>100</td>\n",
              "      <td>So easy and good!  I substituted broccoli for ...</td>\n",
              "    </tr>\n",
              "    <tr>\n",
              "      <th>532</th>\n",
              "      <td>76</td>\n",
              "      <td>41</td>\n",
              "      <td>35948</td>\n",
              "      <td>Caramel-Pecan Cheesecake Pie</td>\n",
              "      <td>1</td>\n",
              "      <td>1622717592</td>\n",
              "      <td>0</td>\n",
              "      <td>0</td>\n",
              "      <td>0</td>\n",
              "      <td>100</td>\n",
              "      <td>My pie did not turn out as expected, was very ...</td>\n",
              "    </tr>\n",
              "    <tr>\n",
              "      <th>12109</th>\n",
              "      <td>99</td>\n",
              "      <td>36</td>\n",
              "      <td>1196</td>\n",
              "      <td>Pumpkin Bread</td>\n",
              "      <td>1</td>\n",
              "      <td>1622718059</td>\n",
              "      <td>0</td>\n",
              "      <td>0</td>\n",
              "      <td>0</td>\n",
              "      <td>100</td>\n",
              "      <td>Very delicious and moist, I cut the sugar down...</td>\n",
              "    </tr>\n",
              "  </tbody>\n",
              "</table>\n",
              "</div>\n",
              "    <div class=\"colab-df-buttons\">\n",
              "\n",
              "  <div class=\"colab-df-container\">\n",
              "    <button class=\"colab-df-convert\" onclick=\"convertToInteractive('df-c6cffc54-d2d7-477c-9d26-cdddaab39697')\"\n",
              "            title=\"Convert this dataframe to an interactive table.\"\n",
              "            style=\"display:none;\">\n",
              "\n",
              "  <svg xmlns=\"http://www.w3.org/2000/svg\" height=\"24px\" viewBox=\"0 -960 960 960\">\n",
              "    <path d=\"M120-120v-720h720v720H120Zm60-500h600v-160H180v160Zm220 220h160v-160H400v160Zm0 220h160v-160H400v160ZM180-400h160v-160H180v160Zm440 0h160v-160H620v160ZM180-180h160v-160H180v160Zm440 0h160v-160H620v160Z\"/>\n",
              "  </svg>\n",
              "    </button>\n",
              "\n",
              "  <style>\n",
              "    .colab-df-container {\n",
              "      display:flex;\n",
              "      gap: 12px;\n",
              "    }\n",
              "\n",
              "    .colab-df-convert {\n",
              "      background-color: #E8F0FE;\n",
              "      border: none;\n",
              "      border-radius: 50%;\n",
              "      cursor: pointer;\n",
              "      display: none;\n",
              "      fill: #1967D2;\n",
              "      height: 32px;\n",
              "      padding: 0 0 0 0;\n",
              "      width: 32px;\n",
              "    }\n",
              "\n",
              "    .colab-df-convert:hover {\n",
              "      background-color: #E2EBFA;\n",
              "      box-shadow: 0px 1px 2px rgba(60, 64, 67, 0.3), 0px 1px 3px 1px rgba(60, 64, 67, 0.15);\n",
              "      fill: #174EA6;\n",
              "    }\n",
              "\n",
              "    .colab-df-buttons div {\n",
              "      margin-bottom: 4px;\n",
              "    }\n",
              "\n",
              "    [theme=dark] .colab-df-convert {\n",
              "      background-color: #3B4455;\n",
              "      fill: #D2E3FC;\n",
              "    }\n",
              "\n",
              "    [theme=dark] .colab-df-convert:hover {\n",
              "      background-color: #434B5C;\n",
              "      box-shadow: 0px 1px 3px 1px rgba(0, 0, 0, 0.15);\n",
              "      filter: drop-shadow(0px 1px 2px rgba(0, 0, 0, 0.3));\n",
              "      fill: #FFFFFF;\n",
              "    }\n",
              "  </style>\n",
              "\n",
              "    <script>\n",
              "      const buttonEl =\n",
              "        document.querySelector('#df-c6cffc54-d2d7-477c-9d26-cdddaab39697 button.colab-df-convert');\n",
              "      buttonEl.style.display =\n",
              "        google.colab.kernel.accessAllowed ? 'block' : 'none';\n",
              "\n",
              "      async function convertToInteractive(key) {\n",
              "        const element = document.querySelector('#df-c6cffc54-d2d7-477c-9d26-cdddaab39697');\n",
              "        const dataTable =\n",
              "          await google.colab.kernel.invokeFunction('convertToInteractive',\n",
              "                                                    [key], {});\n",
              "        if (!dataTable) return;\n",
              "\n",
              "        const docLinkHtml = 'Like what you see? Visit the ' +\n",
              "          '<a target=\"_blank\" href=https://colab.research.google.com/notebooks/data_table.ipynb>data table notebook</a>'\n",
              "          + ' to learn more about interactive tables.';\n",
              "        element.innerHTML = '';\n",
              "        dataTable['output_type'] = 'display_data';\n",
              "        await google.colab.output.renderOutput(dataTable, element);\n",
              "        const docLink = document.createElement('div');\n",
              "        docLink.innerHTML = docLinkHtml;\n",
              "        element.appendChild(docLink);\n",
              "      }\n",
              "    </script>\n",
              "  </div>\n",
              "\n",
              "\n",
              "<div id=\"df-5cb9c811-64ea-4203-862c-34d5caacd01f\">\n",
              "  <button class=\"colab-df-quickchart\" onclick=\"quickchart('df-5cb9c811-64ea-4203-862c-34d5caacd01f')\"\n",
              "            title=\"Suggest charts\"\n",
              "            style=\"display:none;\">\n",
              "\n",
              "<svg xmlns=\"http://www.w3.org/2000/svg\" height=\"24px\"viewBox=\"0 0 24 24\"\n",
              "     width=\"24px\">\n",
              "    <g>\n",
              "        <path d=\"M19 3H5c-1.1 0-2 .9-2 2v14c0 1.1.9 2 2 2h14c1.1 0 2-.9 2-2V5c0-1.1-.9-2-2-2zM9 17H7v-7h2v7zm4 0h-2V7h2v10zm4 0h-2v-4h2v4z\"/>\n",
              "    </g>\n",
              "</svg>\n",
              "  </button>\n",
              "\n",
              "<style>\n",
              "  .colab-df-quickchart {\n",
              "      --bg-color: #E8F0FE;\n",
              "      --fill-color: #1967D2;\n",
              "      --hover-bg-color: #E2EBFA;\n",
              "      --hover-fill-color: #174EA6;\n",
              "      --disabled-fill-color: #AAA;\n",
              "      --disabled-bg-color: #DDD;\n",
              "  }\n",
              "\n",
              "  [theme=dark] .colab-df-quickchart {\n",
              "      --bg-color: #3B4455;\n",
              "      --fill-color: #D2E3FC;\n",
              "      --hover-bg-color: #434B5C;\n",
              "      --hover-fill-color: #FFFFFF;\n",
              "      --disabled-bg-color: #3B4455;\n",
              "      --disabled-fill-color: #666;\n",
              "  }\n",
              "\n",
              "  .colab-df-quickchart {\n",
              "    background-color: var(--bg-color);\n",
              "    border: none;\n",
              "    border-radius: 50%;\n",
              "    cursor: pointer;\n",
              "    display: none;\n",
              "    fill: var(--fill-color);\n",
              "    height: 32px;\n",
              "    padding: 0;\n",
              "    width: 32px;\n",
              "  }\n",
              "\n",
              "  .colab-df-quickchart:hover {\n",
              "    background-color: var(--hover-bg-color);\n",
              "    box-shadow: 0 1px 2px rgba(60, 64, 67, 0.3), 0 1px 3px 1px rgba(60, 64, 67, 0.15);\n",
              "    fill: var(--button-hover-fill-color);\n",
              "  }\n",
              "\n",
              "  .colab-df-quickchart-complete:disabled,\n",
              "  .colab-df-quickchart-complete:disabled:hover {\n",
              "    background-color: var(--disabled-bg-color);\n",
              "    fill: var(--disabled-fill-color);\n",
              "    box-shadow: none;\n",
              "  }\n",
              "\n",
              "  .colab-df-spinner {\n",
              "    border: 2px solid var(--fill-color);\n",
              "    border-color: transparent;\n",
              "    border-bottom-color: var(--fill-color);\n",
              "    animation:\n",
              "      spin 1s steps(1) infinite;\n",
              "  }\n",
              "\n",
              "  @keyframes spin {\n",
              "    0% {\n",
              "      border-color: transparent;\n",
              "      border-bottom-color: var(--fill-color);\n",
              "      border-left-color: var(--fill-color);\n",
              "    }\n",
              "    20% {\n",
              "      border-color: transparent;\n",
              "      border-left-color: var(--fill-color);\n",
              "      border-top-color: var(--fill-color);\n",
              "    }\n",
              "    30% {\n",
              "      border-color: transparent;\n",
              "      border-left-color: var(--fill-color);\n",
              "      border-top-color: var(--fill-color);\n",
              "      border-right-color: var(--fill-color);\n",
              "    }\n",
              "    40% {\n",
              "      border-color: transparent;\n",
              "      border-right-color: var(--fill-color);\n",
              "      border-top-color: var(--fill-color);\n",
              "    }\n",
              "    60% {\n",
              "      border-color: transparent;\n",
              "      border-right-color: var(--fill-color);\n",
              "    }\n",
              "    80% {\n",
              "      border-color: transparent;\n",
              "      border-right-color: var(--fill-color);\n",
              "      border-bottom-color: var(--fill-color);\n",
              "    }\n",
              "    90% {\n",
              "      border-color: transparent;\n",
              "      border-bottom-color: var(--fill-color);\n",
              "    }\n",
              "  }\n",
              "</style>\n",
              "\n",
              "  <script>\n",
              "    async function quickchart(key) {\n",
              "      const quickchartButtonEl =\n",
              "        document.querySelector('#' + key + ' button');\n",
              "      quickchartButtonEl.disabled = true;  // To prevent multiple clicks.\n",
              "      quickchartButtonEl.classList.add('colab-df-spinner');\n",
              "      try {\n",
              "        const charts = await google.colab.kernel.invokeFunction(\n",
              "            'suggestCharts', [key], {});\n",
              "      } catch (error) {\n",
              "        console.error('Error during call to suggestCharts:', error);\n",
              "      }\n",
              "      quickchartButtonEl.classList.remove('colab-df-spinner');\n",
              "      quickchartButtonEl.classList.add('colab-df-quickchart-complete');\n",
              "    }\n",
              "    (() => {\n",
              "      let quickchartButtonEl =\n",
              "        document.querySelector('#df-5cb9c811-64ea-4203-862c-34d5caacd01f button');\n",
              "      quickchartButtonEl.style.display =\n",
              "        google.colab.kernel.accessAllowed ? 'block' : 'none';\n",
              "    })();\n",
              "  </script>\n",
              "</div>\n",
              "    </div>\n",
              "  </div>\n"
            ],
            "application/vnd.google.colaboratory.intrinsic+json": {
              "type": "dataframe",
              "variable_name": "Xtrain",
              "summary": "{\n  \"name\": \"Xtrain\",\n  \"rows\": 10907,\n  \"fields\": [\n    {\n      \"column\": \"ID\",\n      \"properties\": {\n        \"dtype\": \"number\",\n        \"std\": 117,\n        \"min\": 0,\n        \"max\": 724,\n        \"num_unique_values\": 664,\n        \"samples\": [\n          309,\n          152,\n          722\n        ],\n        \"semantic_type\": \"\",\n        \"description\": \"\"\n      }\n    },\n    {\n      \"column\": \"RecipeNumber\",\n      \"properties\": {\n        \"dtype\": \"number\",\n        \"std\": 29,\n        \"min\": 1,\n        \"max\": 100,\n        \"num_unique_values\": 100,\n        \"samples\": [\n          48,\n          79,\n          81\n        ],\n        \"semantic_type\": \"\",\n        \"description\": \"\"\n      }\n    },\n    {\n      \"column\": \"RecipeCode\",\n      \"properties\": {\n        \"dtype\": \"number\",\n        \"std\": 23980,\n        \"min\": 386,\n        \"max\": 191775,\n        \"num_unique_values\": 100,\n        \"samples\": [\n          9739,\n          33121,\n          27626\n        ],\n        \"semantic_type\": \"\",\n        \"description\": \"\"\n      }\n    },\n    {\n      \"column\": \"RecipeName\",\n      \"properties\": {\n        \"dtype\": \"category\",\n        \"num_unique_values\": 100,\n        \"samples\": [\n          \"Best Ever Potato Soup\",\n          \"Chocolate Chip Oatmeal Cookies\",\n          \"Skillet Shepherd\\u2019s Pie\"\n        ],\n        \"semantic_type\": \"\",\n        \"description\": \"\"\n      }\n    },\n    {\n      \"column\": \"UserReputation\",\n      \"properties\": {\n        \"dtype\": \"number\",\n        \"std\": 9,\n        \"min\": 0,\n        \"max\": 510,\n        \"num_unique_values\": 19,\n        \"samples\": [\n          1,\n          30,\n          160\n        ],\n        \"semantic_type\": \"\",\n        \"description\": \"\"\n      }\n    },\n    {\n      \"column\": \"CreationTimestamp\",\n      \"properties\": {\n        \"dtype\": \"number\",\n        \"std\": 5479631,\n        \"min\": 1613036337,\n        \"max\": 1665687208,\n        \"num_unique_values\": 2250,\n        \"samples\": [\n          1622718027,\n          1622717322,\n          1622718048\n        ],\n        \"semantic_type\": \"\",\n        \"description\": \"\"\n      }\n    },\n    {\n      \"column\": \"ReplyCount\",\n      \"properties\": {\n        \"dtype\": \"number\",\n        \"std\": 0,\n        \"min\": 0,\n        \"max\": 3,\n        \"num_unique_values\": 4,\n        \"samples\": [\n          2,\n          3,\n          0\n        ],\n        \"semantic_type\": \"\",\n        \"description\": \"\"\n      }\n    },\n    {\n      \"column\": \"ThumbsUpCount\",\n      \"properties\": {\n        \"dtype\": \"number\",\n        \"std\": 4,\n        \"min\": 0,\n        \"max\": 80,\n        \"num_unique_values\": 53,\n        \"samples\": [\n          10,\n          27,\n          30\n        ],\n        \"semantic_type\": \"\",\n        \"description\": \"\"\n      }\n    },\n    {\n      \"column\": \"ThumbsDownCount\",\n      \"properties\": {\n        \"dtype\": \"number\",\n        \"std\": 3,\n        \"min\": 0,\n        \"max\": 126,\n        \"num_unique_values\": 48,\n        \"samples\": [\n          22,\n          62,\n          65\n        ],\n        \"semantic_type\": \"\",\n        \"description\": \"\"\n      }\n    },\n    {\n      \"column\": \"BestScore\",\n      \"properties\": {\n        \"dtype\": \"number\",\n        \"std\": 141,\n        \"min\": 0,\n        \"max\": 946,\n        \"num_unique_values\": 470,\n        \"samples\": [\n          319,\n          736,\n          842\n        ],\n        \"semantic_type\": \"\",\n        \"description\": \"\"\n      }\n    },\n    {\n      \"column\": \"Recipe_Review\",\n      \"properties\": {\n        \"dtype\": \"string\",\n        \"num_unique_values\": 10716,\n        \"samples\": [\n          \"This was a winner with my family...everyone loved it.  I didn&#39;t include the Italian dressing just because I didn&#39;t have any on hand.  Still very good.\",\n          \"Absolutely delicious. Time was limited, so we did not refrigerate the chicken in the marinade for 1-4 hours, as directed by the recipe. We still found the chicken to be abundantly flavorful! So much so, that when making it again, we will not marinate the chicken, as it was absolutely delicious and obviously required less time/planning ahead.  Otherwise, there is not a thing I would suggest differently. I just wanted to point this out because often times the &#34;set in the refrigerater for x amount of hours&#34; deters one from choosing a particular recipe. So, I want to make it known that if you&#39;re looking for THE BEST CHICKEN FAJITAS but in a pinch for time, that is not a reason to pass this one up. HIGHLY RECOMMEND. This was printed off and put into our family cook book, as we will be making this often. Thank you for sharing! ?\",\n          \"I have made this several times, my whole family love them, I double everything using 2 lbs of burger, I do not put the sauce on to bake as directed, it all runs off into the grease, they like to put it on afterwards &amp; on their potaotes. A family favorite, Enjoy !\"\n        ],\n        \"semantic_type\": \"\",\n        \"description\": \"\"\n      }\n    }\n  ]\n}"
            }
          },
          "metadata": {},
          "execution_count": 124
        }
      ],
      "source": [
        "Xtrain.head()"
      ]
    },
    {
      "cell_type": "code",
      "execution_count": null,
      "metadata": {
        "id": "d58fbbfa"
      },
      "outputs": [],
      "source": [
        "# splitting the datatypes for train part\n",
        "Xtrain_num = Xtrain.drop(['Recipe_Review','RecipeName'],axis=1)\n",
        "Xtrain_txt = Xtrain['Recipe_Review']\n",
        "Xtrain_cat = Xtrain[['RecipeName']]\n",
        "\n",
        "\n",
        "#splitting the datatypes for testpart as well\n",
        "Xval_num = Xval.drop(['Recipe_Review','RecipeName'],axis=1)\n",
        "Xval_txt = Xval['Recipe_Review']\n",
        "Xval_cat = Xval[['RecipeName']]\n"
      ]
    },
    {
      "cell_type": "code",
      "execution_count": null,
      "metadata": {
        "colab": {
          "base_uri": "https://localhost:8080/"
        },
        "id": "674e9413",
        "outputId": "dd5ebf5a-530d-451c-d59b-11a09e7548ee"
      },
      "outputs": [
        {
          "output_type": "execute_result",
          "data": {
            "text/plain": [
              "8376     WVALLJ -I think that applesauce would be an id...\n",
              "8945     when i make chili i brown the meat then add al...\n",
              "12430    So easy and good!  I substituted broccoli for ...\n",
              "532      My pie did not turn out as expected, was very ...\n",
              "12109    Very delicious and moist, I cut the sugar down...\n",
              "Name: Recipe_Review, dtype: object"
            ]
          },
          "metadata": {},
          "execution_count": 126
        }
      ],
      "source": [
        "Xtrain_txt.head()"
      ]
    },
    {
      "cell_type": "markdown",
      "metadata": {
        "id": "f9363f1c"
      },
      "source": [
        "## Data Preprocessing"
      ]
    },
    {
      "cell_type": "code",
      "execution_count": null,
      "metadata": {
        "id": "47bb5524"
      },
      "outputs": [],
      "source": [
        "# Transforming the text column into number array\n",
        "tfidf = TfidfVectorizer(encoding='utf-8',decode_error='ignore',sublinear_tf=True)\n"
      ]
    },
    {
      "cell_type": "code",
      "execution_count": null,
      "metadata": {
        "id": "c940c184"
      },
      "outputs": [],
      "source": [
        "Xtrain_txt_vec = tfidf.fit_transform(Xtrain_txt)\n",
        "\n",
        "\n",
        "Xval_txt_vec = tfidf.transform(Xval_txt)"
      ]
    },
    {
      "cell_type": "code",
      "execution_count": null,
      "metadata": {
        "id": "t8UpvbFR5u7q"
      },
      "outputs": [],
      "source": [
        "from sklearn.decomposition import TruncatedSVD\n",
        "from sklearn.preprocessing import Normalizer\n",
        "from sklearn.pipeline import make_pipeline\n",
        "\n",
        "lsa_model = make_pipeline(TruncatedSVD(n_components=100),Normalizer(copy=False))"
      ]
    },
    {
      "cell_type": "code",
      "execution_count": null,
      "metadata": {
        "id": "0kkKEd897Vwt"
      },
      "outputs": [],
      "source": [
        "Xtrain_txt_vec_lsa = lsa_model.fit_transform(Xtrain_txt_vec)\n",
        "\n",
        "\n",
        "Xval_txt_vec_lsa = lsa_model.transform(Xval_txt_vec)"
      ]
    },
    {
      "cell_type": "code",
      "execution_count": null,
      "metadata": {
        "colab": {
          "base_uri": "https://localhost:8080/"
        },
        "id": "EyGIxN4d9S7c",
        "outputId": "34384d09-c8ac-444f-c890-1decc3cf10f3"
      },
      "outputs": [
        {
          "output_type": "execute_result",
          "data": {
            "text/plain": [
              "(10907, 100)"
            ]
          },
          "metadata": {},
          "execution_count": 131
        }
      ],
      "source": [
        "Xtrain_txt_vec_lsa.shape"
      ]
    },
    {
      "cell_type": "code",
      "execution_count": null,
      "metadata": {
        "colab": {
          "base_uri": "https://localhost:8080/"
        },
        "id": "7c8abda2",
        "outputId": "66ba574e-e236-44fa-fef9-f6c9967d5953"
      },
      "outputs": [
        {
          "output_type": "execute_result",
          "data": {
            "text/plain": [
              "((10907, 11), (10907, 9425))"
            ]
          },
          "metadata": {},
          "execution_count": 132
        }
      ],
      "source": [
        "Xtrain.shape,Xtrain_txt_vec.shape"
      ]
    },
    {
      "cell_type": "code",
      "execution_count": null,
      "metadata": {
        "colab": {
          "base_uri": "https://localhost:8080/"
        },
        "id": "1aff5713",
        "outputId": "9c20dfd2-f663-418a-d74c-26b999461399"
      },
      "outputs": [
        {
          "output_type": "execute_result",
          "data": {
            "text/plain": [
              "((2727, 11), (2727, 9425))"
            ]
          },
          "metadata": {},
          "execution_count": 133
        }
      ],
      "source": [
        "Xval.shape,Xval_txt_vec.shape"
      ]
    },
    {
      "cell_type": "code",
      "execution_count": null,
      "metadata": {
        "id": "FJGfKe_tvH1l"
      },
      "outputs": [],
      "source": [
        "Xtrain_cat = pd.get_dummies(Xtrain_cat,columns=['RecipeName'])\n",
        "Xval_cat = pd.get_dummies(Xval_cat,columns=['RecipeName'])"
      ]
    },
    {
      "cell_type": "code",
      "execution_count": null,
      "metadata": {
        "id": "42a15e10"
      },
      "outputs": [],
      "source": [
        "##To perform scaling for numerical\n",
        "\n",
        "from sklearn.preprocessing import StandardScaler\n",
        "from sklearn.pipeline import Pipeline\n",
        "\n",
        "#Using pipeline for standardscaler\n",
        "pipe_ss = Pipeline([('ss',StandardScaler())])\n",
        "\n",
        "#scaling the numerical columns\n",
        "Xtrain_num_ss = pipe_ss.fit_transform(Xtrain_num)\n",
        "Xval_num_ss = pipe_ss.fit_transform(Xval_num)"
      ]
    },
    {
      "cell_type": "code",
      "execution_count": null,
      "metadata": {
        "colab": {
          "base_uri": "https://localhost:8080/"
        },
        "id": "xkJfp0Xdvhdq",
        "outputId": "bd8bc083-81b3-47d6-997b-525a1d1f3efd"
      },
      "outputs": [
        {
          "output_type": "stream",
          "name": "stdout",
          "text": [
            "(10907, 100) (2727, 100)\n",
            "(10907, 9) (2727, 9)\n"
          ]
        }
      ],
      "source": [
        "print(Xtrain_cat.shape,Xval_cat.shape)\n",
        "print(Xtrain_num_ss.shape,Xval_num_ss.shape)"
      ]
    },
    {
      "cell_type": "code",
      "execution_count": null,
      "metadata": {
        "colab": {
          "base_uri": "https://localhost:8080/"
        },
        "id": "A-sKZEvL77iq",
        "outputId": "c9c1c821-1af1-48ab-9d3e-e97e9e8c8603"
      },
      "outputs": [
        {
          "output_type": "execute_result",
          "data": {
            "text/plain": [
              "numpy.ndarray"
            ]
          },
          "metadata": {},
          "execution_count": 137
        }
      ],
      "source": [
        "type(Xtrain_txt_vec_lsa)"
      ]
    },
    {
      "cell_type": "code",
      "execution_count": null,
      "metadata": {
        "id": "086d9818"
      },
      "outputs": [],
      "source": [
        "# Stacking both numerical and text columns\n",
        "Xtrain_stacked = np.hstack([Xtrain_num_ss,Xtrain_cat.to_numpy(),Xtrain_txt_vec_lsa])\n",
        "\n",
        "Xval_stacked = np.hstack([Xval_num_ss,Xval_cat.to_numpy(),Xval_txt_vec_lsa])"
      ]
    },
    {
      "cell_type": "markdown",
      "metadata": {
        "id": "9ki-BjgZoW2M"
      },
      "source": [
        "### Feature selection process"
      ]
    },
    {
      "cell_type": "code",
      "execution_count": null,
      "metadata": {
        "id": "MXHHL9xfoW2M"
      },
      "outputs": [],
      "source": [
        "gs = GenericUnivariateSelect(mutual_info_classif,param =20)\n",
        "X_new_fs =gs.fit_transform(Xtrain_stacked,ytrain)"
      ]
    },
    {
      "cell_type": "code",
      "execution_count": null,
      "metadata": {
        "colab": {
          "base_uri": "https://localhost:8080/"
        },
        "id": "3LQio_DKoW2M",
        "outputId": "bc3252d2-dc08-41b6-c271-676a620d4d61"
      },
      "outputs": [
        {
          "output_type": "execute_result",
          "data": {
            "text/plain": [
              "(10907, 42)"
            ]
          },
          "metadata": {},
          "execution_count": 140
        }
      ],
      "source": [
        "X_new_fs.shape"
      ]
    },
    {
      "cell_type": "markdown",
      "metadata": {
        "id": "4cc5b58f"
      },
      "source": [
        "# Model Fitting"
      ]
    },
    {
      "cell_type": "markdown",
      "metadata": {
        "id": "uYN4LGp_gM8_"
      },
      "source": [
        "### Storing all the accuracy scores, errors"
      ]
    },
    {
      "cell_type": "code",
      "execution_count": null,
      "metadata": {
        "id": "46wkcScNgXou"
      },
      "outputs": [],
      "source": [
        "Scores = {}\n",
        "Errors = {}\n",
        "Submissions ={}"
      ]
    },
    {
      "cell_type": "markdown",
      "metadata": {
        "id": "cc3fdaf8"
      },
      "source": [
        "# MODEL 1 - LOGISTIC REGRESSION"
      ]
    },
    {
      "cell_type": "markdown",
      "metadata": {
        "id": "4c547c32"
      },
      "source": [
        "## Without Hyper-Parameters"
      ]
    },
    {
      "cell_type": "code",
      "execution_count": null,
      "metadata": {
        "colab": {
          "base_uri": "https://localhost:8080/"
        },
        "id": "e7407b2c",
        "outputId": "ad92f4eb-2776-4e1e-e93c-be3a1d0cd4b7"
      },
      "outputs": [
        {
          "output_type": "stream",
          "name": "stdout",
          "text": [
            "Training Score: 0.7647382414962868\n"
          ]
        }
      ],
      "source": [
        "lr = LogisticRegression()\n",
        "lr.fit(X_new_fs,ytrain)\n",
        "print('Training Score:',lr.score(X_new_fs,ytrain));\n",
        "#Feature selection makes the model underfitting\n",
        "# Training Score: 0.7651049784542038"
      ]
    },
    {
      "cell_type": "markdown",
      "metadata": {
        "id": "mssbyLuGoW2N"
      },
      "source": [
        "## Key point\n",
        "### Feature selection makes the model underfitting"
      ]
    },
    {
      "cell_type": "code",
      "execution_count": null,
      "metadata": {
        "colab": {
          "base_uri": "https://localhost:8080/"
        },
        "id": "iL_aXwRjoW2O",
        "outputId": "e0bf4de6-a946-46f6-b77e-770c359dfa60"
      },
      "outputs": [
        {
          "output_type": "stream",
          "name": "stdout",
          "text": [
            "Training Score: 0.784450352984322\n"
          ]
        }
      ],
      "source": [
        "lr = LogisticRegression()\n",
        "lr.fit(Xtrain_stacked,ytrain)\n",
        "print('Training Score:',lr.score(Xtrain_stacked,ytrain));\n",
        "# Training Score: 0.7864674062528652"
      ]
    },
    {
      "cell_type": "code",
      "execution_count": null,
      "metadata": {
        "colab": {
          "base_uri": "https://localhost:8080/"
        },
        "id": "9da08e9e",
        "outputId": "4e2e8dbf-005f-46ca-9ca9-e1a6adabaaf1"
      },
      "outputs": [
        {
          "output_type": "execute_result",
          "data": {
            "text/plain": [
              "((10907,), (2727,))"
            ]
          },
          "metadata": {},
          "execution_count": 144
        }
      ],
      "source": [
        "ytrain.shape,yval.shape"
      ]
    },
    {
      "cell_type": "code",
      "execution_count": null,
      "metadata": {
        "colab": {
          "base_uri": "https://localhost:8080/"
        },
        "id": "8379ef9e",
        "outputId": "a5df619d-94ec-4492-f7d3-8f59e45b1681"
      },
      "outputs": [
        {
          "output_type": "execute_result",
          "data": {
            "text/plain": [
              "((10907, 209), (2727, 209))"
            ]
          },
          "metadata": {},
          "execution_count": 145
        }
      ],
      "source": [
        "Xtrain_stacked.shape,Xval_stacked.shape"
      ]
    },
    {
      "cell_type": "code",
      "execution_count": null,
      "metadata": {
        "id": "3f5f7af3"
      },
      "outputs": [],
      "source": [
        "ypred = lr.predict(Xval_stacked)\n",
        "\n",
        "print('Training Accuracy:',lr.score(Xtrain_stacked,ytrain))\n",
        "\n",
        "lr_ypred = lr.predict_proba(Xval_stacked)\n",
        "lr_ypred_prob = np.argmax(lr_ypred, axis=1)\n",
        "\n",
        "Score = accuracy_score(lr_ypred_prob,yval)\n",
        "Error = mean_absolute_error(yval,lr_ypred_prob)\n",
        "\n",
        "print(\"Validation Score:\",Score)\n",
        "print('Validation Error:',Error)\n",
        "\n",
        "Scores['LogisticRegressor'] = Score\n",
        "Errors['LogisticRegressor'] = Error\n",
        "# Training Accuracy: 0.7886872020535387\n",
        "# Validation Score: 0.7690615835777126\n",
        "\n",
        "#Submission Test score on kaggle:0.77034\n",
        "Submissions['LogisticRegressor'] = 0.77034"
      ]
    },
    {
      "cell_type": "code",
      "source": [
        "print(classification_report(yval,lr_ypred_prob))\n",
        "print(ConfusionMatrixDisplay.from_predictions(yval,lr_ypred_prob))"
      ],
      "metadata": {
        "colab": {
          "base_uri": "https://localhost:8080/",
          "height": 692
        },
        "id": "fi9EgXUnjaLH",
        "outputId": "4367925d-a854-45a9-ed05-52b71c334d3a"
      },
      "execution_count": null,
      "outputs": [
        {
          "output_type": "stream",
          "name": "stdout",
          "text": [
            "              precision    recall  f1-score   support\n",
            "\n",
            "           0       0.50      0.16      0.25       238\n",
            "           1       0.38      0.12      0.19        41\n",
            "           2       0.30      0.07      0.12        40\n",
            "           3       0.25      0.06      0.10        78\n",
            "           4       0.35      0.10      0.16       248\n",
            "           5       0.80      0.98      0.88      2082\n",
            "\n",
            "    accuracy                           0.78      2727\n",
            "   macro avg       0.43      0.25      0.28      2727\n",
            "weighted avg       0.71      0.78      0.72      2727\n",
            "\n",
            "<sklearn.metrics._plot.confusion_matrix.ConfusionMatrixDisplay object at 0x7b88308cee60>\n"
          ]
        },
        {
          "output_type": "display_data",
          "data": {
            "text/plain": [
              "<Figure size 640x480 with 2 Axes>"
            ],
            "image/png": "[encoded data removed]"
          },
          "metadata": {}
        }
      ]
    },
    {
      "cell_type": "markdown",
      "metadata": {
        "id": "76fc29b7"
      },
      "source": [
        "# With Hyper parameters"
      ]
    },
    {
      "cell_type": "code",
      "execution_count": null,
      "metadata": {
        "id": "e8b1dcee"
      },
      "outputs": [],
      "source": [
        "# from sklearn.model_selection import RandomizedSearchCV\n",
        "\n",
        "# max_iter = range(100, 500)\n",
        "# solver = ['lbfgs', 'newton-cg', 'liblinear']\n",
        "# warm_start = [True, False]\n",
        "# C = np.arange(0, 1, 0.01)\n",
        "# penalty =['l1','l2']\n",
        "# random_grid ={\n",
        "#     'max_iter' : max_iter,\n",
        "#     'warm_start' : warm_start,\n",
        "#     'solver' : solver,\n",
        "#     'C' : C\n",
        "# }\n",
        "\n",
        "# random_estimator = RandomizedSearchCV(estimator = lr,\n",
        "#                                    param_distributions = random_grid,\n",
        "#                                    n_iter = 100,\n",
        "#                                    scoring = 'accuracy',\n",
        "#                                    n_jobs = -1,\n",
        "#                                    verbose = 1,\n",
        "#                                    random_state = 1,\n",
        "#                                   )\n",
        "\n",
        "# random_estimator.fit(Xtrain_stacked, ytrain)\n"
      ]
    },
    {
      "cell_type": "code",
      "execution_count": null,
      "metadata": {
        "id": "f9528415"
      },
      "outputs": [],
      "source": [
        "# print(random_estimator.best_params_)\n",
        "\n",
        "# best_rscv_estimator = random_estimator.best_estimator_\n",
        "# best_rscv_estimator.fit(Xtrain_stacked, ytrain)"
      ]
    },
    {
      "cell_type": "markdown",
      "metadata": {
        "id": "GYiLqp3l2ooF"
      },
      "source": [
        "### Best parameters for Log Reg\n",
        "    {'warm_start': False, 'solver': 'newton-cg', 'max_iter': 239, 'C': 0.53}\n",
        "\n"
      ]
    },
    {
      "cell_type": "code",
      "execution_count": null,
      "metadata": {
        "colab": {
          "base_uri": "https://localhost:8080/"
        },
        "id": "nvKuwG8UHN37",
        "outputId": "2a952043-b927-4f79-dff3-e7306f4385f0"
      },
      "outputs": [
        {
          "output_type": "stream",
          "name": "stdout",
          "text": [
            "Training Score: 0.7815164573209865\n",
            "Validation Score: 0.7759442610927759\n",
            "Validation Error: 0.6160616061606161\n"
          ]
        }
      ],
      "source": [
        "best_lr_model = LogisticRegression(warm_start=False,\n",
        "                                   solver= 'newton-cg',\n",
        "                                   max_iter= 239,\n",
        "                                   C= 0.53)\n",
        "\n",
        "best_lr_model.fit(Xtrain_stacked,ytrain)\n",
        "\n",
        "print(\"Training Score:\",best_lr_model.score(Xtrain_stacked,ytrain))\n",
        "\n",
        "\n",
        "lr_hpt_ypred = lr.predict_proba(Xval_stacked)\n",
        "lr_hpt_ypred_prob = np.argmax(lr_hpt_ypred, axis=1)\n",
        "\n",
        "Error = mean_absolute_error(yval,lr_hpt_ypred_prob)\n",
        "print(\"Validation Score:\",Score)\n",
        "print('Validation Error:',Error)\n",
        "Scores['LogisticRegressor_hpt'] = Score\n",
        "Errors['LogisticRegressor_hpt'] = Error\n",
        "\n",
        "# Training Score: 0.7846534653465347\n",
        "# Validation Score: 0.7690615835777126\n",
        "# Validation Error: 0.658724340175953\n",
        "\n",
        "#Submission Test score on kaggle:0.76902\n",
        "Submissions['LogisticRegressor_hpt'] = 0.76902"
      ]
    },
    {
      "cell_type": "code",
      "source": [
        "print(classification_report(yval,ypred))\n",
        "print(ConfusionMatrixDisplay.from_predictions(yval,ypred))"
      ],
      "metadata": {
        "colab": {
          "base_uri": "https://localhost:8080/",
          "height": 692
        },
        "id": "8XuAoqaBLMNp",
        "outputId": "5715cc66-9b9e-48d4-8f49-bf57065727b1"
      },
      "execution_count": null,
      "outputs": [
        {
          "output_type": "stream",
          "name": "stdout",
          "text": [
            "              precision    recall  f1-score   support\n",
            "\n",
            "           0       0.50      0.16      0.25       238\n",
            "           1       0.38      0.12      0.19        41\n",
            "           2       0.30      0.07      0.12        40\n",
            "           3       0.25      0.06      0.10        78\n",
            "           4       0.35      0.10      0.16       248\n",
            "           5       0.80      0.98      0.88      2082\n",
            "\n",
            "    accuracy                           0.78      2727\n",
            "   macro avg       0.43      0.25      0.28      2727\n",
            "weighted avg       0.71      0.78      0.72      2727\n",
            "\n",
            "<sklearn.metrics._plot.confusion_matrix.ConfusionMatrixDisplay object at 0x7b88307b7160>\n"
          ]
        },
        {
          "output_type": "display_data",
          "data": {
            "text/plain": [
              "<Figure size 640x480 with 2 Axes>"
            ],
            "image/png": "[encoded data removed]"
          },
          "metadata": {}
        }
      ]
    },
    {
      "cell_type": "markdown",
      "metadata": {
        "id": "ca56b343"
      },
      "source": [
        "# Model 2 KNN Classifier\n"
      ]
    },
    {
      "cell_type": "markdown",
      "metadata": {
        "id": "6b26a639"
      },
      "source": [
        "## Without hyper parameter tuning"
      ]
    },
    {
      "cell_type": "code",
      "execution_count": null,
      "metadata": {
        "colab": {
          "base_uri": "https://localhost:8080/"
        },
        "id": "4119c498",
        "outputId": "a7a9b555-2714-4e61-a37d-6fe9168caf30"
      },
      "outputs": [
        {
          "output_type": "stream",
          "name": "stdout",
          "text": [
            "Training score: 0.8032456220775649\n",
            "Validation score: 0.7352401906857352\n"
          ]
        }
      ],
      "source": [
        "knn = KNeighborsClassifier()\n",
        "knn.fit(Xtrain_stacked,ytrain)\n",
        "\n",
        "ypred = knn.predict(Xval_stacked)\n",
        "\n",
        "print('Training score:',knn.score(Xtrain_stacked,ytrain))\n",
        "print('Validation score:',accuracy_score(yval,ypred))\n",
        "\n",
        "Score = accuracy_score(ypred,yval)\n",
        "Error = mean_absolute_error(yval,ypred)\n",
        "\n",
        "Scores['KNNClassifier'] = Score\n",
        "Errors['KNNClassifier'] = Error\n",
        "\n",
        "# Training score: 0.8046208856697533\n",
        "# Validation score: 0.7367070040337367\n",
        "\n",
        "#Submission Test score on kaggle:0.72701\n",
        "Submissions['KNNClassifier'] = 0.72701"
      ]
    },
    {
      "cell_type": "markdown",
      "metadata": {
        "id": "0003deb8"
      },
      "source": [
        "## With Hyper-parameter tuning"
      ]
    },
    {
      "cell_type": "code",
      "execution_count": null,
      "metadata": {
        "id": "61cf8d8b"
      },
      "outputs": [],
      "source": [
        "# params = {'n_neighbors':[1,3,5,7,9,11],'weights':['uniform','distance'],\n",
        "#           'algorithm':['auto', 'ball_tree', 'kd_tree', 'brute']}\n",
        "# knn_gs = GridSearchCV(knn ,params ,cv=4 , scoring = 'accuracy',\n",
        "#                                           n_jobs = 1,\n",
        "#                                            verbose = 1)\n",
        "# knn_gs.fit(Xtrain_stacked,ytrain)\n"
      ]
    },
    {
      "cell_type": "code",
      "source": [
        "# print(knn_gs.best_params_)"
      ],
      "metadata": {
        "id": "HSQ8b97mOLjs"
      },
      "execution_count": null,
      "outputs": []
    },
    {
      "cell_type": "markdown",
      "metadata": {
        "id": "da0bb454"
      },
      "source": [
        "### Best parameters for knn classifier are\n",
        "    {'algorithm': 'auto', 'n_neighbors': 11, 'weights': 'distance'}"
      ]
    },
    {
      "cell_type": "code",
      "execution_count": null,
      "metadata": {
        "colab": {
          "base_uri": "https://localhost:8080/"
        },
        "id": "b2e45a11",
        "outputId": "7318bb3b-596a-4550-8389-5794c9a9dab1"
      },
      "outputs": [
        {
          "output_type": "stream",
          "name": "stdout",
          "text": [
            "Training Score: 1.0\n",
            "Validation Score: 0.7697103043637697\n",
            "Validation Error: 0.6354968830216355\n"
          ]
        }
      ],
      "source": [
        "best_knn_model = KNeighborsClassifier(algorithm= 'auto',\n",
        "                                          n_neighbors = 11,\n",
        "                                          weights= 'distance')\n",
        "best_knn_model.fit(Xtrain_stacked, ytrain)\n",
        "\n",
        "print(\"Training Score:\",best_knn_model.score(Xtrain_stacked,ytrain))\n",
        "\n",
        "ypred = best_knn_model.predict(Xval_stacked)\n",
        "Score = accuracy_score(ypred,yval)\n",
        "Error = mean_absolute_error(yval,ypred)\n",
        "\n",
        "print(\"Validation Score:\",Score)\n",
        "print('Validation Error:',Error)\n",
        "Scores['KNNClassifier_hpt'] = Score\n",
        "Errors['KNNClassifier_hpt'] = Error\n",
        "\n",
        "# Training Score: 1.0\n",
        "# Validation Score: 0.773010634396773\n",
        "# Validation Error: 0.6325632563256326\n",
        "\n",
        "#Submission score on kaggle: 0.7765\n",
        "Submissions['KNNClassifier_hpt'] = 0.7765"
      ]
    },
    {
      "cell_type": "code",
      "source": [
        "from sklearn.svm import SVC\n",
        "\n",
        "svm = SVC()\n",
        "svm.fit(Xtrain_stacked,ytrain)\n",
        "\n",
        "print(\"Training Score:\",svm.score(Xtrain_stacked,ytrain))\n",
        "\n",
        "ypred = svm.predict(Xval_stacked)\n",
        "Score = accuracy_score(ypred,yval)\n",
        "Error = mean_absolute_error(yval,ypred)\n",
        "\n",
        "print(\"Validation Score:\",Score)\n",
        "print('Validation Error:',Error)\n",
        "Scores['SVM'] = Score\n",
        "Errors['SVM'] = Error"
      ],
      "metadata": {
        "colab": {
          "base_uri": "https://localhost:8080/"
        },
        "id": "dN_zn5HMkiRi",
        "outputId": "f95a3fb1-e966-4217-c84c-f5261455f18b"
      },
      "execution_count": null,
      "outputs": [
        {
          "output_type": "stream",
          "name": "stdout",
          "text": [
            "Training Score: 0.7756486659943156\n",
            "Validation Score: 0.7667766776677668\n",
            "Validation Error: 0.6633663366336634\n"
          ]
        }
      ]
    },
    {
      "cell_type": "code",
      "source": [
        "SVC().get_params()"
      ],
      "metadata": {
        "colab": {
          "base_uri": "https://localhost:8080/"
        },
        "id": "0sil1rv6lko5",
        "outputId": "8aa59269-b3ea-43ba-8068-5b6f2e9547fb"
      },
      "execution_count": null,
      "outputs": [
        {
          "output_type": "execute_result",
          "data": {
            "text/plain": [
              "{'C': 1.0,\n",
              " 'break_ties': False,\n",
              " 'cache_size': 200,\n",
              " 'class_weight': None,\n",
              " 'coef0': 0.0,\n",
              " 'decision_function_shape': 'ovr',\n",
              " 'degree': 3,\n",
              " 'gamma': 'scale',\n",
              " 'kernel': 'rbf',\n",
              " 'max_iter': -1,\n",
              " 'probability': False,\n",
              " 'random_state': None,\n",
              " 'shrinking': True,\n",
              " 'tol': 0.001,\n",
              " 'verbose': False}"
            ]
          },
          "metadata": {},
          "execution_count": 157
        }
      ]
    },
    {
      "cell_type": "code",
      "source": [
        "# param_grid = {'C': [0.1, 1, 10, 100, 1000],\n",
        "#               'gamma': [1, 0.1, 0.01, 0.001, 0.0001],\n",
        "#               'kernel': ['rbf']}\n",
        "# svm_gs = GridSearchCV(svm,param_grid ,cv=3,scoring='accuracy')\n",
        "# svm_gs.fit(Xtrain_stacked,ytrain)\n",
        "# svm_gs.best_params_"
      ],
      "metadata": {
        "id": "AZEBbQKClM_P"
      },
      "execution_count": null,
      "outputs": []
    },
    {
      "cell_type": "code",
      "source": [
        "from sklearn.svm import SVC\n",
        "\n",
        "svm = SVC(C=10 , gamma=0.1,kernel='rbf')\n",
        "svm.fit(Xtrain_stacked,ytrain)\n",
        "\n",
        "print(\"Training Score:\",svm.score(Xtrain_stacked,ytrain))\n",
        "\n",
        "ypred = svm.predict(Xval_stacked)\n",
        "Score = accuracy_score(ypred,yval)\n",
        "Error = mean_absolute_error(yval,ypred)\n",
        "\n",
        "print(\"Validation Score:\",Score)\n",
        "print('Validation Error:',Error)\n",
        "Scores['SVM_hpt'] = Score\n",
        "Errors['SVM_hpt'] = Error"
      ],
      "metadata": {
        "colab": {
          "base_uri": "https://localhost:8080/"
        },
        "id": "76E2vp9Hq3ey",
        "outputId": "a76044f3-f3fe-419e-e22b-2dbb07884e7f"
      },
      "execution_count": null,
      "outputs": [
        {
          "output_type": "stream",
          "name": "stdout",
          "text": [
            "Training Score: 0.8770514348583478\n",
            "Validation Score: 0.7785111844517785\n",
            "Validation Error: 0.6028602860286029\n"
          ]
        }
      ]
    },
    {
      "cell_type": "markdown",
      "metadata": {
        "id": "4bab91c7"
      },
      "source": [
        "## Model-3 DecisionTree"
      ]
    },
    {
      "cell_type": "markdown",
      "metadata": {
        "id": "5c02bdaa"
      },
      "source": [
        "## Without Hyper parameters"
      ]
    },
    {
      "cell_type": "code",
      "execution_count": null,
      "metadata": {
        "colab": {
          "base_uri": "https://localhost:8080/"
        },
        "id": "ecb514c5",
        "outputId": "a93c6b64-5f05-4620-9a14-c094b956480c"
      },
      "outputs": [
        {
          "output_type": "stream",
          "name": "stdout",
          "text": [
            "Training Score: 1.0\n",
            "Validation score: 0.6490649064906491\n"
          ]
        }
      ],
      "source": [
        "dt = DecisionTreeClassifier()\n",
        "dt.fit(Xtrain_stacked,ytrain)\n",
        "print('Training Score:',dt.score(Xtrain_stacked,ytrain))\n",
        "\n",
        "ypred = dt.predict(Xval_stacked)\n",
        "print('Validation score:',accuracy_score(ypred,yval))\n",
        "\n",
        "Scores['DecisionTree'] = Score\n",
        "Errors['DecisionTree'] = Error\n",
        "\n",
        "# Training Score: 1.0\n",
        "# Validation score: 0.6648331499816649\n",
        "\n",
        "#not submitted on kaggle as it the least preferred model"
      ]
    },
    {
      "cell_type": "markdown",
      "metadata": {
        "id": "gQwCiV5nGvWA"
      },
      "source": [
        "### Result: DecisionTree model is overfitting"
      ]
    },
    {
      "cell_type": "markdown",
      "metadata": {
        "id": "6bd01947"
      },
      "source": [
        "# Model 4: RandomForest Classifier"
      ]
    },
    {
      "cell_type": "markdown",
      "metadata": {
        "id": "88530db2"
      },
      "source": [
        "### Without Hyper-Parameters"
      ]
    },
    {
      "cell_type": "code",
      "execution_count": null,
      "metadata": {
        "id": "e3fff95c",
        "colab": {
          "base_uri": "https://localhost:8080/"
        },
        "outputId": "7ac2c16c-df09-4260-e2b3-afeba9bd7209"
      },
      "outputs": [
        {
          "output_type": "stream",
          "name": "stdout",
          "text": [
            "Train Score: 1.0\n",
            "Validation Score: 0.7697103043637697\n",
            "Validation Error: 0.6615328199486615\n"
          ]
        }
      ],
      "source": [
        "rf = RandomForestClassifier()\n",
        "rf.fit(Xtrain_stacked,ytrain)\n",
        "print(\"Train Score:\",rf.score(Xtrain_stacked,ytrain))\n",
        "\n",
        "#on validation\n",
        "ypred = rf.predict(Xval_stacked)\n",
        "\n",
        "Score = accuracy_score(ypred,yval)\n",
        "Error = mean_absolute_error(yval,ypred)\n",
        "\n",
        "print(\"Validation Score:\",Score)\n",
        "print('Validation Error:',Error)\n",
        "\n",
        "Scores['RandomForest'] = Score\n",
        "Errors['RandomForest'] = Error\n",
        "\n",
        "# Train Score: 1.0\n",
        "# Validation Score: 0.7726439310597727\n",
        "# Validation Error: 0.6508984231756509\n",
        "\n",
        "#Submission score on kaggle:0.77012\n",
        "Submissions['RandomForest'] = 0.77012"
      ]
    },
    {
      "cell_type": "markdown",
      "metadata": {
        "id": "CGPDCeaQtP2w"
      },
      "source": [
        "### With Hyper parameter tuning"
      ]
    },
    {
      "cell_type": "code",
      "execution_count": null,
      "metadata": {
        "id": "sf86ByqMtTBr"
      },
      "outputs": [],
      "source": [
        "# rf = RandomForestClassifier(random_state=42)\n",
        "# params = {'n_estimators': [100, 200], 'max_depth': [10, 20]}\n",
        "\n",
        "# rfr_grid = GridSearchCV(estimator= rf,\n",
        "#                         param_grid= params,\n",
        "#                         cv=3, scoring='accuracy')\n",
        "\n",
        "# rfr_grid.fit(Xtrain_stacked, ytrain)\n",
        "\n",
        "# Best_parameters = rfr_grid.best_params_\n",
        "# print(Best_parameters)"
      ]
    },
    {
      "cell_type": "markdown",
      "metadata": {
        "id": "s9qMnbtNt-cL"
      },
      "source": [
        "### Best parameters for RandomForest are:\n",
        "    {'max_depth': 20, 'n_estimators': 200}\n",
        "   \n"
      ]
    },
    {
      "cell_type": "code",
      "execution_count": null,
      "metadata": {
        "id": "0maeGB53uNzw"
      },
      "outputs": [],
      "source": [
        "# best_rf_model = RandomForestClassifier(max_depth=20,n_estimators=200)\n",
        "\n",
        "# best_rf_model.fit(Xtrain_stacked, ytrain)\n",
        "\n",
        "# print(\"Training Score:\",best_dt_model.score(Xtrain_stacked,ytrain))\n",
        "\n",
        "# ypred = best_rf_model.predict(Xval_stacked)\n",
        "# Score = accuracy_score(ypred,yval)\n",
        "# Error = mean_absolute_error(yval,ypred)\n",
        "\n",
        "# print(\"Validation Score:\",Score)\n",
        "# print('Validation Error:',Error)\n",
        "\n",
        "# Scores['RandomForest_hpt'] = Score\n",
        "# Errors['RandomForest_hpt'] = Error\n",
        "\n",
        "\n",
        "# # Training Score: 0.7597872925644081\n",
        "# # Validation Score: 0.7656765676567657\n",
        "# # Validation Error: 0.6776677667766776\n",
        "# #Hyper parameter tuning leads to decrease in accuracy in randomforest"
      ]
    },
    {
      "cell_type": "markdown",
      "metadata": {
        "id": "46f81e47"
      },
      "source": [
        "## Model 4 -XGboost"
      ]
    },
    {
      "cell_type": "code",
      "source": [
        "import xgboost as xgb\n",
        "xgb_model = xgb.XGBClassifier(random_state=42)\n",
        "xgb_model.fit(Xtrain_stacked,ytrain)\n",
        "print('Training Score:',xgb_model.score(Xtrain_stacked,ytrain))\n",
        "\n",
        "xgb_ypred = xgb_model.predict(Xval_stacked)\n",
        "\n",
        "\n",
        "print('Validation Score:',accuracy_score(yval,xgb_ypred))\n",
        "\n",
        "Score = accuracy_score(xgb_ypred,yval)\n",
        "Error = mean_absolute_error(yval,xgb_ypred)\n",
        "\n",
        "Scores['XGBoost'] = Score\n",
        "Errors['XGBoost'] = Error\n",
        "# Training Score: 0.9985330521683322\n",
        "# Validation Score: 0.7836450311697837"
      ],
      "metadata": {
        "colab": {
          "base_uri": "https://localhost:8080/"
        },
        "id": "jNFp1M14TD3l",
        "outputId": "6df57ac0-ce8d-46f3-9aba-e243f6161bee"
      },
      "execution_count": null,
      "outputs": [
        {
          "output_type": "stream",
          "name": "stdout",
          "text": [
            "Training Score: 0.9988997891262492\n",
            "Validation Score: 0.784011734506784\n"
          ]
        }
      ]
    },
    {
      "cell_type": "code",
      "execution_count": null,
      "metadata": {
        "id": "05a331d8"
      },
      "outputs": [],
      "source": [
        "# params = {'n_estimators': [100,200], 'max_depth':[5,7,9], 'learning_rate': np.arange(0,1,0.01)}\n",
        "# xgb_grid = GridSearchCV(estimator= xgb_model,\n",
        "#                         param_grid= params, cv=3,\n",
        "#                         scoring='accuracy',\n",
        "#                         n_jobs= 2)\n",
        "\n",
        "# xgb_grid.fit(Xtrain_stacked, ytrain)\n",
        "\n",
        "# print(xgb_grid.best_params_)"
      ]
    },
    {
      "cell_type": "markdown",
      "metadata": {
        "id": "f69c8b8c"
      },
      "source": [
        "### Best parameters of XGBoostClassifier are :\n",
        "    {'learning_rate': 0.2, 'max_depth': 7, 'n_estimators': 100}"
      ]
    },
    {
      "cell_type": "code",
      "execution_count": null,
      "metadata": {
        "id": "42b581e8",
        "colab": {
          "base_uri": "https://localhost:8080/",
          "height": 744
        },
        "outputId": "b194a90e-c4ae-43f1-a021-bc99496f5397"
      },
      "outputs": [
        {
          "output_type": "stream",
          "name": "stdout",
          "text": [
            "Training Score: 0.9988997891262492\n",
            "Validation Score: 0.7825449211587825\n",
            "Validation Error: 0.5911257792445911\n",
            "              precision    recall  f1-score   support\n",
            "\n",
            "           0       0.60      0.23      0.33       238\n",
            "           1       0.38      0.07      0.12        41\n",
            "           2       0.50      0.05      0.09        40\n",
            "           3       0.50      0.08      0.13        78\n",
            "           4       0.31      0.05      0.09       248\n",
            "           5       0.80      0.99      0.88      2082\n",
            "\n",
            "    accuracy                           0.78      2727\n",
            "   macro avg       0.51      0.24      0.27      2727\n",
            "weighted avg       0.72      0.78      0.72      2727\n",
            "\n",
            "<sklearn.metrics._plot.confusion_matrix.ConfusionMatrixDisplay object at 0x7b88514b63e0>\n"
          ]
        },
        {
          "output_type": "display_data",
          "data": {
            "text/plain": [
              "<Figure size 640x480 with 2 Axes>"
            ],
            "image/png": "[encoded data removed]"
          },
          "metadata": {}
        }
      ],
      "source": [
        "xgb_best_model = xgb.XGBClassifier(learning_rate= 0.2,\n",
        "                                   max_depth= 7,\n",
        "                                   n_estimators= 100,\n",
        "                                   random_state=42)\n",
        "xgb_best_model.fit(Xtrain_stacked,ytrain)\n",
        "\n",
        "print('Training Score:',xgb_best_model.score(Xtrain_stacked,ytrain))\n",
        "\n",
        "#on validation\n",
        "ypred = xgb_best_model.predict(Xval_stacked)\n",
        "\n",
        "Score = accuracy_score(ypred,yval)\n",
        "Error = mean_absolute_error(yval,ypred)\n",
        "\n",
        "print(\"Validation Score:\",Score)\n",
        "print('Validation Error:',Error)\n",
        "\n",
        "Scores['XGBoost_hpt'] = Score\n",
        "Errors['Xgboost_hpt'] = Error\n",
        "\n",
        "print(classification_report(yval,ypred))\n",
        "print(ConfusionMatrixDisplay.from_predictions(yval,ypred))\n",
        "\n",
        "# Training Score: 0.939121664985789\n",
        "# Validation Score: 0.7774110744407774\n",
        "\n",
        "#Submission score in kaggle is 0.7809\n",
        "\n",
        "Submissions['XGBoost_hpt'] = 0.7809"
      ]
    },
    {
      "cell_type": "markdown",
      "metadata": {
        "id": "GW-yEL3vNcjw"
      },
      "source": [
        "# light gbm"
      ]
    },
    {
      "cell_type": "code",
      "execution_count": null,
      "metadata": {
        "colab": {
          "base_uri": "https://localhost:8080/"
        },
        "id": "bG5hDYDbNmlZ",
        "outputId": "8556845d-57db-470e-a232-2a524ca4a396"
      },
      "outputs": [
        {
          "output_type": "stream",
          "name": "stdout",
          "text": [
            "[LightGBM] [Info] Auto-choosing col-wise multi-threading, the overhead of testing was 0.028297 seconds.\n",
            "You can set `force_col_wise=true` to remove the overhead.\n",
            "[LightGBM] [Info] Total Bins 26759\n",
            "[LightGBM] [Info] Number of data points in the train set: 10907, number of used features: 208\n",
            "[LightGBM] [Info] Start training from score -2.355970\n",
            "[LightGBM] [Info] Start training from score -4.167261\n",
            "[LightGBM] [Info] Start training from score -4.399320\n",
            "[LightGBM] [Info] Start training from score -3.627279\n",
            "[LightGBM] [Info] Start training from score -2.396429\n",
            "[LightGBM] [Info] Start training from score -0.274717\n",
            "Training Score: 0.9933070505180159\n",
            "Validation Score: 0.7785111844517785\n"
          ]
        }
      ],
      "source": [
        "import lightgbm as lgb\n",
        "lgb_model = lgb.LGBMClassifier(random_state=42)\n",
        "lgb_model.fit(Xtrain_stacked,ytrain)\n",
        "print('Training Score:',lgb_model.score(Xtrain_stacked,ytrain))\n",
        "\n",
        "lgb_ypred = lgb_model.predict(Xval_stacked)\n",
        "\n",
        "print('Validation Score:',accuracy_score(yval,lgb_ypred))\n",
        "\n",
        "Score = accuracy_score(lgb_ypred,yval)\n",
        "Error = mean_absolute_error(yval,lgb_ypred),"
      ]
    },
    {
      "cell_type": "code",
      "source": [
        "lgb_best_model = lgb.LGBMClassifier(learning_rate= 0.1,\n",
        "                                   n_estimators= 200,\n",
        "                                   random_state=42)\n",
        "lgb_best_model.fit(Xtrain_stacked,ytrain)\n",
        "\n",
        "print('Training Score:',xgb_best_model.score(Xtrain_stacked,ytrain))\n",
        "\n",
        "#on validation\n",
        "ypred = lgb_best_model.predict(Xval_stacked)\n",
        "\n",
        "Score = accuracy_score(ypred,yval)\n",
        "Error = mean_absolute_error(yval,ypred)\n",
        "\n",
        "print(\"Validation Score:\",Score)\n",
        "print('Validation Error:',Error)\n",
        "\n",
        "Scores['lgb_hpt'] = Score\n",
        "Errors['lgb_hpt'] = Error\n",
        "\n",
        "print(classification_report(yval,ypred))\n",
        "print(ConfusionMatrixDisplay.from_predictions(yval,ypred))\n",
        "\n",
        "# Training Score: 0.939121664985789\n",
        "# Validation Score: 0.7774110744407774\n",
        "\n",
        "#Submission score in kaggle is 0.7809"
      ],
      "metadata": {
        "colab": {
          "base_uri": "https://localhost:8080/",
          "height": 1000
        },
        "id": "Agxbujwzt4gT",
        "outputId": "6b642186-c726-43d7-d9c4-0bab26cd6e52"
      },
      "execution_count": null,
      "outputs": [
        {
          "output_type": "stream",
          "name": "stdout",
          "text": [
            "[LightGBM] [Info] Auto-choosing col-wise multi-threading, the overhead of testing was 0.013555 seconds.\n",
            "You can set `force_col_wise=true` to remove the overhead.\n",
            "[LightGBM] [Info] Total Bins 26759\n",
            "[LightGBM] [Info] Number of data points in the train set: 10907, number of used features: 208\n",
            "[LightGBM] [Info] Start training from score -2.355970\n",
            "[LightGBM] [Info] Start training from score -4.167261\n",
            "[LightGBM] [Info] Start training from score -4.399320\n",
            "[LightGBM] [Info] Start training from score -3.627279\n",
            "[LightGBM] [Info] Start training from score -2.396429\n",
            "[LightGBM] [Info] Start training from score -0.274717\n",
            "[LightGBM] [Warning] No further splits with positive gain, best gain: -inf\n",
            "[LightGBM] [Warning] No further splits with positive gain, best gain: -inf\n",
            "[LightGBM] [Warning] No further splits with positive gain, best gain: -inf\n",
            "[LightGBM] [Warning] No further splits with positive gain, best gain: -inf\n",
            "[LightGBM] [Warning] No further splits with positive gain, best gain: -inf\n",
            "[LightGBM] [Warning] No further splits with positive gain, best gain: -inf\n",
            "[LightGBM] [Warning] No further splits with positive gain, best gain: -inf\n",
            "[LightGBM] [Warning] No further splits with positive gain, best gain: -inf\n",
            "[LightGBM] [Warning] No further splits with positive gain, best gain: -inf\n",
            "[LightGBM] [Warning] No further splits with positive gain, best gain: -inf\n",
            "[LightGBM] [Warning] No further splits with positive gain, best gain: -inf\n",
            "[LightGBM] [Warning] No further splits with positive gain, best gain: -inf\n",
            "[LightGBM] [Warning] No further splits with positive gain, best gain: -inf\n",
            "[LightGBM] [Warning] No further splits with positive gain, best gain: -inf\n",
            "[LightGBM] [Warning] No further splits with positive gain, best gain: -inf\n",
            "[LightGBM] [Warning] No further splits with positive gain, best gain: -inf\n",
            "[LightGBM] [Warning] No further splits with positive gain, best gain: -inf\n",
            "[LightGBM] [Warning] No further splits with positive gain, best gain: -inf\n",
            "[LightGBM] [Warning] No further splits with positive gain, best gain: -inf\n",
            "Training Score: 0.9988997891262492\n",
            "Validation Score: 0.7788778877887789\n",
            "Validation Error: 0.6145947928126146\n",
            "              precision    recall  f1-score   support\n",
            "\n",
            "           0       0.57      0.21      0.31       238\n",
            "           1       0.33      0.05      0.09        41\n",
            "           2       0.67      0.05      0.09        40\n",
            "           3       0.33      0.05      0.09        78\n",
            "           4       0.38      0.07      0.12       248\n",
            "           5       0.80      0.98      0.88      2082\n",
            "\n",
            "    accuracy                           0.78      2727\n",
            "   macro avg       0.51      0.24      0.26      2727\n",
            "weighted avg       0.72      0.78      0.72      2727\n",
            "\n",
            "<sklearn.metrics._plot.confusion_matrix.ConfusionMatrixDisplay object at 0x7b883103ea10>\n"
          ]
        },
        {
          "output_type": "display_data",
          "data": {
            "text/plain": [
              "<Figure size 640x480 with 2 Axes>"
            ],
            "image/png": "[encoded data removed]"
          },
          "metadata": {}
        }
      ]
    },
    {
      "cell_type": "code",
      "execution_count": null,
      "metadata": {
        "id": "701dtqn2PJH_"
      },
      "outputs": [],
      "source": [
        "# param_grid = {\n",
        "#     'boosting_type': ['gbdt', 'dart', 'goss'],\n",
        "#     'num_leaves': [20, 30, 40],\n",
        "#     'max_depth': [-1, 10, 20],\n",
        "#     'learning_rate': np.arange(0,1,0.01),\n",
        "#     'n_estimators': [50, 100, 200],\n",
        "#     'min_child_samples': [10, 20, 30],\n",
        "#     'feature_fraction': [0.7, 0.8, 0.9],\n",
        "#     'bagging_fraction': [0.7, 0.8, 0.9],\n",
        "#     'lambda_l1': [0, 0.1, 1],\n",
        "#     'lambda_l2': [0, 0.1, 1],\n",
        "#     'min_gain_to_split': [0.0, 0.1, 0.2]\n",
        "# }\n",
        "\n",
        "# grid_search_lgbm = GridSearchCV(lgb_model,param_grid,cv=3,scoring='accuracy')\n",
        "# grid_search_lgbm.fit(Xtrain_stacked,ytrain)\n",
        "# grid_search_lgbm.best_params_"
      ]
    },
    {
      "cell_type": "markdown",
      "metadata": {
        "id": "96524f69"
      },
      "source": [
        "# test\n"
      ]
    },
    {
      "cell_type": "code",
      "execution_count": null,
      "metadata": {
        "colab": {
          "base_uri": "https://localhost:8080/"
        },
        "id": "0213e0d1",
        "outputId": "01dc9812-a611-4b2e-a725-59fb0e4d2c39"
      },
      "outputs": [
        {
          "output_type": "execute_result",
          "data": {
            "text/plain": [
              "ID                   0\n",
              "RecipeNumber         0\n",
              "RecipeCode           0\n",
              "RecipeName           0\n",
              "CommentID            0\n",
              "UserID               0\n",
              "UserName             0\n",
              "UserReputation       0\n",
              "CreationTimestamp    0\n",
              "ReplyCount           0\n",
              "ThumbsUpCount        0\n",
              "ThumbsDownCount      0\n",
              "BestScore            0\n",
              "Recipe_Review        0\n",
              "dtype: int64"
            ]
          },
          "metadata": {},
          "execution_count": 171
        }
      ],
      "source": [
        "test = pd.read_csv(\"/content/test.csv\")\n",
        "test.isnull().sum()\n",
        "#No null values in the testset"
      ]
    },
    {
      "cell_type": "code",
      "execution_count": null,
      "metadata": {
        "id": "71010ca7"
      },
      "outputs": [],
      "source": [
        "test.drop(['CommentID','UserID','UserName'],axis=1,inplace=True)"
      ]
    },
    {
      "cell_type": "code",
      "execution_count": null,
      "metadata": {
        "colab": {
          "base_uri": "https://localhost:8080/",
          "height": 929
        },
        "id": "a67e107a",
        "outputId": "7b77ff7e-c0a7-470e-ecdf-17c84a123f0a"
      },
      "outputs": [
        {
          "output_type": "execute_result",
          "data": {
            "text/plain": [
              "       ID  RecipeNumber  RecipeCode                                RecipeName  \\\n",
              "0      86            45       41384              Black Bean ‘n’ Pumpkin Chili   \n",
              "1     102            53        3143                              Pumpkin Bars   \n",
              "2     156            53        3143                              Pumpkin Bars   \n",
              "3      18            89        1324                       Porcupine Meatballs   \n",
              "4      27            70       32264                   Easy Chicken Enchiladas   \n",
              "...   ...           ...         ...                                       ...   \n",
              "4541  152            32       17310                           Seafood Lasagna   \n",
              "4542  121            74       26937                    Pineapple Pudding Cake   \n",
              "4543  133            73       41095  Contest-Winning New England Clam Chowder   \n",
              "4544   91            12       19731                          Cauliflower Soup   \n",
              "4545   72            93       42873                   Teriyaki Chicken Thighs   \n",
              "\n",
              "      UserReputation  CreationTimestamp  ReplyCount  ThumbsUpCount  \\\n",
              "0                  1         1622718043           0              0   \n",
              "1                  1         1622717685           0              0   \n",
              "2                  1         1622718307           0              0   \n",
              "3                  1         1622648872           0              4   \n",
              "4                  1         1622718460           0              0   \n",
              "...              ...                ...         ...            ...   \n",
              "4541               1         1622717899           0              0   \n",
              "4542               1         1622717990           0              0   \n",
              "4543               1         1622716903           0              0   \n",
              "4544               1         1622718289           0              0   \n",
              "4545               1         1622716916           0              0   \n",
              "\n",
              "      ThumbsDownCount  BestScore  \\\n",
              "0                   0        100   \n",
              "1                   1        100   \n",
              "2                   0        100   \n",
              "3                   3        212   \n",
              "4                   1        100   \n",
              "...               ...        ...   \n",
              "4541                0        100   \n",
              "4542                0        100   \n",
              "4543                0        100   \n",
              "4544                1        100   \n",
              "4545                0        100   \n",
              "\n",
              "                                          Recipe_Review  \n",
              "0     This was so good!!  The pumpkin was perfect as...  \n",
              "1     So good!   Could not stop eating them, so bad....  \n",
              "2              I use a small ladle to fill muffin cups.  \n",
              "3     I made this and followed the instructions as d...  \n",
              "4     Very Good!  I used corn tortillas.  Used fresh...  \n",
              "...                                                 ...  \n",
              "4541  This is an absolutely wonderful seafood recipe...  \n",
              "4542  This us a definite &#34;OMG&#34;.  Tastes sinf...  \n",
              "4543  absolutely great....even husband and grandson ...  \n",
              "4544  I followed directions. It tastes very bland. V...  \n",
              "4545  After reading the amazing reviews, I decided t...  \n",
              "\n",
              "[4546 rows x 11 columns]"
            ],
            "text/html": [
              "\n",
              "  <div id=\"df-31768d85-d5f7-40e4-bc41-c1f42a4342a6\" class=\"colab-df-container\">\n",
              "    <div>\n",
              "<style scoped>\n",
              "    .dataframe tbody tr th:only-of-type {\n",
              "        vertical-align: middle;\n",
              "    }\n",
              "\n",
              "    .dataframe tbody tr th {\n",
              "        vertical-align: top;\n",
              "    }\n",
              "\n",
              "    .dataframe thead th {\n",
              "        text-align: right;\n",
              "    }\n",
              "</style>\n",
              "<table border=\"1\" class=\"dataframe\">\n",
              "  <thead>\n",
              "    <tr style=\"text-align: right;\">\n",
              "      <th></th>\n",
              "      <th>ID</th>\n",
              "      <th>RecipeNumber</th>\n",
              "      <th>RecipeCode</th>\n",
              "      <th>RecipeName</th>\n",
              "      <th>UserReputation</th>\n",
              "      <th>CreationTimestamp</th>\n",
              "      <th>ReplyCount</th>\n",
              "      <th>ThumbsUpCount</th>\n",
              "      <th>ThumbsDownCount</th>\n",
              "      <th>BestScore</th>\n",
              "      <th>Recipe_Review</th>\n",
              "    </tr>\n",
              "  </thead>\n",
              "  <tbody>\n",
              "    <tr>\n",
              "      <th>0</th>\n",
              "      <td>86</td>\n",
              "      <td>45</td>\n",
              "      <td>41384</td>\n",
              "      <td>Black Bean ‘n’ Pumpkin Chili</td>\n",
              "      <td>1</td>\n",
              "      <td>1622718043</td>\n",
              "      <td>0</td>\n",
              "      <td>0</td>\n",
              "      <td>0</td>\n",
              "      <td>100</td>\n",
              "      <td>This was so good!!  The pumpkin was perfect as...</td>\n",
              "    </tr>\n",
              "    <tr>\n",
              "      <th>1</th>\n",
              "      <td>102</td>\n",
              "      <td>53</td>\n",
              "      <td>3143</td>\n",
              "      <td>Pumpkin Bars</td>\n",
              "      <td>1</td>\n",
              "      <td>1622717685</td>\n",
              "      <td>0</td>\n",
              "      <td>0</td>\n",
              "      <td>1</td>\n",
              "      <td>100</td>\n",
              "      <td>So good!   Could not stop eating them, so bad....</td>\n",
              "    </tr>\n",
              "    <tr>\n",
              "      <th>2</th>\n",
              "      <td>156</td>\n",
              "      <td>53</td>\n",
              "      <td>3143</td>\n",
              "      <td>Pumpkin Bars</td>\n",
              "      <td>1</td>\n",
              "      <td>1622718307</td>\n",
              "      <td>0</td>\n",
              "      <td>0</td>\n",
              "      <td>0</td>\n",
              "      <td>100</td>\n",
              "      <td>I use a small ladle to fill muffin cups.</td>\n",
              "    </tr>\n",
              "    <tr>\n",
              "      <th>3</th>\n",
              "      <td>18</td>\n",
              "      <td>89</td>\n",
              "      <td>1324</td>\n",
              "      <td>Porcupine Meatballs</td>\n",
              "      <td>1</td>\n",
              "      <td>1622648872</td>\n",
              "      <td>0</td>\n",
              "      <td>4</td>\n",
              "      <td>3</td>\n",
              "      <td>212</td>\n",
              "      <td>I made this and followed the instructions as d...</td>\n",
              "    </tr>\n",
              "    <tr>\n",
              "      <th>4</th>\n",
              "      <td>27</td>\n",
              "      <td>70</td>\n",
              "      <td>32264</td>\n",
              "      <td>Easy Chicken Enchiladas</td>\n",
              "      <td>1</td>\n",
              "      <td>1622718460</td>\n",
              "      <td>0</td>\n",
              "      <td>0</td>\n",
              "      <td>1</td>\n",
              "      <td>100</td>\n",
              "      <td>Very Good!  I used corn tortillas.  Used fresh...</td>\n",
              "    </tr>\n",
              "    <tr>\n",
              "      <th>...</th>\n",
              "      <td>...</td>\n",
              "      <td>...</td>\n",
              "      <td>...</td>\n",
              "      <td>...</td>\n",
              "      <td>...</td>\n",
              "      <td>...</td>\n",
              "      <td>...</td>\n",
              "      <td>...</td>\n",
              "      <td>...</td>\n",
              "      <td>...</td>\n",
              "      <td>...</td>\n",
              "    </tr>\n",
              "    <tr>\n",
              "      <th>4541</th>\n",
              "      <td>152</td>\n",
              "      <td>32</td>\n",
              "      <td>17310</td>\n",
              "      <td>Seafood Lasagna</td>\n",
              "      <td>1</td>\n",
              "      <td>1622717899</td>\n",
              "      <td>0</td>\n",
              "      <td>0</td>\n",
              "      <td>0</td>\n",
              "      <td>100</td>\n",
              "      <td>This is an absolutely wonderful seafood recipe...</td>\n",
              "    </tr>\n",
              "    <tr>\n",
              "      <th>4542</th>\n",
              "      <td>121</td>\n",
              "      <td>74</td>\n",
              "      <td>26937</td>\n",
              "      <td>Pineapple Pudding Cake</td>\n",
              "      <td>1</td>\n",
              "      <td>1622717990</td>\n",
              "      <td>0</td>\n",
              "      <td>0</td>\n",
              "      <td>0</td>\n",
              "      <td>100</td>\n",
              "      <td>This us a definite &amp;#34;OMG&amp;#34;.  Tastes sinf...</td>\n",
              "    </tr>\n",
              "    <tr>\n",
              "      <th>4543</th>\n",
              "      <td>133</td>\n",
              "      <td>73</td>\n",
              "      <td>41095</td>\n",
              "      <td>Contest-Winning New England Clam Chowder</td>\n",
              "      <td>1</td>\n",
              "      <td>1622716903</td>\n",
              "      <td>0</td>\n",
              "      <td>0</td>\n",
              "      <td>0</td>\n",
              "      <td>100</td>\n",
              "      <td>absolutely great....even husband and grandson ...</td>\n",
              "    </tr>\n",
              "    <tr>\n",
              "      <th>4544</th>\n",
              "      <td>91</td>\n",
              "      <td>12</td>\n",
              "      <td>19731</td>\n",
              "      <td>Cauliflower Soup</td>\n",
              "      <td>1</td>\n",
              "      <td>1622718289</td>\n",
              "      <td>0</td>\n",
              "      <td>0</td>\n",
              "      <td>1</td>\n",
              "      <td>100</td>\n",
              "      <td>I followed directions. It tastes very bland. V...</td>\n",
              "    </tr>\n",
              "    <tr>\n",
              "      <th>4545</th>\n",
              "      <td>72</td>\n",
              "      <td>93</td>\n",
              "      <td>42873</td>\n",
              "      <td>Teriyaki Chicken Thighs</td>\n",
              "      <td>1</td>\n",
              "      <td>1622716916</td>\n",
              "      <td>0</td>\n",
              "      <td>0</td>\n",
              "      <td>0</td>\n",
              "      <td>100</td>\n",
              "      <td>After reading the amazing reviews, I decided t...</td>\n",
              "    </tr>\n",
              "  </tbody>\n",
              "</table>\n",
              "<p>4546 rows × 11 columns</p>\n",
              "</div>\n",
              "    <div class=\"colab-df-buttons\">\n",
              "\n",
              "  <div class=\"colab-df-container\">\n",
              "    <button class=\"colab-df-convert\" onclick=\"convertToInteractive('df-31768d85-d5f7-40e4-bc41-c1f42a4342a6')\"\n",
              "            title=\"Convert this dataframe to an interactive table.\"\n",
              "            style=\"display:none;\">\n",
              "\n",
              "  <svg xmlns=\"http://www.w3.org/2000/svg\" height=\"24px\" viewBox=\"0 -960 960 960\">\n",
              "    <path d=\"M120-120v-720h720v720H120Zm60-500h600v-160H180v160Zm220 220h160v-160H400v160Zm0 220h160v-160H400v160ZM180-400h160v-160H180v160Zm440 0h160v-160H620v160ZM180-180h160v-160H180v160Zm440 0h160v-160H620v160Z\"/>\n",
              "  </svg>\n",
              "    </button>\n",
              "\n",
              "  <style>\n",
              "    .colab-df-container {\n",
              "      display:flex;\n",
              "      gap: 12px;\n",
              "    }\n",
              "\n",
              "    .colab-df-convert {\n",
              "      background-color: #E8F0FE;\n",
              "      border: none;\n",
              "      border-radius: 50%;\n",
              "      cursor: pointer;\n",
              "      display: none;\n",
              "      fill: #1967D2;\n",
              "      height: 32px;\n",
              "      padding: 0 0 0 0;\n",
              "      width: 32px;\n",
              "    }\n",
              "\n",
              "    .colab-df-convert:hover {\n",
              "      background-color: #E2EBFA;\n",
              "      box-shadow: 0px 1px 2px rgba(60, 64, 67, 0.3), 0px 1px 3px 1px rgba(60, 64, 67, 0.15);\n",
              "      fill: #174EA6;\n",
              "    }\n",
              "\n",
              "    .colab-df-buttons div {\n",
              "      margin-bottom: 4px;\n",
              "    }\n",
              "\n",
              "    [theme=dark] .colab-df-convert {\n",
              "      background-color: #3B4455;\n",
              "      fill: #D2E3FC;\n",
              "    }\n",
              "\n",
              "    [theme=dark] .colab-df-convert:hover {\n",
              "      background-color: #434B5C;\n",
              "      box-shadow: 0px 1px 3px 1px rgba(0, 0, 0, 0.15);\n",
              "      filter: drop-shadow(0px 1px 2px rgba(0, 0, 0, 0.3));\n",
              "      fill: #FFFFFF;\n",
              "    }\n",
              "  </style>\n",
              "\n",
              "    <script>\n",
              "      const buttonEl =\n",
              "        document.querySelector('#df-31768d85-d5f7-40e4-bc41-c1f42a4342a6 button.colab-df-convert');\n",
              "      buttonEl.style.display =\n",
              "        google.colab.kernel.accessAllowed ? 'block' : 'none';\n",
              "\n",
              "      async function convertToInteractive(key) {\n",
              "        const element = document.querySelector('#df-31768d85-d5f7-40e4-bc41-c1f42a4342a6');\n",
              "        const dataTable =\n",
              "          await google.colab.kernel.invokeFunction('convertToInteractive',\n",
              "                                                    [key], {});\n",
              "        if (!dataTable) return;\n",
              "\n",
              "        const docLinkHtml = 'Like what you see? Visit the ' +\n",
              "          '<a target=\"_blank\" href=https://colab.research.google.com/notebooks/data_table.ipynb>data table notebook</a>'\n",
              "          + ' to learn more about interactive tables.';\n",
              "        element.innerHTML = '';\n",
              "        dataTable['output_type'] = 'display_data';\n",
              "        await google.colab.output.renderOutput(dataTable, element);\n",
              "        const docLink = document.createElement('div');\n",
              "        docLink.innerHTML = docLinkHtml;\n",
              "        element.appendChild(docLink);\n",
              "      }\n",
              "    </script>\n",
              "  </div>\n",
              "\n",
              "\n",
              "<div id=\"df-bacc94a3-1476-4ecb-93d5-c5225d8a46f8\">\n",
              "  <button class=\"colab-df-quickchart\" onclick=\"quickchart('df-bacc94a3-1476-4ecb-93d5-c5225d8a46f8')\"\n",
              "            title=\"Suggest charts\"\n",
              "            style=\"display:none;\">\n",
              "\n",
              "<svg xmlns=\"http://www.w3.org/2000/svg\" height=\"24px\"viewBox=\"0 0 24 24\"\n",
              "     width=\"24px\">\n",
              "    <g>\n",
              "        <path d=\"M19 3H5c-1.1 0-2 .9-2 2v14c0 1.1.9 2 2 2h14c1.1 0 2-.9 2-2V5c0-1.1-.9-2-2-2zM9 17H7v-7h2v7zm4 0h-2V7h2v10zm4 0h-2v-4h2v4z\"/>\n",
              "    </g>\n",
              "</svg>\n",
              "  </button>\n",
              "\n",
              "<style>\n",
              "  .colab-df-quickchart {\n",
              "      --bg-color: #E8F0FE;\n",
              "      --fill-color: #1967D2;\n",
              "      --hover-bg-color: #E2EBFA;\n",
              "      --hover-fill-color: #174EA6;\n",
              "      --disabled-fill-color: #AAA;\n",
              "      --disabled-bg-color: #DDD;\n",
              "  }\n",
              "\n",
              "  [theme=dark] .colab-df-quickchart {\n",
              "      --bg-color: #3B4455;\n",
              "      --fill-color: #D2E3FC;\n",
              "      --hover-bg-color: #434B5C;\n",
              "      --hover-fill-color: #FFFFFF;\n",
              "      --disabled-bg-color: #3B4455;\n",
              "      --disabled-fill-color: #666;\n",
              "  }\n",
              "\n",
              "  .colab-df-quickchart {\n",
              "    background-color: var(--bg-color);\n",
              "    border: none;\n",
              "    border-radius: 50%;\n",
              "    cursor: pointer;\n",
              "    display: none;\n",
              "    fill: var(--fill-color);\n",
              "    height: 32px;\n",
              "    padding: 0;\n",
              "    width: 32px;\n",
              "  }\n",
              "\n",
              "  .colab-df-quickchart:hover {\n",
              "    background-color: var(--hover-bg-color);\n",
              "    box-shadow: 0 1px 2px rgba(60, 64, 67, 0.3), 0 1px 3px 1px rgba(60, 64, 67, 0.15);\n",
              "    fill: var(--button-hover-fill-color);\n",
              "  }\n",
              "\n",
              "  .colab-df-quickchart-complete:disabled,\n",
              "  .colab-df-quickchart-complete:disabled:hover {\n",
              "    background-color: var(--disabled-bg-color);\n",
              "    fill: var(--disabled-fill-color);\n",
              "    box-shadow: none;\n",
              "  }\n",
              "\n",
              "  .colab-df-spinner {\n",
              "    border: 2px solid var(--fill-color);\n",
              "    border-color: transparent;\n",
              "    border-bottom-color: var(--fill-color);\n",
              "    animation:\n",
              "      spin 1s steps(1) infinite;\n",
              "  }\n",
              "\n",
              "  @keyframes spin {\n",
              "    0% {\n",
              "      border-color: transparent;\n",
              "      border-bottom-color: var(--fill-color);\n",
              "      border-left-color: var(--fill-color);\n",
              "    }\n",
              "    20% {\n",
              "      border-color: transparent;\n",
              "      border-left-color: var(--fill-color);\n",
              "      border-top-color: var(--fill-color);\n",
              "    }\n",
              "    30% {\n",
              "      border-color: transparent;\n",
              "      border-left-color: var(--fill-color);\n",
              "      border-top-color: var(--fill-color);\n",
              "      border-right-color: var(--fill-color);\n",
              "    }\n",
              "    40% {\n",
              "      border-color: transparent;\n",
              "      border-right-color: var(--fill-color);\n",
              "      border-top-color: var(--fill-color);\n",
              "    }\n",
              "    60% {\n",
              "      border-color: transparent;\n",
              "      border-right-color: var(--fill-color);\n",
              "    }\n",
              "    80% {\n",
              "      border-color: transparent;\n",
              "      border-right-color: var(--fill-color);\n",
              "      border-bottom-color: var(--fill-color);\n",
              "    }\n",
              "    90% {\n",
              "      border-color: transparent;\n",
              "      border-bottom-color: var(--fill-color);\n",
              "    }\n",
              "  }\n",
              "</style>\n",
              "\n",
              "  <script>\n",
              "    async function quickchart(key) {\n",
              "      const quickchartButtonEl =\n",
              "        document.querySelector('#' + key + ' button');\n",
              "      quickchartButtonEl.disabled = true;  // To prevent multiple clicks.\n",
              "      quickchartButtonEl.classList.add('colab-df-spinner');\n",
              "      try {\n",
              "        const charts = await google.colab.kernel.invokeFunction(\n",
              "            'suggestCharts', [key], {});\n",
              "      } catch (error) {\n",
              "        console.error('Error during call to suggestCharts:', error);\n",
              "      }\n",
              "      quickchartButtonEl.classList.remove('colab-df-spinner');\n",
              "      quickchartButtonEl.classList.add('colab-df-quickchart-complete');\n",
              "    }\n",
              "    (() => {\n",
              "      let quickchartButtonEl =\n",
              "        document.querySelector('#df-bacc94a3-1476-4ecb-93d5-c5225d8a46f8 button');\n",
              "      quickchartButtonEl.style.display =\n",
              "        google.colab.kernel.accessAllowed ? 'block' : 'none';\n",
              "    })();\n",
              "  </script>\n",
              "</div>\n",
              "    </div>\n",
              "  </div>\n"
            ],
            "application/vnd.google.colaboratory.intrinsic+json": {
              "type": "dataframe",
              "variable_name": "test",
              "summary": "{\n  \"name\": \"test\",\n  \"rows\": 4546,\n  \"fields\": [\n    {\n      \"column\": \"ID\",\n      \"properties\": {\n        \"dtype\": \"number\",\n        \"std\": 116,\n        \"min\": 0,\n        \"max\": 715,\n        \"num_unique_values\": 525,\n        \"samples\": [\n          664,\n          263,\n          161\n        ],\n        \"semantic_type\": \"\",\n        \"description\": \"\"\n      }\n    },\n    {\n      \"column\": \"RecipeNumber\",\n      \"properties\": {\n        \"dtype\": \"number\",\n        \"std\": 30,\n        \"min\": 1,\n        \"max\": 100,\n        \"num_unique_values\": 100,\n        \"samples\": [\n          43,\n          55,\n          79\n        ],\n        \"semantic_type\": \"\",\n        \"description\": \"\"\n      }\n    },\n    {\n      \"column\": \"RecipeCode\",\n      \"properties\": {\n        \"dtype\": \"number\",\n        \"std\": 24211,\n        \"min\": 386,\n        \"max\": 191775,\n        \"num_unique_values\": 100,\n        \"samples\": [\n          33457,\n          38550,\n          33121\n        ],\n        \"semantic_type\": \"\",\n        \"description\": \"\"\n      }\n    },\n    {\n      \"column\": \"RecipeName\",\n      \"properties\": {\n        \"dtype\": \"category\",\n        \"num_unique_values\": 100,\n        \"samples\": [\n          \"Chunky Apple Cake\",\n          \"Special Banana Nut Bread\",\n          \"Chocolate Chip Oatmeal Cookies\"\n        ],\n        \"semantic_type\": \"\",\n        \"description\": \"\"\n      }\n    },\n    {\n      \"column\": \"UserReputation\",\n      \"properties\": {\n        \"dtype\": \"number\",\n        \"std\": 9,\n        \"min\": 0,\n        \"max\": 520,\n        \"num_unique_values\": 14,\n        \"samples\": [\n          60,\n          50,\n          1\n        ],\n        \"semantic_type\": \"\",\n        \"description\": \"\"\n      }\n    },\n    {\n      \"column\": \"CreationTimestamp\",\n      \"properties\": {\n        \"dtype\": \"number\",\n        \"std\": 5542651,\n        \"min\": 1613035422,\n        \"max\": 1665668513,\n        \"num_unique_values\": 1688,\n        \"samples\": [\n          1622718203,\n          1622717537,\n          1622717138\n        ],\n        \"semantic_type\": \"\",\n        \"description\": \"\"\n      }\n    },\n    {\n      \"column\": \"ReplyCount\",\n      \"properties\": {\n        \"dtype\": \"number\",\n        \"std\": 0,\n        \"min\": 0,\n        \"max\": 3,\n        \"num_unique_values\": 4,\n        \"samples\": [\n          1,\n          3,\n          0\n        ],\n        \"semantic_type\": \"\",\n        \"description\": \"\"\n      }\n    },\n    {\n      \"column\": \"ThumbsUpCount\",\n      \"properties\": {\n        \"dtype\": \"number\",\n        \"std\": 4,\n        \"min\": 0,\n        \"max\": 106,\n        \"num_unique_values\": 46,\n        \"samples\": [\n          41,\n          20,\n          30\n        ],\n        \"semantic_type\": \"\",\n        \"description\": \"\"\n      }\n    },\n    {\n      \"column\": \"ThumbsDownCount\",\n      \"properties\": {\n        \"dtype\": \"number\",\n        \"std\": 4,\n        \"min\": 0,\n        \"max\": 122,\n        \"num_unique_values\": 38,\n        \"samples\": [\n          71,\n          69,\n          2\n        ],\n        \"semantic_type\": \"\",\n        \"description\": \"\"\n      }\n    },\n    {\n      \"column\": \"BestScore\",\n      \"properties\": {\n        \"dtype\": \"number\",\n        \"std\": 141,\n        \"min\": 12,\n        \"max\": 931,\n        \"num_unique_values\": 275,\n        \"samples\": [\n          16,\n          858,\n          380\n        ],\n        \"semantic_type\": \"\",\n        \"description\": \"\"\n      }\n    },\n    {\n      \"column\": \"Recipe_Review\",\n      \"properties\": {\n        \"dtype\": \"string\",\n        \"num_unique_values\": 4510,\n        \"samples\": [\n          \"This recipe is excellent!  I&#39;ve been making this each year ever since I found the recipe in Taste of Home!  It is a family favorite during Christmas and into New Year&#39;s.  It is well worth the time, effort and money spent to make it!!\",\n          \"I made this banana bread and have had numerous people ask for the recipe.    Everyone agrees that this is the best banana bread they have ever eaten.  I have made several to give at Christmas.\",\n          \"Spectacular!\"\n        ],\n        \"semantic_type\": \"\",\n        \"description\": \"\"\n      }\n    }\n  ]\n}"
            }
          },
          "metadata": {},
          "execution_count": 173
        }
      ],
      "source": [
        "test"
      ]
    },
    {
      "cell_type": "code",
      "execution_count": null,
      "metadata": {
        "id": "904dfbc5"
      },
      "outputs": [],
      "source": [
        "test_num = test.drop(['Recipe_Review','RecipeName'],axis=1)\n",
        "test_txt = test['Recipe_Review']\n",
        "test_cat = test['RecipeName']"
      ]
    },
    {
      "cell_type": "code",
      "execution_count": null,
      "metadata": {
        "colab": {
          "base_uri": "https://localhost:8080/",
          "height": 423
        },
        "id": "1d89deb8",
        "outputId": "d042a1fc-a7fd-4361-e795-a9b73ef53d8d"
      },
      "outputs": [
        {
          "output_type": "execute_result",
          "data": {
            "text/plain": [
              "       ID  RecipeNumber  RecipeCode  UserReputation  CreationTimestamp  \\\n",
              "0      86            45       41384               1         1622718043   \n",
              "1     102            53        3143               1         1622717685   \n",
              "2     156            53        3143               1         1622718307   \n",
              "3      18            89        1324               1         1622648872   \n",
              "4      27            70       32264               1         1622718460   \n",
              "...   ...           ...         ...             ...                ...   \n",
              "4541  152            32       17310               1         1622717899   \n",
              "4542  121            74       26937               1         1622717990   \n",
              "4543  133            73       41095               1         1622716903   \n",
              "4544   91            12       19731               1         1622718289   \n",
              "4545   72            93       42873               1         1622716916   \n",
              "\n",
              "      ReplyCount  ThumbsUpCount  ThumbsDownCount  BestScore  \n",
              "0              0              0                0        100  \n",
              "1              0              0                1        100  \n",
              "2              0              0                0        100  \n",
              "3              0              4                3        212  \n",
              "4              0              0                1        100  \n",
              "...          ...            ...              ...        ...  \n",
              "4541           0              0                0        100  \n",
              "4542           0              0                0        100  \n",
              "4543           0              0                0        100  \n",
              "4544           0              0                1        100  \n",
              "4545           0              0                0        100  \n",
              "\n",
              "[4546 rows x 9 columns]"
            ],
            "text/html": [
              "\n",
              "  <div id=\"df-c362e9b8-cd59-4140-b341-4290bedfbb9d\" class=\"colab-df-container\">\n",
              "    <div>\n",
              "<style scoped>\n",
              "    .dataframe tbody tr th:only-of-type {\n",
              "        vertical-align: middle;\n",
              "    }\n",
              "\n",
              "    .dataframe tbody tr th {\n",
              "        vertical-align: top;\n",
              "    }\n",
              "\n",
              "    .dataframe thead th {\n",
              "        text-align: right;\n",
              "    }\n",
              "</style>\n",
              "<table border=\"1\" class=\"dataframe\">\n",
              "  <thead>\n",
              "    <tr style=\"text-align: right;\">\n",
              "      <th></th>\n",
              "      <th>ID</th>\n",
              "      <th>RecipeNumber</th>\n",
              "      <th>RecipeCode</th>\n",
              "      <th>UserReputation</th>\n",
              "      <th>CreationTimestamp</th>\n",
              "      <th>ReplyCount</th>\n",
              "      <th>ThumbsUpCount</th>\n",
              "      <th>ThumbsDownCount</th>\n",
              "      <th>BestScore</th>\n",
              "    </tr>\n",
              "  </thead>\n",
              "  <tbody>\n",
              "    <tr>\n",
              "      <th>0</th>\n",
              "      <td>86</td>\n",
              "      <td>45</td>\n",
              "      <td>41384</td>\n",
              "      <td>1</td>\n",
              "      <td>1622718043</td>\n",
              "      <td>0</td>\n",
              "      <td>0</td>\n",
              "      <td>0</td>\n",
              "      <td>100</td>\n",
              "    </tr>\n",
              "    <tr>\n",
              "      <th>1</th>\n",
              "      <td>102</td>\n",
              "      <td>53</td>\n",
              "      <td>3143</td>\n",
              "      <td>1</td>\n",
              "      <td>1622717685</td>\n",
              "      <td>0</td>\n",
              "      <td>0</td>\n",
              "      <td>1</td>\n",
              "      <td>100</td>\n",
              "    </tr>\n",
              "    <tr>\n",
              "      <th>2</th>\n",
              "      <td>156</td>\n",
              "      <td>53</td>\n",
              "      <td>3143</td>\n",
              "      <td>1</td>\n",
              "      <td>1622718307</td>\n",
              "      <td>0</td>\n",
              "      <td>0</td>\n",
              "      <td>0</td>\n",
              "      <td>100</td>\n",
              "    </tr>\n",
              "    <tr>\n",
              "      <th>3</th>\n",
              "      <td>18</td>\n",
              "      <td>89</td>\n",
              "      <td>1324</td>\n",
              "      <td>1</td>\n",
              "      <td>1622648872</td>\n",
              "      <td>0</td>\n",
              "      <td>4</td>\n",
              "      <td>3</td>\n",
              "      <td>212</td>\n",
              "    </tr>\n",
              "    <tr>\n",
              "      <th>4</th>\n",
              "      <td>27</td>\n",
              "      <td>70</td>\n",
              "      <td>32264</td>\n",
              "      <td>1</td>\n",
              "      <td>1622718460</td>\n",
              "      <td>0</td>\n",
              "      <td>0</td>\n",
              "      <td>1</td>\n",
              "      <td>100</td>\n",
              "    </tr>\n",
              "    <tr>\n",
              "      <th>...</th>\n",
              "      <td>...</td>\n",
              "      <td>...</td>\n",
              "      <td>...</td>\n",
              "      <td>...</td>\n",
              "      <td>...</td>\n",
              "      <td>...</td>\n",
              "      <td>...</td>\n",
              "      <td>...</td>\n",
              "      <td>...</td>\n",
              "    </tr>\n",
              "    <tr>\n",
              "      <th>4541</th>\n",
              "      <td>152</td>\n",
              "      <td>32</td>\n",
              "      <td>17310</td>\n",
              "      <td>1</td>\n",
              "      <td>1622717899</td>\n",
              "      <td>0</td>\n",
              "      <td>0</td>\n",
              "      <td>0</td>\n",
              "      <td>100</td>\n",
              "    </tr>\n",
              "    <tr>\n",
              "      <th>4542</th>\n",
              "      <td>121</td>\n",
              "      <td>74</td>\n",
              "      <td>26937</td>\n",
              "      <td>1</td>\n",
              "      <td>1622717990</td>\n",
              "      <td>0</td>\n",
              "      <td>0</td>\n",
              "      <td>0</td>\n",
              "      <td>100</td>\n",
              "    </tr>\n",
              "    <tr>\n",
              "      <th>4543</th>\n",
              "      <td>133</td>\n",
              "      <td>73</td>\n",
              "      <td>41095</td>\n",
              "      <td>1</td>\n",
              "      <td>1622716903</td>\n",
              "      <td>0</td>\n",
              "      <td>0</td>\n",
              "      <td>0</td>\n",
              "      <td>100</td>\n",
              "    </tr>\n",
              "    <tr>\n",
              "      <th>4544</th>\n",
              "      <td>91</td>\n",
              "      <td>12</td>\n",
              "      <td>19731</td>\n",
              "      <td>1</td>\n",
              "      <td>1622718289</td>\n",
              "      <td>0</td>\n",
              "      <td>0</td>\n",
              "      <td>1</td>\n",
              "      <td>100</td>\n",
              "    </tr>\n",
              "    <tr>\n",
              "      <th>4545</th>\n",
              "      <td>72</td>\n",
              "      <td>93</td>\n",
              "      <td>42873</td>\n",
              "      <td>1</td>\n",
              "      <td>1622716916</td>\n",
              "      <td>0</td>\n",
              "      <td>0</td>\n",
              "      <td>0</td>\n",
              "      <td>100</td>\n",
              "    </tr>\n",
              "  </tbody>\n",
              "</table>\n",
              "<p>4546 rows × 9 columns</p>\n",
              "</div>\n",
              "    <div class=\"colab-df-buttons\">\n",
              "\n",
              "  <div class=\"colab-df-container\">\n",
              "    <button class=\"colab-df-convert\" onclick=\"convertToInteractive('df-c362e9b8-cd59-4140-b341-4290bedfbb9d')\"\n",
              "            title=\"Convert this dataframe to an interactive table.\"\n",
              "            style=\"display:none;\">\n",
              "\n",
              "  <svg xmlns=\"http://www.w3.org/2000/svg\" height=\"24px\" viewBox=\"0 -960 960 960\">\n",
              "    <path d=\"M120-120v-720h720v720H120Zm60-500h600v-160H180v160Zm220 220h160v-160H400v160Zm0 220h160v-160H400v160ZM180-400h160v-160H180v160Zm440 0h160v-160H620v160ZM180-180h160v-160H180v160Zm440 0h160v-160H620v160Z\"/>\n",
              "  </svg>\n",
              "    </button>\n",
              "\n",
              "  <style>\n",
              "    .colab-df-container {\n",
              "      display:flex;\n",
              "      gap: 12px;\n",
              "    }\n",
              "\n",
              "    .colab-df-convert {\n",
              "      background-color: #E8F0FE;\n",
              "      border: none;\n",
              "      border-radius: 50%;\n",
              "      cursor: pointer;\n",
              "      display: none;\n",
              "      fill: #1967D2;\n",
              "      height: 32px;\n",
              "      padding: 0 0 0 0;\n",
              "      width: 32px;\n",
              "    }\n",
              "\n",
              "    .colab-df-convert:hover {\n",
              "      background-color: #E2EBFA;\n",
              "      box-shadow: 0px 1px 2px rgba(60, 64, 67, 0.3), 0px 1px 3px 1px rgba(60, 64, 67, 0.15);\n",
              "      fill: #174EA6;\n",
              "    }\n",
              "\n",
              "    .colab-df-buttons div {\n",
              "      margin-bottom: 4px;\n",
              "    }\n",
              "\n",
              "    [theme=dark] .colab-df-convert {\n",
              "      background-color: #3B4455;\n",
              "      fill: #D2E3FC;\n",
              "    }\n",
              "\n",
              "    [theme=dark] .colab-df-convert:hover {\n",
              "      background-color: #434B5C;\n",
              "      box-shadow: 0px 1px 3px 1px rgba(0, 0, 0, 0.15);\n",
              "      filter: drop-shadow(0px 1px 2px rgba(0, 0, 0, 0.3));\n",
              "      fill: #FFFFFF;\n",
              "    }\n",
              "  </style>\n",
              "\n",
              "    <script>\n",
              "      const buttonEl =\n",
              "        document.querySelector('#df-c362e9b8-cd59-4140-b341-4290bedfbb9d button.colab-df-convert');\n",
              "      buttonEl.style.display =\n",
              "        google.colab.kernel.accessAllowed ? 'block' : 'none';\n",
              "\n",
              "      async function convertToInteractive(key) {\n",
              "        const element = document.querySelector('#df-c362e9b8-cd59-4140-b341-4290bedfbb9d');\n",
              "        const dataTable =\n",
              "          await google.colab.kernel.invokeFunction('convertToInteractive',\n",
              "                                                    [key], {});\n",
              "        if (!dataTable) return;\n",
              "\n",
              "        const docLinkHtml = 'Like what you see? Visit the ' +\n",
              "          '<a target=\"_blank\" href=https://colab.research.google.com/notebooks/data_table.ipynb>data table notebook</a>'\n",
              "          + ' to learn more about interactive tables.';\n",
              "        element.innerHTML = '';\n",
              "        dataTable['output_type'] = 'display_data';\n",
              "        await google.colab.output.renderOutput(dataTable, element);\n",
              "        const docLink = document.createElement('div');\n",
              "        docLink.innerHTML = docLinkHtml;\n",
              "        element.appendChild(docLink);\n",
              "      }\n",
              "    </script>\n",
              "  </div>\n",
              "\n",
              "\n",
              "<div id=\"df-d67ffe9d-ba23-4a96-ac58-b010c70cfdd0\">\n",
              "  <button class=\"colab-df-quickchart\" onclick=\"quickchart('df-d67ffe9d-ba23-4a96-ac58-b010c70cfdd0')\"\n",
              "            title=\"Suggest charts\"\n",
              "            style=\"display:none;\">\n",
              "\n",
              "<svg xmlns=\"http://www.w3.org/2000/svg\" height=\"24px\"viewBox=\"0 0 24 24\"\n",
              "     width=\"24px\">\n",
              "    <g>\n",
              "        <path d=\"M19 3H5c-1.1 0-2 .9-2 2v14c0 1.1.9 2 2 2h14c1.1 0 2-.9 2-2V5c0-1.1-.9-2-2-2zM9 17H7v-7h2v7zm4 0h-2V7h2v10zm4 0h-2v-4h2v4z\"/>\n",
              "    </g>\n",
              "</svg>\n",
              "  </button>\n",
              "\n",
              "<style>\n",
              "  .colab-df-quickchart {\n",
              "      --bg-color: #E8F0FE;\n",
              "      --fill-color: #1967D2;\n",
              "      --hover-bg-color: #E2EBFA;\n",
              "      --hover-fill-color: #174EA6;\n",
              "      --disabled-fill-color: #AAA;\n",
              "      --disabled-bg-color: #DDD;\n",
              "  }\n",
              "\n",
              "  [theme=dark] .colab-df-quickchart {\n",
              "      --bg-color: #3B4455;\n",
              "      --fill-color: #D2E3FC;\n",
              "      --hover-bg-color: #434B5C;\n",
              "      --hover-fill-color: #FFFFFF;\n",
              "      --disabled-bg-color: #3B4455;\n",
              "      --disabled-fill-color: #666;\n",
              "  }\n",
              "\n",
              "  .colab-df-quickchart {\n",
              "    background-color: var(--bg-color);\n",
              "    border: none;\n",
              "    border-radius: 50%;\n",
              "    cursor: pointer;\n",
              "    display: none;\n",
              "    fill: var(--fill-color);\n",
              "    height: 32px;\n",
              "    padding: 0;\n",
              "    width: 32px;\n",
              "  }\n",
              "\n",
              "  .colab-df-quickchart:hover {\n",
              "    background-color: var(--hover-bg-color);\n",
              "    box-shadow: 0 1px 2px rgba(60, 64, 67, 0.3), 0 1px 3px 1px rgba(60, 64, 67, 0.15);\n",
              "    fill: var(--button-hover-fill-color);\n",
              "  }\n",
              "\n",
              "  .colab-df-quickchart-complete:disabled,\n",
              "  .colab-df-quickchart-complete:disabled:hover {\n",
              "    background-color: var(--disabled-bg-color);\n",
              "    fill: var(--disabled-fill-color);\n",
              "    box-shadow: none;\n",
              "  }\n",
              "\n",
              "  .colab-df-spinner {\n",
              "    border: 2px solid var(--fill-color);\n",
              "    border-color: transparent;\n",
              "    border-bottom-color: var(--fill-color);\n",
              "    animation:\n",
              "      spin 1s steps(1) infinite;\n",
              "  }\n",
              "\n",
              "  @keyframes spin {\n",
              "    0% {\n",
              "      border-color: transparent;\n",
              "      border-bottom-color: var(--fill-color);\n",
              "      border-left-color: var(--fill-color);\n",
              "    }\n",
              "    20% {\n",
              "      border-color: transparent;\n",
              "      border-left-color: var(--fill-color);\n",
              "      border-top-color: var(--fill-color);\n",
              "    }\n",
              "    30% {\n",
              "      border-color: transparent;\n",
              "      border-left-color: var(--fill-color);\n",
              "      border-top-color: var(--fill-color);\n",
              "      border-right-color: var(--fill-color);\n",
              "    }\n",
              "    40% {\n",
              "      border-color: transparent;\n",
              "      border-right-color: var(--fill-color);\n",
              "      border-top-color: var(--fill-color);\n",
              "    }\n",
              "    60% {\n",
              "      border-color: transparent;\n",
              "      border-right-color: var(--fill-color);\n",
              "    }\n",
              "    80% {\n",
              "      border-color: transparent;\n",
              "      border-right-color: var(--fill-color);\n",
              "      border-bottom-color: var(--fill-color);\n",
              "    }\n",
              "    90% {\n",
              "      border-color: transparent;\n",
              "      border-bottom-color: var(--fill-color);\n",
              "    }\n",
              "  }\n",
              "</style>\n",
              "\n",
              "  <script>\n",
              "    async function quickchart(key) {\n",
              "      const quickchartButtonEl =\n",
              "        document.querySelector('#' + key + ' button');\n",
              "      quickchartButtonEl.disabled = true;  // To prevent multiple clicks.\n",
              "      quickchartButtonEl.classList.add('colab-df-spinner');\n",
              "      try {\n",
              "        const charts = await google.colab.kernel.invokeFunction(\n",
              "            'suggestCharts', [key], {});\n",
              "      } catch (error) {\n",
              "        console.error('Error during call to suggestCharts:', error);\n",
              "      }\n",
              "      quickchartButtonEl.classList.remove('colab-df-spinner');\n",
              "      quickchartButtonEl.classList.add('colab-df-quickchart-complete');\n",
              "    }\n",
              "    (() => {\n",
              "      let quickchartButtonEl =\n",
              "        document.querySelector('#df-d67ffe9d-ba23-4a96-ac58-b010c70cfdd0 button');\n",
              "      quickchartButtonEl.style.display =\n",
              "        google.colab.kernel.accessAllowed ? 'block' : 'none';\n",
              "    })();\n",
              "  </script>\n",
              "</div>\n",
              "    </div>\n",
              "  </div>\n"
            ],
            "application/vnd.google.colaboratory.intrinsic+json": {
              "type": "dataframe",
              "variable_name": "test_num",
              "summary": "{\n  \"name\": \"test_num\",\n  \"rows\": 4546,\n  \"fields\": [\n    {\n      \"column\": \"ID\",\n      \"properties\": {\n        \"dtype\": \"number\",\n        \"std\": 116,\n        \"min\": 0,\n        \"max\": 715,\n        \"num_unique_values\": 525,\n        \"samples\": [\n          664,\n          263,\n          161\n        ],\n        \"semantic_type\": \"\",\n        \"description\": \"\"\n      }\n    },\n    {\n      \"column\": \"RecipeNumber\",\n      \"properties\": {\n        \"dtype\": \"number\",\n        \"std\": 30,\n        \"min\": 1,\n        \"max\": 100,\n        \"num_unique_values\": 100,\n        \"samples\": [\n          43,\n          55,\n          79\n        ],\n        \"semantic_type\": \"\",\n        \"description\": \"\"\n      }\n    },\n    {\n      \"column\": \"RecipeCode\",\n      \"properties\": {\n        \"dtype\": \"number\",\n        \"std\": 24211,\n        \"min\": 386,\n        \"max\": 191775,\n        \"num_unique_values\": 100,\n        \"samples\": [\n          33457,\n          38550,\n          33121\n        ],\n        \"semantic_type\": \"\",\n        \"description\": \"\"\n      }\n    },\n    {\n      \"column\": \"UserReputation\",\n      \"properties\": {\n        \"dtype\": \"number\",\n        \"std\": 9,\n        \"min\": 0,\n        \"max\": 520,\n        \"num_unique_values\": 14,\n        \"samples\": [\n          60,\n          50,\n          1\n        ],\n        \"semantic_type\": \"\",\n        \"description\": \"\"\n      }\n    },\n    {\n      \"column\": \"CreationTimestamp\",\n      \"properties\": {\n        \"dtype\": \"number\",\n        \"std\": 5542651,\n        \"min\": 1613035422,\n        \"max\": 1665668513,\n        \"num_unique_values\": 1688,\n        \"samples\": [\n          1622718203,\n          1622717537,\n          1622717138\n        ],\n        \"semantic_type\": \"\",\n        \"description\": \"\"\n      }\n    },\n    {\n      \"column\": \"ReplyCount\",\n      \"properties\": {\n        \"dtype\": \"number\",\n        \"std\": 0,\n        \"min\": 0,\n        \"max\": 3,\n        \"num_unique_values\": 4,\n        \"samples\": [\n          1,\n          3,\n          0\n        ],\n        \"semantic_type\": \"\",\n        \"description\": \"\"\n      }\n    },\n    {\n      \"column\": \"ThumbsUpCount\",\n      \"properties\": {\n        \"dtype\": \"number\",\n        \"std\": 4,\n        \"min\": 0,\n        \"max\": 106,\n        \"num_unique_values\": 46,\n        \"samples\": [\n          41,\n          20,\n          30\n        ],\n        \"semantic_type\": \"\",\n        \"description\": \"\"\n      }\n    },\n    {\n      \"column\": \"ThumbsDownCount\",\n      \"properties\": {\n        \"dtype\": \"number\",\n        \"std\": 4,\n        \"min\": 0,\n        \"max\": 122,\n        \"num_unique_values\": 38,\n        \"samples\": [\n          71,\n          69,\n          2\n        ],\n        \"semantic_type\": \"\",\n        \"description\": \"\"\n      }\n    },\n    {\n      \"column\": \"BestScore\",\n      \"properties\": {\n        \"dtype\": \"number\",\n        \"std\": 141,\n        \"min\": 12,\n        \"max\": 931,\n        \"num_unique_values\": 275,\n        \"samples\": [\n          16,\n          858,\n          380\n        ],\n        \"semantic_type\": \"\",\n        \"description\": \"\"\n      }\n    }\n  ]\n}"
            }
          },
          "metadata": {},
          "execution_count": 175
        }
      ],
      "source": [
        "test_num"
      ]
    },
    {
      "cell_type": "code",
      "execution_count": null,
      "metadata": {
        "colab": {
          "base_uri": "https://localhost:8080/"
        },
        "id": "6e7cc516",
        "outputId": "5a17d0be-4099-4335-c0fc-2bd5d172e592"
      },
      "outputs": [
        {
          "output_type": "stream",
          "name": "stdout",
          "text": [
            "(4546, 9)\n"
          ]
        }
      ],
      "source": [
        "#Using the StandardScaler pipeline on  numericals of test set\n",
        "test_ss = pipe_ss.fit_transform(test_num)\n",
        "print(test_ss.shape)"
      ]
    },
    {
      "cell_type": "code",
      "execution_count": null,
      "metadata": {
        "id": "3e27abaa"
      },
      "outputs": [],
      "source": [
        "test_txt_vec = tfidf.transform(test_txt)"
      ]
    },
    {
      "cell_type": "code",
      "execution_count": null,
      "metadata": {
        "id": "uLD3b0av_TLZ"
      },
      "outputs": [],
      "source": [
        "test_txt_vec_lsa = lsa_model.transform(test_txt_vec)"
      ]
    },
    {
      "cell_type": "code",
      "execution_count": null,
      "metadata": {
        "colab": {
          "base_uri": "https://localhost:8080/"
        },
        "id": "-pstZiD-CrU_",
        "outputId": "eb99157e-5c8b-44d9-c005-cf7f62bd4cc9"
      },
      "outputs": [
        {
          "output_type": "execute_result",
          "data": {
            "text/plain": [
              "(4546, 100)"
            ]
          },
          "metadata": {},
          "execution_count": 179
        }
      ],
      "source": [
        "test_txt_vec_lsa.shape"
      ]
    },
    {
      "cell_type": "code",
      "execution_count": null,
      "metadata": {
        "colab": {
          "base_uri": "https://localhost:8080/"
        },
        "id": "EF-CUaardc7c",
        "outputId": "3b901476-4fca-4ac8-e7e2-2ec37ec75073"
      },
      "outputs": [
        {
          "output_type": "stream",
          "name": "stdout",
          "text": [
            "(4546, 100)\n"
          ]
        }
      ],
      "source": [
        "test_cat = pd.get_dummies(test_cat,columns=['RecipeName'])\n",
        "print(test_cat.shape)"
      ]
    },
    {
      "cell_type": "code",
      "execution_count": null,
      "metadata": {
        "colab": {
          "base_uri": "https://localhost:8080/"
        },
        "id": "9228e298",
        "outputId": "977f4d29-b3ad-4ff5-ee8b-1f9d4a8a1c39"
      },
      "outputs": [
        {
          "output_type": "stream",
          "name": "stdout",
          "text": [
            "(4546, 209)\n"
          ]
        }
      ],
      "source": [
        "test_stacked =  np.hstack([test_ss,test_cat.to_numpy(),test_txt_vec_lsa])\n",
        "print(test_stacked.shape)"
      ]
    },
    {
      "cell_type": "code",
      "execution_count": null,
      "metadata": {
        "id": "6ec043c2"
      },
      "outputs": [],
      "source": [
        "test_predictions = xgb_model.predict(test_stacked)"
      ]
    },
    {
      "cell_type": "code",
      "execution_count": null,
      "metadata": {
        "id": "44a76065"
      },
      "outputs": [],
      "source": [
        "# Prepare submission file\n",
        "submission = pd.DataFrame({'ID': range(1,len(test_predictions)+1) , 'Rating': test_predictions})\n",
        "submission.to_csv('submission.csv', index=False)"
      ]
    },
    {
      "cell_type": "code",
      "execution_count": null,
      "metadata": {
        "colab": {
          "base_uri": "https://localhost:8080/"
        },
        "id": "PKW3nUjp0qPx",
        "outputId": "579e6835-2aae-4189-8a78-22ec6dc4beca"
      },
      "outputs": [
        {
          "output_type": "stream",
          "name": "stdout",
          "text": [
            "SCORES: {'LogisticRegressor': 0.7759442610927759, 'LogisticRegressor_hpt': 0.7759442610927759, 'KNNClassifier': 0.7352401906857352, 'KNNClassifier_hpt': 0.7697103043637697, 'SVM': 0.7667766776677668, 'SVM_hpt': 0.7785111844517785, 'DecisionTree': 0.7785111844517785, 'RandomForest': 0.7697103043637697, 'XGBoost': 0.784011734506784, 'XGBoost_hpt': 0.7825449211587825, 'lgb_hpt': 0.7788778877887789}\n",
            "ERRORS: {'LogisticRegressor': 0.6160616061606161, 'LogisticRegressor_hpt': 0.6160616061606161, 'KNNClassifier': 0.7198386505317198, 'KNNClassifier_hpt': 0.6354968830216355, 'SVM': 0.6633663366336634, 'SVM_hpt': 0.6028602860286029, 'DecisionTree': 0.6028602860286029, 'RandomForest': 0.6615328199486615, 'XGBoost': 0.5881921525485881, 'Xgboost_hpt': 0.5911257792445911, 'lgb_hpt': 0.6145947928126146}\n",
            "SUBMISSIONS {'LogisticRegressor': 0.77034, 'LogisticRegressor_hpt': 0.76902, 'KNNClassifier': 0.72701, 'KNNClassifier_hpt': 0.7765, 'RandomForest': 0.77012, 'XGBoost_hpt': 0.7809}\n"
          ]
        }
      ],
      "source": [
        "print(\"SCORES:\", Scores)\n",
        "print(\"ERRORS:\", Errors)\n",
        "print(\"SUBMISSIONS\",Submissions)"
      ]
    },
    {
      "cell_type": "code",
      "execution_count": null,
      "metadata": {
        "colab": {
          "base_uri": "https://localhost:8080/",
          "height": 1000
        },
        "id": "5udf1WvR0x8L",
        "outputId": "e9c10d9d-a219-43dd-cc8b-1cef25b526ff"
      },
      "outputs": [
        {
          "output_type": "display_data",
          "data": {
            "text/plain": [
              "<Figure size 1200x600 with 1 Axes>"
            ],
            "image/png": "[encoded data removed]"
          },
          "metadata": {}
        },
        {
          "output_type": "display_data",
          "data": {
            "text/plain": [
              "<Figure size 1200x600 with 1 Axes>"
            ],
            "image/png": "[encoded data removed]"
          },
          "metadata": {}
        },
        {
          "output_type": "display_data",
          "data": {
            "text/plain": [
              "<Figure size 1200x600 with 1 Axes>"
            ],
            "image/png": "[encoded data removed]"
          },
          "metadata": {}
        }
      ],
      "source": [
        "##Scatter plot for Accuracy Scores\n",
        "\n",
        "plt.figure(figsize=(12,6))\n",
        "plt.scatter(list(Scores.keys()), list(Scores.values()), label='SCORES', marker='o', color='blue')\n",
        "plt.ylim(0.72, 0.8)\n",
        "plt.xlabel('Models')\n",
        "plt.ylabel('SCORES')\n",
        "plt.title('Scatter Plot of SCORES')\n",
        "plt.xticks(rotation=45, ha='right')\n",
        "plt.legend()\n",
        "plt.tight_layout()\n",
        "plt.show()\n",
        "\n",
        "##SCATTER PLOT FOR SUBMISSIONS\n",
        "\n",
        "plt.figure(figsize=(12,6))\n",
        "plt.scatter( x = list(Submissions.keys()), y=list(Submissions.values()),label='SUBMISSIONS',marker='o',color='green')\n",
        "plt.ylim(0.725,0.785)\n",
        "plt.xlabel('MODELS')\n",
        "plt.ylabel('SUBMISSION SCORES')\n",
        "plt.xticks(rotation=45,ha='right')\n",
        "plt.legend()\n",
        "plt.tight_layout()\n",
        "plt.show()\n",
        "\n",
        "##SCATTER PLOT FOR ERRORS\n",
        "\n",
        "plt.figure(figsize=(12, 6))\n",
        "plt.scatter(list(Errors.keys()), list(Errors.values()), label='ERRORS', marker='o', color='red')\n",
        "plt.ylim(0.57, 0.72)\n",
        "plt.xlabel('Models')\n",
        "plt.ylabel('ERRORS')\n",
        "plt.title('Scatter Plot of ERRORS')\n",
        "plt.xticks(rotation=45, ha='right')\n",
        "plt.legend()\n",
        "plt.tight_layout()\n",
        "plt.show()"
      ]
    },
    {
      "cell_type": "markdown",
      "metadata": {
        "id": "c3d31753"
      },
      "source": [
        "# Accuracy of the Models are :\n",
        "- Logistic Regression\n",
        "   - Training Accuracy: 0.7768\n",
        "   - Validation Accuracy: 0.7737\n",
        "\n",
        "- KNN\n",
        "   - Training Accuracy: 1.0\n",
        "   - Validation Accuracy:  0.7730\n",
        "\n",
        "- Decision Tree\n",
        "   - Training Score: 1.0\n",
        "   - Validation score: 0.7730\n",
        "  \n",
        "- Random Forest\n",
        "    - Training Score: 1.0\n",
        "    - Validation score: 0.7733\n",
        "\n",
        "- Gradient Boosting\n",
        "    - Training Score: 0.8269\n",
        "    - Validation Score: 0.7704\n",
        "\n",
        "- XGboost classifier\n",
        "    - Training Score: 0.9415\n",
        "    - Validation score: 0.7737"
      ]
    },
    {
      "cell_type": "markdown",
      "metadata": {
        "id": "431cfaaf"
      },
      "source": [
        "# Conclusion\n",
        "> **XGBoostClassifier , Logistic Regression and Randomforest classifier are some of the best performing models**\n",
        "\n",
        "> **Best HyperParameters for XGBoostClassifier:- {'learning_rate': 0.2, 'max_depth': 7, 'n_estimators': 100}**\n",
        "\n",
        "> **Best submission score achieved 0.7809 by XGBoostClassifier**"
      ]
    }
  ],
  "metadata": {
    "colab": {
      "provenance": []
    },
    "kaggle": {
      "accelerator": "none",
      "dataSources": [
        {
          "databundleVersionId": 7452256,
          "sourceId": 67079,
          "sourceType": "competition"
        },
        {
          "datasetId": 4424245,
          "sourceId": 7600151,
          "sourceType": "datasetVersion"
        }
      ],
      "dockerImageVersionId": 30664,
      "isGpuEnabled": false,
      "isInternetEnabled": true,
      "language": "python",
      "sourceType": "notebook"
    },
    "kernelspec": {
      "display_name": "Python 3",
      "language": "python",
      "name": "python3"
    },
    "language_info": {
      "codemirror_mode": {
        "name": "ipython",
        "version": 3
      },
      "file_extension": ".py",
      "mimetype": "text/x-python",
      "name": "python",
      "nbconvert_exporter": "python",
      "pygments_lexer": "ipython3",
      "version": "3.10.13"
    },
    "papermill": {
      "default_parameters": {},
      "duration": 161.449378,
      "end_time": "2024-03-03T13:13:44.374235",
      "environment_variables": {},
      "exception": null,
      "input_path": "__notebook__.ipynb",
      "output_path": "__notebook__.ipynb",
      "parameters": {},
      "start_time": "2024-03-03T13:11:02.924857",
      "version": "2.5.0"
    }
  },
  "nbformat": 4,
  "nbformat_minor": 0
}